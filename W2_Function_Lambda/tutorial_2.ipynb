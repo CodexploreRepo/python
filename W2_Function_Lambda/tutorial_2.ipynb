{
 "cells": [
  {
   "cell_type": "markdown",
   "metadata": {},
   "source": [
    "### Question 2.21: Elevator -- return correct floor"
   ]
  },
  {
   "cell_type": "markdown",
   "metadata": {},
   "source": [
    "The code below defines an *Elevator* class. The elevator has a current floor, it also has a top and a bottom floor that are the minimum and maximum floors it can go to. This elevator only has odd numbered floor. Fill in the blanks to make the elevator go through the floors requested."
   ]
  },
  {
   "cell_type": "code",
   "execution_count": null,
   "metadata": {},
   "outputs": [],
   "source": [
    "class Elevator:\n",
    "    def __init__(self, bottom, top, current):\n",
    "        \"\"\"Initializes the Elevator instance. \n",
    "        If the number of current floor is not an odd number, \n",
    "        the current floor will be one level below the desired floor.\"\"\"\n",
    "\n",
    "    def up(self):\n",
    "        \"\"\"Makes the elevator go up to the next possible floor.\"\"\"\n",
    "\n",
    "    def down(self):\n",
    "        \"\"\"Makes the elevator go down to the next possible floor.\"\"\"\n",
    "\n",
    "    def go_to(self, floor):\n",
    "        \"\"\"Makes the elevator go to the specific floor.\n",
    "        If the number of specific floor is not an odd number, \n",
    "        the specific floor will be one level below the desired floor.\"\"\"\n",
    "\n",
    "    def __str__(self):\n",
    "        return \"Current floor: \" + str(self.current)\n",
    "\n",
    "elevator = Elevator(-1, 11, 2)"
   ]
  },
  {
   "cell_type": "markdown",
   "metadata": {},
   "source": [
    "To test whether your *Elevator* class is working correctly, run the code blocks below."
   ]
  },
  {
   "cell_type": "code",
   "execution_count": null,
   "metadata": {},
   "outputs": [],
   "source": [
    "elevator.up()\n",
    "elevator.current #should output 3"
   ]
  },
  {
   "cell_type": "code",
   "execution_count": null,
   "metadata": {},
   "outputs": [],
   "source": [
    "elevator.down() \n",
    "elevator.current #should output 1"
   ]
  },
  {
   "cell_type": "code",
   "execution_count": null,
   "metadata": {},
   "outputs": [],
   "source": [
    "elevator.go_to(9) \n",
    "elevator.current #should output 9"
   ]
  },
  {
   "cell_type": "code",
   "execution_count": null,
   "metadata": {},
   "outputs": [],
   "source": [
    "# Go to the top floor. Try to go up, it should stay. Then go down.\n",
    "elevator.go_to(11)\n",
    "elevator.up()\n",
    "elevator.down()\n",
    "print(elevator.current) # should be 9"
   ]
  },
  {
   "cell_type": "code",
   "execution_count": null,
   "metadata": {},
   "outputs": [],
   "source": [
    "# Try to go up, then go down.\n",
    "elevator.go_to(10)\n",
    "elevator.up()\n",
    "elevator.down()\n",
    "print(elevator.current) # should be 9, why?"
   ]
  },
  {
   "cell_type": "code",
   "execution_count": null,
   "metadata": {},
   "outputs": [],
   "source": [
    "# Go to the bottom floor. Try to go down, it should stay. Then go up.\n",
    "elevator.go_to(-1)\n",
    "print(elevator.current) # should be -1\n",
    "elevator.down()\n",
    "elevator.down()\n",
    "elevator.up()\n",
    "elevator.up()\n",
    "print(elevator.current) # should be 3"
   ]
  },
  {
   "cell_type": "markdown",
   "metadata": {},
   "source": [
    "Now add the __str__ method to your *Elevator* class definition above so that when printing the elevator using the **print( )** method, we get the current floor together with a message. For example, in the 5th floor it should say \"Current floor: 5\""
   ]
  },
  {
   "cell_type": "code",
   "execution_count": null,
   "metadata": {},
   "outputs": [],
   "source": [
    "elevator.go_to(5)\n",
    "print(elevator)"
   ]
  },
  {
   "cell_type": "markdown",
   "metadata": {},
   "source": [
    "### Question 2.22: Netflix"
   ]
  },
  {
   "cell_type": "markdown",
   "metadata": {},
   "source": [
    "The code below defines a *Netflix* class. The Netflix application stores titles and years."
   ]
  },
  {
   "cell_type": "code",
   "execution_count": null,
   "metadata": {},
   "outputs": [],
   "source": [
    "class Netflix:\n",
    "    def __init__(self, title, year):\n"
   ]
  },
  {
   "cell_type": "code",
   "execution_count": null,
   "metadata": {},
   "outputs": [],
   "source": [
    "netflix = Netflix('The call', 2020)\n",
    "print(netflix)"
   ]
  },
  {
   "cell_type": "markdown",
   "metadata": {},
   "source": [
    "What if we want to search movie by actor/actress's name and year? We would also like to check the movie length before we watch."
   ]
  },
  {
   "cell_type": "code",
   "execution_count": null,
   "metadata": {},
   "outputs": [],
   "source": [
    "class StructuredNetflix:\n",
    "    def __init__(self, title, cast, length, year):\n",
    "\n",
    "        \n",
    "    def display(self):\n"
   ]
  },
  {
   "cell_type": "code",
   "execution_count": null,
   "metadata": {},
   "outputs": [],
   "source": [
    "netflix = StructuredNetflix('The call', ['Park Shine-hye', 'Jun Jong-seo', 'Kim Sung-ryoung'], '1h 52m', 2020)\n",
    "netflix.display()"
   ]
  },
  {
   "cell_type": "markdown",
   "metadata": {},
   "source": [
    "Expected output: <br>\n",
    "Title: The call <br>\n",
    "Year: 2020 <br>\n",
    "Cast: Park Shine-hye, Jun Jong-seo, Kim Sung-ryoung <br>\n",
    "Movie length: 1h 52m"
   ]
  },
  {
   "cell_type": "markdown",
   "metadata": {},
   "source": [
    "Now, if we have a list of StructuredNetflix objects and we want to find all of the ones that Park Shine-hye acted and shows in 2020 except the movie we just watched ('The call')"
   ]
  },
  {
   "cell_type": "code",
   "execution_count": null,
   "metadata": {},
   "outputs": [],
   "source": [
    "netList = [StructuredNetflix('The call', ['Park Shine-hye', 'Jun Jong-seo', 'Kim Sung-ryoung'], '1h 52m', 2020),\n",
    "          StructuredNetflix('Alive', ['Yoo Ah-in', 'Park Shine-hye'], '1h 38m', 2020),\n",
    "          StructuredNetflix('Miss Americana', ['Taloy Swift'], '1h 25m', 2020)]"
   ]
  },
  {
   "cell_type": "code",
   "execution_count": null,
   "metadata": {},
   "outputs": [],
   "source": [
    "# Write your code here"
   ]
  },
  {
   "cell_type": "markdown",
   "metadata": {},
   "source": [
    "Expected output:<br>\n",
    "Title: Alive<br>\n",
    "Year: 2020<br>\n",
    "Cast: Yoo Ah-in, Park Shine-hye<br>\n",
    "Movie length: 1h 38m"
   ]
  },
  {
   "cell_type": "markdown",
   "metadata": {},
   "source": [
    "But now we have another problem. Our StructuredAddress works fine for movies, but not for TV series. We might improve the **display()** method to handle lengths for movies and seasons for TV series. We also handle season update by method **update_season()**"
   ]
  },
  {
   "cell_type": "code",
   "execution_count": null,
   "metadata": {},
   "outputs": [],
   "source": [
    "#Write your code here\n",
    "class BaseNetflix:\n",
    "    def __init__(self, title, cast, year):\n",
    "\n",
    "        \n",
    "    def display(self):\n",
    "\n",
    "\n",
    "    def validate(self):\n",
    "\n",
    "\n",
    "class Movie(BaseNetflix):\n",
    "    def __init__(self, title, cast, year, length):\n",
    "\n",
    "\n",
    "    def display(self):\n",
    "\n",
    "\n",
    "class TVseries(BaseNetflix):\n",
    "    def __init__(self, title, cast, year, season):\n",
    "\n",
    "\n",
    "    def display(self):\n",
    "\n",
    "\n",
    "    def update_season(self):\n"
   ]
  },
  {
   "cell_type": "code",
   "execution_count": null,
   "metadata": {},
   "outputs": [],
   "source": [
    "#Test your code here\n",
    "movie = Movie('The call', ['Park Shine-hye', 'Jun Jong-seo', 'Kim Sung-ryoung'], 2020, '1h 52m')\n",
    "movie.display()"
   ]
  },
  {
   "cell_type": "markdown",
   "metadata": {},
   "source": [
    "Expected output: <br>\n",
    "Title: The call <br>\n",
    "Year: 2020 <br>\n",
    "Cast: Park Shine-hye, Jun Jong-seo, Kim Sung-ryoung <br>\n",
    "Movie length: 1h 52m"
   ]
  },
  {
   "cell_type": "code",
   "execution_count": null,
   "metadata": {},
   "outputs": [],
   "source": [
    "#Test your code here\n",
    "tv = TVseries('The crown', ['Olivia Colman', 'Tobias Menzies'], 2020, 4)\n",
    "tv.display()"
   ]
  },
  {
   "cell_type": "markdown",
   "metadata": {},
   "source": [
    "Expected output: <br>\n",
    "Title: The crown <br>\n",
    "Year: 2020 <br>\n",
    "Cast: Olivia Colman, Tobias Menzies <br>\n",
    "Seasons: 4"
   ]
  },
  {
   "cell_type": "code",
   "execution_count": null,
   "metadata": {},
   "outputs": [],
   "source": [
    "tv.update_season()"
   ]
  },
  {
   "cell_type": "markdown",
   "metadata": {},
   "source": [
    "Expected output: <br>\n",
    "Title: The crown <br>\n",
    "Year: 2020 <br>\n",
    "Cast: Olivia Colman, Tobias Menzies <br>\n",
    "Seasons: 4 <br>\n",
    "After update <br>\n",
    "Title: The crown <br>\n",
    "Year: 2020 <br>\n",
    "Cast: Olivia Colman, Tobias Menzies <br>\n",
    "Seasons: 5"
   ]
  },
  {
   "cell_type": "markdown",
   "metadata": {},
   "source": [
    "### Question 2.23: Teaching load"
   ]
  },
  {
   "cell_type": "markdown",
   "metadata": {},
   "source": [
    "The code below defines a *Professor* class. This class is to record the number of active courses and the complexity level of those active courses that the professor is teaching in the current term."
   ]
  },
  {
   "cell_type": "code",
   "execution_count": null,
   "metadata": {},
   "outputs": [],
   "source": [
    "import random\n",
    "\n",
    "class Professor:\n",
    "    def __init__(self):\n",
    "        \"\"\"Creates a new instance, with no active courses.\"\"\"\n",
    "\n",
    "    def add_course(self, course_id):\n",
    "        \"\"\"Adds a new course to this professor.\"\"\"\n",
    "        # Add the course to the dictionary with the randomly generated complexity level of the course (random.random()*10)\n",
    "\n",
    "\n",
    "    def deactive_course(self, course_id):\n",
    "        \"\"\"Deactive the course.\"\"\"\n",
    "        # Remove the course from the dictionary\n",
    "\n",
    "    def load(self):\n",
    "        \"\"\"Calculates the current load (sum of complexity level) for all courses.\"\"\"\n",
    "        total = 0\n",
    "        # Add up the level of complexity for each course\n",
    "\n",
    "        return total\n",
    "\n",
    "    def __str__(self):\n",
    "        \"\"\"Returns a string with the current load of the professor\"\"\"\n",
    "\n",
    "    \n",
    "    def __lt__(self, other):\n",
    "         return self.load() < other.load()"
   ]
  },
  {
   "cell_type": "code",
   "execution_count": null,
   "metadata": {},
   "outputs": [],
   "source": [
    "prof = Professor()\n",
    "prof.add_course('cs604')\n",
    "\n",
    "print(prof.load())"
   ]
  },
  {
   "cell_type": "code",
   "execution_count": null,
   "metadata": {},
   "outputs": [],
   "source": [
    "prof.deactive_course('cs604')\n",
    "print(prof.load()) # should be 0"
   ]
  },
  {
   "cell_type": "markdown",
   "metadata": {},
   "source": [
    "We now have a basic implementation of the *Professor* class. What if we wish to balance the load between all professors by assigning new course to the professor who is with lowest load and hiring a new professor if the average load is more than 50? The code below defines a *LoadBalancing* class."
   ]
  },
  {
   "cell_type": "code",
   "execution_count": null,
   "metadata": {},
   "outputs": [],
   "source": [
    "class LoadBalancing:\n",
    "    def __init__(self):\n",
    "        \"\"\"Initialize with one professor\"\"\"\n",
    "\n",
    "\n",
    "    def add_course(self, course_id):\n",
    "        \"\"\"Selects a professor that has lowest load and adds a course to him/ her.\"\"\"\n",
    "        tmp = self.profs.copy()\n",
    "        tmp.sort()\n",
    "        prof = tmp[0]\n",
    "        # Add the course to the dictionary with the selected professor\n",
    "        # Add the course to the professor\n",
    "\n",
    "\n",
    "    def deactive_course(self, course_id):\n",
    "        \"\"\"Deactive the course that assigned to the prof.\"\"\"\n",
    "        # Find out prof that is teaching this course\n",
    "        # Deactive the course for the professor\n",
    "        # Remove the course from the load balancer\n",
    "\n",
    "\n",
    "    def avg_load(self):\n",
    "        \"\"\"Calculates the average load of all profs\"\"\"\n",
    "        # Sum the load of each course and divide by the number of professors\n",
    "\n",
    "\n",
    "    def ensure_availability(self):\n",
    "        \"\"\"If the average load is higher than 50, hire a new professor\"\"\"\n",
    "\n",
    "\n",
    "\n",
    "    def __str__(self):\n",
    "        \"\"\"Returns a string with the load for each professor.\"\"\"\n"
   ]
  },
  {
   "cell_type": "code",
   "execution_count": null,
   "metadata": {},
   "outputs": [],
   "source": [
    "load = LoadBalancing()\n",
    "load.add_course(\"cs604\")\n",
    "print(load.avg_load())\n"
   ]
  },
  {
   "cell_type": "markdown",
   "metadata": {},
   "source": [
    "What if we hire a new professor?"
   ]
  },
  {
   "cell_type": "code",
   "execution_count": null,
   "metadata": {},
   "outputs": [],
   "source": [
    "load.profs.append(Professor())\n",
    "print(load.avg_load()) # should be the output from the previous cell / 2\n"
   ]
  },
  {
   "cell_type": "markdown",
   "metadata": {},
   "source": [
    "Now what about deactivating the course?"
   ]
  },
  {
   "cell_type": "code",
   "execution_count": null,
   "metadata": {},
   "outputs": [],
   "source": [
    "load.deactive_course('cs604')\n",
    "print(load.avg_load()) # should return 0.0"
   ]
  },
  {
   "cell_type": "markdown",
   "metadata": {},
   "source": [
    "We hired a new professor manually. But we want this to happen automatically when the average load is more than 50%. To make this possible, we add a method **ensure_availability** and call it from the method **add_course** after a new course has been added. You can test it with the following code:"
   ]
  },
  {
   "cell_type": "code",
   "execution_count": null,
   "metadata": {},
   "outputs": [],
   "source": [
    "load = LoadBalancing()\n",
    "for course in range(30):\n",
    "    load.add_course(course)\n",
    "    print(load)"
   ]
  },
  {
   "cell_type": "markdown",
   "metadata": {},
   "source": [
    "The code above adds 30 new courses and then prints the loads for each professor. Run the following code to verify that the average load is not more than 50."
   ]
  },
  {
   "cell_type": "code",
   "execution_count": null,
   "metadata": {},
   "outputs": [],
   "source": [
    "print(load.avg_load())"
   ]
  },
  {
   "cell_type": "markdown",
   "metadata": {},
   "source": [
    "### Question 2.24: Sudoku checker (II) -- return cells which you are certain about its value "
   ]
  },
  {
   "cell_type": "markdown",
   "metadata": {},
   "source": [
    "| | | | | | | | | |\n",
    "|---|---|---|---|---|---|---|---|---|\n",
    "| | |7| | | |1| | |\n",
    "| |5|9| | | |2|3| |\n",
    "|8|2|3| | | |4|5|6|\n",
    "|5|1| | | | | |7|8|\n",
    "|9| | |1| |3| | |4|\n",
    "| | |4|2| |8|9| | |\n",
    "| |7|5|3| |6|8|9| |\n",
    "| |8|6| | | |7|1| |\n",
    "| |9| | | | | |4| |"
   ]
  },
  {
   "cell_type": "code",
   "execution_count": null,
   "metadata": {},
   "outputs": [],
   "source": [
    "config1 = ['  7   1  ', ' 59   23 ', '823   456', '51     78', '9  1 3  4', '  42 89  ', ' 753 689 ', ' 86   71 ', ' 9     4 ']\n",
    "config2 = ['         ', ' 528 614 ', ' 98   27 ', '  12 39  ', '735   682', ' 695 741 ', ' 1 3 8 9 ', '42 7 1 65', '         ']\n",
    "config3 = ['    76 3 ', ' 13 8  92', ' 4 2 31  ', '  86  5 9', '26     78', '4 9  82  ', '  17 5 2 ', '95  3 41 ', ' 2 96    ']"
   ]
  },
  {
   "cell_type": "markdown",
   "metadata": {},
   "source": [
    "#### Hint:\n",
    "1. Build the initial sudoku board with -1 being unfilled ==> the board is a 2-dimensional array\n",
    "2. Build a list of possible values for each cell ==> this should be a 3-dimensional array\n",
    "3. If a cell is marked with a value v<br>\n",
    "3a) other cells in the same row should mark v as impossible<br>\n",
    "3b) other cells in the same column should mark v as impossible<br>\n",
    "3c) the 3x3 square where this cell is in should mark v as impossible<br>\n",
    "\n",
    "Loop:\n",
    "\n",
    "4. Iterate all cells to check if there is only one possible value for that cell<br>\n",
    "5. mark the cell with that value, same as in step 3<br>\n",
    "\n",
    "Until no more changes<br>\n",
    "\n",
    "Write functions for the actions so that the main loop can call these functions"
   ]
  }
 ],
 "metadata": {
  "kernelspec": {
   "display_name": "Python 3",
   "language": "python",
   "name": "python3"
  },
  "language_info": {
   "codemirror_mode": {
    "name": "ipython",
    "version": 3
   },
   "file_extension": ".py",
   "mimetype": "text/x-python",
   "name": "python",
   "nbconvert_exporter": "python",
   "pygments_lexer": "ipython3",
   "version": "3.8.8"
  }
 },
 "nbformat": 4,
 "nbformat_minor": 4
}
