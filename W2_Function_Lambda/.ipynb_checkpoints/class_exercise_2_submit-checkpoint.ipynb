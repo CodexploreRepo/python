{
 "cells": [
  {
   "cell_type": "markdown",
   "metadata": {},
   "source": [
    "## Python programming and Data Analysis\n",
    "\n",
    "## Class Exercise 2 -- Python Intermediate"
   ]
  },
  {
   "cell_type": "markdown",
   "metadata": {},
   "source": [
    "### Exercise 2.11: find out all the prime numbers in a given list"
   ]
  },
  {
   "cell_type": "code",
   "execution_count": 5,
   "metadata": {},
   "outputs": [],
   "source": [
    "num_list = [649, 778, 652, 653, 912, 402, 917, 536, 664, 922, 284, 158, 415, 672, 673, 33, 419, 414, 421, 811, 683, 48, 818, 566, 567, 310, 580, 838, 199, 586, 458, 460, 337, 728, 604, 94, 607, 865, 354, 230, 367, 752, 625, 371, 505, 635, 893, 382, 767]"
   ]
  },
  {
   "cell_type": "code",
   "execution_count": 8,
   "metadata": {},
   "outputs": [
    {
     "name": "stdout",
     "output_type": "stream",
     "text": [
      "[649, 653, 917, 415, 673, 33, 419, 421, 811, 683, 567, 199, 337, 607, 865, 367, 625, 371, 505, 635, 893, 767]\n"
     ]
    }
   ],
   "source": [
    "import math\n",
    "# write your Python code here\n",
    "def is_prime(num):\n",
    "    for i in range(2, math.floor(math.sqrt(num))+1, 2):\n",
    "        if num%i == 0:\n",
    "            return False\n",
    "    return True\n",
    "prime_list = [num for num in num_list if is_prime(num)]\n",
    "print(prime_list)"
   ]
  },
  {
   "cell_type": "markdown",
   "metadata": {},
   "source": [
    "### Exercise 2.12: use the prime function you created in exercise 1 and lambda to find out all the prime numbers in a given list in one line"
   ]
  },
  {
   "cell_type": "code",
   "execution_count": 13,
   "metadata": {},
   "outputs": [
    {
     "name": "stdout",
     "output_type": "stream",
     "text": [
      "[649, 653, 917, 415, 673, 33, 419, 421, 811, 683, 567, 199, 337, 607, 865, 367, 625, 371, 505, 635, 893, 767]\n"
     ]
    }
   ],
   "source": [
    "# write your Python code here\n",
    "\n",
    "print(list(filter(lambda num: is_prime(num), num_list)))"
   ]
  },
  {
   "cell_type": "markdown",
   "metadata": {},
   "source": [
    "### Exercise 2.13: Write a parallelogram class that takes length, width and angle between sides as arguments:\n",
    "- it has two functions: perimeter and area\n",
    "- create an instant paral with length 5, width 6 and angle 60, print out its perimeter and area\n"
   ]
  },
  {
   "cell_type": "code",
   "execution_count": 11,
   "metadata": {},
   "outputs": [],
   "source": [
    "import math\n",
    "class parallel:\n",
    "    def __init__(self, length, width, angle):\n",
    "        self.length = length\n",
    "        self.width = width\n",
    "        self.angle = angle\n",
    "    def perimeter(self):\n",
    "        return (self.length + self.width)*2\n",
    "    def area(self):\n",
    "        return f\"{self.length*self.width*math.sin(math.radians(self.angle)):.2f}\""
   ]
  },
  {
   "cell_type": "code",
   "execution_count": 12,
   "metadata": {},
   "outputs": [
    {
     "name": "stdout",
     "output_type": "stream",
     "text": [
      "22\n",
      "25.98\n"
     ]
    }
   ],
   "source": [
    "paral = parallel(5, 6, 60)\n",
    "print(paral.perimeter())\n",
    "print(paral.area())"
   ]
  },
  {
   "cell_type": "markdown",
   "metadata": {},
   "source": [
    "### Exercise 2.14: Write a rhombus class that inherits from parallelogram class:\n",
    "- create an instant rh with length 5 and angle 60, print out its perimeter and area"
   ]
  },
  {
   "cell_type": "code",
   "execution_count": 15,
   "metadata": {},
   "outputs": [],
   "source": [
    "# write your Python code here\n",
    "class rhombus(parallel):\n",
    "    def __init__(self, length, angle):\n",
    "        self.length = length\n",
    "        self.angle = angle\n",
    "    def perimeter(self):\n",
    "        return 4*self.length\n",
    "    def area(self):\n",
    "        return f\"{pow(self.length,2)*math.sin(math.radians(self.angle)):.2f}\"\n",
    "        "
   ]
  },
  {
   "cell_type": "code",
   "execution_count": 16,
   "metadata": {},
   "outputs": [
    {
     "name": "stdout",
     "output_type": "stream",
     "text": [
      "20\n",
      "21.65\n"
     ]
    }
   ],
   "source": [
    "rh = rhombus(5, 60)\n",
    "print(rh.perimeter())\n",
    "print(rh.area())"
   ]
  },
  {
   "cell_type": "markdown",
   "metadata": {},
   "source": [
    "### Exercise 2.15: Write a square class that inherits from rhombus class:\n",
    "- create an instant sq with length 5, print out its perimeter and area\n",
    "- write a new function area that will return \"The area of a square with length xxx is xxx\""
   ]
  },
  {
   "cell_type": "code",
   "execution_count": 17,
   "metadata": {},
   "outputs": [],
   "source": [
    "# write your Python code here\n",
    "class square(rhombus):\n",
    "    def __init__(self, length):\n",
    "        self.length = length\n",
    "    def area(self):\n",
    "        return f\"The area of a square with length {self.length} is {self.length*self.length}\""
   ]
  },
  {
   "cell_type": "code",
   "execution_count": 18,
   "metadata": {},
   "outputs": [
    {
     "name": "stdout",
     "output_type": "stream",
     "text": [
      "20\n",
      "The area of a square with length 5 is 25\n"
     ]
    }
   ],
   "source": [
    "sq = square(5)\n",
    "print(sq.perimeter())\n",
    "print(sq.area())"
   ]
  },
  {
   "cell_type": "code",
   "execution_count": null,
   "metadata": {},
   "outputs": [],
   "source": []
  }
 ],
 "metadata": {
  "kernelspec": {
   "display_name": "Python 3",
   "language": "python",
   "name": "python3"
  },
  "language_info": {
   "codemirror_mode": {
    "name": "ipython",
    "version": 3
   },
   "file_extension": ".py",
   "mimetype": "text/x-python",
   "name": "python",
   "nbconvert_exporter": "python",
   "pygments_lexer": "ipython3",
   "version": "3.8.8"
  }
 },
 "nbformat": 4,
 "nbformat_minor": 2
}
