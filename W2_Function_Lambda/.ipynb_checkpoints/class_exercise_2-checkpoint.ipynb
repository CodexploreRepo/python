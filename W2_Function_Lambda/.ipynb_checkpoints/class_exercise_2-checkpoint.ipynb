{
 "cells": [
  {
   "cell_type": "markdown",
   "metadata": {},
   "source": [
    "## Python programming and Data Analysis\n",
    "\n",
    "## Class Exercise 2 -- Python Intermediate"
   ]
  },
  {
   "cell_type": "markdown",
   "metadata": {},
   "source": [
    "### Before function – Operators "
   ]
  },
  {
   "cell_type": "code",
   "execution_count": 1,
   "metadata": {},
   "outputs": [
    {
     "name": "stdout",
     "output_type": "stream",
     "text": [
      "True\n",
      "False\n",
      "False\n",
      "True\n"
     ]
    }
   ],
   "source": [
    "str1 = 'abc'\n",
    "str2 = 'def'\n",
    "print('a' in str1)\n",
    "print('a' in str2)\n",
    "print('a' not in str1)\n",
    "print('a' not in str2)"
   ]
  },
  {
   "cell_type": "code",
   "execution_count": 2,
   "metadata": {},
   "outputs": [
    {
     "name": "stdout",
     "output_type": "stream",
     "text": [
      "True\n",
      "False\n",
      "False\n",
      "True\n"
     ]
    }
   ],
   "source": [
    "x = 5\n",
    "print(type(x) is int)\n",
    "print(type(x) is str)\n",
    "\n",
    "print(type(x) is not int)\n",
    "print(type(x) is not str)"
   ]
  },
  {
   "cell_type": "markdown",
   "metadata": {},
   "source": [
    "### Functions"
   ]
  },
  {
   "cell_type": "markdown",
   "metadata": {},
   "source": [
    "### Define & Call"
   ]
  },
  {
   "cell_type": "code",
   "execution_count": 3,
   "metadata": {},
   "outputs": [
    {
     "name": "stdout",
     "output_type": "stream",
     "text": [
      "5\n"
     ]
    }
   ],
   "source": [
    "def add(a, b):\n",
    "    c = a + b\n",
    "    print(c)\n",
    "\n",
    "add(2, 3)"
   ]
  },
  {
   "cell_type": "markdown",
   "metadata": {},
   "source": [
    "### Arguments"
   ]
  },
  {
   "cell_type": "code",
   "execution_count": 4,
   "metadata": {},
   "outputs": [
    {
     "name": "stdout",
     "output_type": "stream",
     "text": [
      "Mike is 40 years old.\n"
     ]
    }
   ],
   "source": [
    "def info(name, age):\n",
    "    print(name, 'is', age, 'years old.')\n",
    "\n",
    "info('Mike', 40)          "
   ]
  },
  {
   "cell_type": "code",
   "execution_count": 5,
   "metadata": {},
   "outputs": [
    {
     "name": "stdout",
     "output_type": "stream",
     "text": [
      "40 is Mike years old.\n"
     ]
    }
   ],
   "source": [
    "info(40, 'Mike')"
   ]
  },
  {
   "cell_type": "code",
   "execution_count": 8,
   "metadata": {},
   "outputs": [
    {
     "ename": "TypeError",
     "evalue": "info() missing 1 required positional argument: 'age'",
     "output_type": "error",
     "traceback": [
      "\u001b[1;31m---------------------------------------------------------------------------\u001b[0m",
      "\u001b[1;31mTypeError\u001b[0m                                 Traceback (most recent call last)",
      "\u001b[1;32m<ipython-input-8-c28472db6af1>\u001b[0m in \u001b[0;36m<module>\u001b[1;34m\u001b[0m\n\u001b[1;32m----> 1\u001b[1;33m \u001b[0minfo\u001b[0m\u001b[1;33m(\u001b[0m\u001b[1;36m40\u001b[0m\u001b[1;33m)\u001b[0m\u001b[1;33m\u001b[0m\u001b[1;33m\u001b[0m\u001b[0m\n\u001b[0m",
      "\u001b[1;31mTypeError\u001b[0m: info() missing 1 required positional argument: 'age'"
     ]
    }
   ],
   "source": [
    "info(40)"
   ]
  },
  {
   "cell_type": "code",
   "execution_count": 9,
   "metadata": {},
   "outputs": [
    {
     "name": "stdout",
     "output_type": "stream",
     "text": [
      "Mike is 40 years old.\n",
      "Mike is 40 years old.\n"
     ]
    }
   ],
   "source": [
    "def info(name, age):\n",
    "    print(name, 'is', age, 'years old.')\n",
    "\n",
    "info(name = 'Mike', age = 40)\n",
    "info(age = 40, name = 'Mike')   "
   ]
  },
  {
   "cell_type": "code",
   "execution_count": 10,
   "metadata": {},
   "outputs": [
    {
     "name": "stdout",
     "output_type": "stream",
     "text": [
      "Mike is 40 years old.\n",
      "Mike is 35 years old.\n"
     ]
    }
   ],
   "source": [
    "def info(name, age = 35):\n",
    "    print(name, 'is', age, 'years old.')\n",
    "\n",
    "info('Mike', 40)\n",
    "info('Mike')"
   ]
  },
  {
   "cell_type": "code",
   "execution_count": 11,
   "metadata": {},
   "outputs": [
    {
     "name": "stdout",
     "output_type": "stream",
     "text": [
      "Mike's hobbies: \n",
      "Mike's hobbies: hiking, reading\n"
     ]
    }
   ],
   "source": [
    "def info(name, *args):\n",
    "    hobby = []\n",
    "    for a in args:\n",
    "        hobby.append(a)\n",
    "    print(name +\"'s hobbies: \" + ', '.join(hobby))\n",
    "\n",
    "info('Mike')\n",
    "info('Mike', 'hiking', 'reading') "
   ]
  },
  {
   "cell_type": "code",
   "execution_count": 13,
   "metadata": {},
   "outputs": [
    {
     "name": "stdout",
     "output_type": "stream",
     "text": [
      "Mike's hobbies: first-hiking, second-reading\n"
     ]
    }
   ],
   "source": [
    "def info(name, **kwargs):\n",
    "    hobby = []\n",
    "    for k, v in kwargs.items():\n",
    "        hobby.append(k+'-'+v)\n",
    "    print(name +\"'s hobbies: \" + ', '.join(hobby))\n",
    "\n",
    "info('Mike', first='hiking', second='reading')"
   ]
  },
  {
   "cell_type": "code",
   "execution_count": 15,
   "metadata": {},
   "outputs": [
    {
     "name": "stdout",
     "output_type": "stream",
     "text": [
      "Python Data Analysis\n",
      "Python Data Analysis\n"
     ]
    }
   ],
   "source": [
    "def func(a1, a2, a3):\n",
    "    print(a1,a2,a3)\n",
    "     \n",
    "args = ('Python', 'Data', 'Analysis')\n",
    "func(*args)\n",
    "\n",
    "kwargs = {'a1' : 'Python', 'a2' : 'Data', 'a3' : 'Analysis'}\n",
    "func(**kwargs)"
   ]
  },
  {
   "cell_type": "code",
   "execution_count": 17,
   "metadata": {},
   "outputs": [
    {
     "name": "stdout",
     "output_type": "stream",
     "text": [
      "args:  ('I', 'love')\n",
      "kwargs:  {'first': 'Python programming', 'mid': 'and', 'last': 'Data Analysis'}\n",
      "I love Python programming and Data Analysis\n"
     ]
    }
   ],
   "source": [
    "def func(*args,**kwargs):\n",
    "    print('args: ', args)\n",
    "    print('kwargs: ', kwargs)\n",
    "    print(' '.join(args), ' '.join(kwargs.values()))\n",
    " \n",
    "func('I', 'love', first='Python programming', mid='and', last='Data Analysis')"
   ]
  },
  {
   "cell_type": "markdown",
   "metadata": {},
   "source": [
    "### Return"
   ]
  },
  {
   "cell_type": "code",
   "execution_count": 22,
   "metadata": {},
   "outputs": [
    {
     "name": "stdout",
     "output_type": "stream",
     "text": [
      "1\n",
      "(1, 3)\n"
     ]
    }
   ],
   "source": [
    "def func1(a,b):\n",
    "    return a\n",
    "\n",
    "def func2(a,b):\n",
    "    return a,b\n",
    "\n",
    "print(func1(1,3))\n",
    "print(func2(1,3))"
   ]
  },
  {
   "cell_type": "code",
   "execution_count": 23,
   "metadata": {},
   "outputs": [
    {
     "name": "stdout",
     "output_type": "stream",
     "text": [
      "[1, 3]\n",
      "{'a': 1, 'b': 3}\n"
     ]
    }
   ],
   "source": [
    "def func3(a,b):\n",
    "    return [a,b]\n",
    "\n",
    "def func4(a,b):\n",
    "    return {'a': a, 'b': b}\n",
    "\n",
    "print(func3(1,3))\n",
    "print(func4(1,3))"
   ]
  },
  {
   "cell_type": "code",
   "execution_count": 24,
   "metadata": {},
   "outputs": [
    {
     "name": "stdout",
     "output_type": "stream",
     "text": [
      "4\n",
      "6\n"
     ]
    }
   ],
   "source": [
    "def by_factor(factor):\n",
    "    def multiply(number):\n",
    "        return factor * number\n",
    "    return multiply\n",
    "\n",
    "double = by_factor(2)\n",
    "print(double(2))\n",
    "print(double(3))"
   ]
  },
  {
   "cell_type": "code",
   "execution_count": 25,
   "metadata": {},
   "outputs": [
    {
     "name": "stdout",
     "output_type": "stream",
     "text": [
      "5\n"
     ]
    }
   ],
   "source": [
    "def add(a, b):\n",
    "    c = a + b\n",
    "    return c\n",
    "\n",
    "result = add(2, 3)\n",
    "print(result)"
   ]
  },
  {
   "cell_type": "code",
   "execution_count": 26,
   "metadata": {},
   "outputs": [
    {
     "name": "stdout",
     "output_type": "stream",
     "text": [
      "5\n",
      "None\n"
     ]
    }
   ],
   "source": [
    "def add2(a, b):\n",
    "    c = a + b\n",
    "    print(c)\n",
    "\n",
    "result2 = add2(2, 3)\n",
    "print(result2)"
   ]
  },
  {
   "cell_type": "code",
   "execution_count": 20,
   "metadata": {},
   "outputs": [
    {
     "name": "stdout",
     "output_type": "stream",
     "text": [
      "3.7200759760208356e-44\n",
      "0.5\n",
      "1.0\n"
     ]
    }
   ],
   "source": [
    "def logistic(x):\n",
    "    return 1/(1+math.exp(-x))\n",
    "\n",
    "print(logistic(-100))\n",
    "print(logistic(0))\n",
    "print(logistic(100))"
   ]
  },
  {
   "cell_type": "markdown",
   "metadata": {},
   "source": [
    "### Variable Scope"
   ]
  },
  {
   "cell_type": "code",
   "execution_count": 27,
   "metadata": {},
   "outputs": [
    {
     "name": "stdout",
     "output_type": "stream",
     "text": [
      "local\n"
     ]
    },
    {
     "ename": "NameError",
     "evalue": "name 'y' is not defined",
     "output_type": "error",
     "traceback": [
      "\u001b[1;31m---------------------------------------------------------------------------\u001b[0m",
      "\u001b[1;31mNameError\u001b[0m                                 Traceback (most recent call last)",
      "\u001b[1;32m<ipython-input-27-b891c1b97ce1>\u001b[0m in \u001b[0;36m<module>\u001b[1;34m\u001b[0m\n\u001b[0;32m      4\u001b[0m \u001b[1;33m\u001b[0m\u001b[0m\n\u001b[0;32m      5\u001b[0m \u001b[0mtest\u001b[0m\u001b[1;33m(\u001b[0m\u001b[1;33m)\u001b[0m\u001b[1;33m\u001b[0m\u001b[1;33m\u001b[0m\u001b[0m\n\u001b[1;32m----> 6\u001b[1;33m \u001b[0mprint\u001b[0m\u001b[1;33m(\u001b[0m\u001b[0my\u001b[0m\u001b[1;33m)\u001b[0m\u001b[1;33m\u001b[0m\u001b[1;33m\u001b[0m\u001b[0m\n\u001b[0m",
      "\u001b[1;31mNameError\u001b[0m: name 'y' is not defined"
     ]
    }
   ],
   "source": [
    "def test():\n",
    "    y = 'local'\n",
    "    print(y)\n",
    "\n",
    "test()\n",
    "print(y)  "
   ]
  },
  {
   "cell_type": "code",
   "execution_count": 30,
   "metadata": {},
   "outputs": [
    {
     "name": "stdout",
     "output_type": "stream",
     "text": [
      "global\n",
      "global\n"
     ]
    }
   ],
   "source": [
    "y = 'global'\n",
    "def test():\n",
    "    global y\n",
    "    print(y)\n",
    "\n",
    "test()\n",
    "print(y)"
   ]
  },
  {
   "cell_type": "markdown",
   "metadata": {},
   "source": [
    "### Exercise 2.11: find out all the prime numbers in a given list"
   ]
  },
  {
   "cell_type": "code",
   "execution_count": 34,
   "metadata": {},
   "outputs": [],
   "source": [
    "num_list = [649, 778, 652, 653, 912, 402, 917, 536, 664, 922, 284, 158, 415, 672, 673, 33, 419, 414, 421, 811, 683, 48, 818, 566, 567, 310, 580, 838, 199, 586, 458, 460, 337, 728, 604, 94, 607, 865, 354, 230, 367, 752, 625, 371, 505, 635, 893, 382, 767]"
   ]
  },
  {
   "cell_type": "code",
   "execution_count": null,
   "metadata": {},
   "outputs": [],
   "source": [
    "# write your Python code here"
   ]
  },
  {
   "cell_type": "markdown",
   "metadata": {},
   "source": [
    "### Lambda Expressions"
   ]
  },
  {
   "cell_type": "code",
   "execution_count": 46,
   "metadata": {},
   "outputs": [
    {
     "data": {
      "text/plain": [
       "3"
      ]
     },
     "execution_count": 46,
     "metadata": {},
     "output_type": "execute_result"
    }
   ],
   "source": [
    "add=lambda x, y: x+y\n",
    "add(1, 2)     "
   ]
  },
  {
   "cell_type": "code",
   "execution_count": 47,
   "metadata": {},
   "outputs": [
    {
     "data": {
      "text/plain": [
       "1"
      ]
     },
     "execution_count": 47,
     "metadata": {},
     "output_type": "execute_result"
    }
   ],
   "source": [
    "sum = lambda x: 1\n",
    "sum([2,3])"
   ]
  },
  {
   "cell_type": "code",
   "execution_count": 48,
   "metadata": {},
   "outputs": [
    {
     "data": {
      "text/plain": [
       "[3, 2, 4, 1, 5]"
      ]
     },
     "execution_count": 48,
     "metadata": {},
     "output_type": "execute_result"
    }
   ],
   "source": [
    "sorted([1, 2, 3, 4, 5], key = lambda x: abs(3 - x))"
   ]
  },
  {
   "cell_type": "code",
   "execution_count": 49,
   "metadata": {},
   "outputs": [
    {
     "data": {
      "text/plain": [
       "[1, 3, 5]"
      ]
     },
     "execution_count": 49,
     "metadata": {},
     "output_type": "execute_result"
    }
   ],
   "source": [
    "list(filter(lambda n: n % 2 == 1, [1, 2, 3, 4, 5]))"
   ]
  },
  {
   "cell_type": "code",
   "execution_count": 50,
   "metadata": {},
   "outputs": [
    {
     "data": {
      "text/plain": [
       "[2, 3, 4]"
      ]
     },
     "execution_count": 50,
     "metadata": {},
     "output_type": "execute_result"
    }
   ],
   "source": [
    "list(map(lambda x: x + 1, [1, 2, 3]))"
   ]
  },
  {
   "cell_type": "markdown",
   "metadata": {},
   "source": [
    "### Exercise 2.12: use the prime function you created in exercise 1 and lambda to find out all the prime numbers in a given list in one line"
   ]
  },
  {
   "cell_type": "code",
   "execution_count": null,
   "metadata": {},
   "outputs": [],
   "source": [
    "# write your Python code here"
   ]
  },
  {
   "cell_type": "markdown",
   "metadata": {},
   "source": [
    "### Modules"
   ]
  },
  {
   "cell_type": "code",
   "execution_count": 62,
   "metadata": {},
   "outputs": [
    {
     "name": "stdout",
     "output_type": "stream",
     "text": [
      "3.141592653589793\n",
      "3.141592653589793\n",
      "3.141592653589793\n"
     ]
    }
   ],
   "source": [
    "import math\n",
    "print(math.pi)\n",
    "\n",
    "import math as mt\n",
    "print(mt.pi)\n",
    "\n",
    "from math import pi\n",
    "print(pi)\n",
    "\n",
    "from math import *   "
   ]
  },
  {
   "cell_type": "code",
   "execution_count": 63,
   "metadata": {},
   "outputs": [
    {
     "name": "stdout",
     "output_type": "stream",
     "text": [
      "7\n",
      "0.187558625103874\n",
      "3\n",
      "b\n"
     ]
    }
   ],
   "source": [
    "import random as rnd\n",
    "print(rnd.randint(0, 10))\n",
    "print(rnd.random())\n",
    "lst = list(range(10))\n",
    "print(rnd.choice(lst))\n",
    "print(random.choice('abc'))"
   ]
  },
  {
   "cell_type": "markdown",
   "metadata": {},
   "source": [
    "### Classes"
   ]
  },
  {
   "cell_type": "markdown",
   "metadata": {},
   "source": [
    "### Class and Instance"
   ]
  },
  {
   "cell_type": "code",
   "execution_count": 89,
   "metadata": {},
   "outputs": [
    {
     "name": "stdout",
     "output_type": "stream",
     "text": [
      "1469952256\n",
      "<class 'int'>\n"
     ]
    }
   ],
   "source": [
    "a = 2\n",
    "print(id(a))\n",
    "print(type(a)) "
   ]
  },
  {
   "cell_type": "code",
   "execution_count": 90,
   "metadata": {},
   "outputs": [
    {
     "name": "stdout",
     "output_type": "stream",
     "text": [
      "1469952256\n",
      "<class 'int'>\n"
     ]
    }
   ],
   "source": [
    "b = 2\n",
    "print(id(b))\n",
    "print(type(b)) "
   ]
  },
  {
   "cell_type": "code",
   "execution_count": 91,
   "metadata": {},
   "outputs": [
    {
     "name": "stdout",
     "output_type": "stream",
     "text": [
      "1469952288\n",
      "<class 'int'>\n"
     ]
    }
   ],
   "source": [
    "c = 3\n",
    "print(id(c))\n",
    "print(type(c)) "
   ]
  },
  {
   "cell_type": "code",
   "execution_count": 92,
   "metadata": {},
   "outputs": [
    {
     "name": "stdout",
     "output_type": "stream",
     "text": [
      "1531023259656\n",
      "1531023259656\n",
      "[1, 2, 3]\n",
      "[1, 2, 3]\n",
      "1531023259656\n",
      "1531023259656\n"
     ]
    }
   ],
   "source": [
    "a = [1,2]\n",
    "b = a\n",
    "print(id(a))\n",
    "print(id(b))\n",
    "\n",
    "b.append(3)\n",
    "print(a)\n",
    "print(b)\n",
    "print(id(a)) \n",
    "print(id(b))         "
   ]
  },
  {
   "cell_type": "code",
   "execution_count": 1,
   "metadata": {},
   "outputs": [
    {
     "name": "stdout",
     "output_type": "stream",
     "text": [
      "4426390664\n",
      "4426391176\n",
      "True\n",
      "False\n"
     ]
    }
   ],
   "source": [
    "a = [1,2]\n",
    "b = [1,2]\n",
    "print(id(a))\n",
    "print(id(b))\n",
    "\n",
    "print(a == b)\n",
    "print(a is b)               "
   ]
  },
  {
   "cell_type": "code",
   "execution_count": 4,
   "metadata": {},
   "outputs": [
    {
     "name": "stdout",
     "output_type": "stream",
     "text": [
      "4389863968\n",
      "4389863968\n",
      "True\n",
      "True\n"
     ]
    }
   ],
   "source": [
    "a = 101\n",
    "b = 101\n",
    "print(id(a))\n",
    "print(id(b))\n",
    "\n",
    "print(a == b)\n",
    "print(a is b)             "
   ]
  },
  {
   "cell_type": "code",
   "execution_count": 5,
   "metadata": {},
   "outputs": [
    {
     "name": "stdout",
     "output_type": "stream",
     "text": [
      "4426665552\n",
      "4426665104\n",
      "True\n",
      "False\n"
     ]
    }
   ],
   "source": [
    "c = 1001\n",
    "d = 1001\n",
    "print(id(c)) \n",
    "print(id(d)) \n",
    "\n",
    "print(c == d)\n",
    "print(c is d)              "
   ]
  },
  {
   "cell_type": "code",
   "execution_count": 96,
   "metadata": {},
   "outputs": [
    {
     "name": "stdout",
     "output_type": "stream",
     "text": [
      "1531023200840\n",
      "1531023200840\n",
      "[[9, 1], 2, 3, 4]\n",
      "[[9, 1], 2, 3, 4]\n",
      "1531023200840\n",
      "1531023200840\n"
     ]
    }
   ],
   "source": [
    "a = [[0, 1], 2, 3]\n",
    "b = a\n",
    "print(id(a))\n",
    "print(id(b))\n",
    "\n",
    "b.append(4)\n",
    "b[0][0] = 9\n",
    "print(a)\n",
    "print(b)\n",
    "print(id(a))\n",
    "print(id(b))"
   ]
  },
  {
   "cell_type": "code",
   "execution_count": 97,
   "metadata": {},
   "outputs": [
    {
     "name": "stdout",
     "output_type": "stream",
     "text": [
      "1531023204040\n",
      "1531023260168\n",
      "1531023201608\n",
      "1531023201608\n",
      "[[9, 1], 2, 3]\n",
      "[[9, 1], 2, 3, 4]\n"
     ]
    }
   ],
   "source": [
    "import copy\n",
    "a = [[0, 1], 2, 3]\n",
    "b = copy.copy(a)\n",
    "print(id(a))\n",
    "print(id(b))\n",
    "print(id(a[0]))\n",
    "print(id(b[0]))\n",
    "\n",
    "b.append(4)\n",
    "b[0][0] = 9\n",
    "print(a)\n",
    "print(b)            "
   ]
  },
  {
   "cell_type": "code",
   "execution_count": 98,
   "metadata": {},
   "outputs": [
    {
     "name": "stdout",
     "output_type": "stream",
     "text": [
      "1531023203336\n",
      "1531023203784\n",
      "1531023200840\n",
      "1531022909128\n",
      "[[0, 1], 2, 3]\n",
      "[[9, 1], 2, 3, 4]\n"
     ]
    }
   ],
   "source": [
    "import copy\n",
    "a = [[0, 1], 2, 3]\n",
    "b = copy.deepcopy(a)\n",
    "print(id(a)) \n",
    "print(id(b))\n",
    "print(id(a[0]))\n",
    "print(id(b[0]))\n",
    "\n",
    "b.append(4)\n",
    "b[0][0] = 9\n",
    "print(a)\n",
    "print(b)            "
   ]
  },
  {
   "cell_type": "code",
   "execution_count": 99,
   "metadata": {},
   "outputs": [
    {
     "name": "stdout",
     "output_type": "stream",
     "text": [
      "1531023380864\n",
      "Hello!\n",
      "1531023382824\n"
     ]
    }
   ],
   "source": [
    "string = 'Hello'\n",
    "print(id(string))\n",
    "string += '!'\n",
    "print(string)\n",
    "print(id(string))  "
   ]
  },
  {
   "cell_type": "code",
   "execution_count": 100,
   "metadata": {},
   "outputs": [
    {
     "name": "stdout",
     "output_type": "stream",
     "text": [
      "1531023201032\n",
      "[1, 2, 3]\n",
      "1531023201032\n"
     ]
    }
   ],
   "source": [
    "list1 = [1,2]\n",
    "print(id(list1))\n",
    "list1 += [3]\n",
    "print(list1)\n",
    "print(id(list1))"
   ]
  },
  {
   "cell_type": "code",
   "execution_count": 101,
   "metadata": {},
   "outputs": [
    {
     "name": "stdout",
     "output_type": "stream",
     "text": [
      "Jean.Chen@smu.edu.sg\n"
     ]
    }
   ],
   "source": [
    "class Student:\n",
    "    pass    #skip this part for now\n",
    "\n",
    "stu_1 = Student()\n",
    "stu_1.first = 'Jean'\n",
    "stu_1.last = 'Chen'\n",
    "stu_1.email = 'Jean.Chen@smu.edu.sg'\n",
    "print(stu_1.email)        "
   ]
  },
  {
   "cell_type": "code",
   "execution_count": 102,
   "metadata": {},
   "outputs": [
    {
     "name": "stdout",
     "output_type": "stream",
     "text": [
      "Jean.Chen@smu.edu.sg\n",
      "Zian.Gong@smu.edu.sg\n"
     ]
    }
   ],
   "source": [
    "class Student:\n",
    "    def __init__(self, first, last):\n",
    "        self.first = first\n",
    "        self.last = last\n",
    "        self.email = first + '.' + last + '@smu.edu.sg'\n",
    "\n",
    "stu_1 = Student('Jean', 'Chen')\n",
    "stu_2 = Student('Zian', 'Gong')\n",
    "print(stu_1.email) \n",
    "print(stu_2.email)        "
   ]
  },
  {
   "cell_type": "code",
   "execution_count": 104,
   "metadata": {},
   "outputs": [
    {
     "name": "stdout",
     "output_type": "stream",
     "text": [
      "Jean Chen\n",
      "Jean Chen\n"
     ]
    }
   ],
   "source": [
    "class Student:\n",
    "    def __init__(self, first, last):\n",
    "        self.first = first\n",
    "        self.last = last\n",
    "        self.email = first + '.' + last + '@smu.edu.sg'\n",
    "    \n",
    "    def fullname(self):\n",
    "        return self.first + ' ' + self.last\n",
    "\n",
    "stu_1 = Student('Jean', 'Chen')\n",
    "print(stu_1.fullname())\n",
    "print(Student.fullname(stu_1))          "
   ]
  },
  {
   "cell_type": "code",
   "execution_count": 103,
   "metadata": {},
   "outputs": [
    {
     "name": "stdout",
     "output_type": "stream",
     "text": [
      "0\n",
      "1\n"
     ]
    }
   ],
   "source": [
    "class Student:\n",
    "    num_of_stu = 0\n",
    "    def __init__(self, first, last):\n",
    "        self.first = first\n",
    "        self.last = last\n",
    "        self.email = first + '.' + last + '@smu.edu.sg'\n",
    "        Student.num_of_stu += 1\n",
    "\n",
    "print(Student.num_of_stu)     \n",
    "stu_1 = Student('Jean', 'Chen')\n",
    "print(Student.num_of_stu)             "
   ]
  },
  {
   "cell_type": "markdown",
   "metadata": {},
   "source": [
    "### Inheritance"
   ]
  },
  {
   "cell_type": "code",
   "execution_count": 84,
   "metadata": {},
   "outputs": [],
   "source": [
    "class Student:\n",
    "    def __init__(self, first, last):\n",
    "        self.first = first\n",
    "        self.last = last\n",
    "        self.email = first + '.' + last + '@smu.edu.sg'\n",
    "        \n",
    "    def fullname(self):\n",
    "        return self.first + ' ' + self.last"
   ]
  },
  {
   "cell_type": "code",
   "execution_count": 85,
   "metadata": {},
   "outputs": [],
   "source": [
    "class Rep(Student):\n",
    "    pass"
   ]
  },
  {
   "cell_type": "code",
   "execution_count": 86,
   "metadata": {},
   "outputs": [
    {
     "name": "stdout",
     "output_type": "stream",
     "text": [
      "Jean.Chen@smu.edu.sg\n",
      "Jean Chen\n"
     ]
    }
   ],
   "source": [
    "rep_1 = Rep('Jean', 'Chen')  \n",
    "print(rep_1.email)\n",
    "print(rep_1.fullname())"
   ]
  },
  {
   "cell_type": "code",
   "execution_count": 87,
   "metadata": {},
   "outputs": [
    {
     "name": "stdout",
     "output_type": "stream",
     "text": [
      "Jean.Chen@smu.edu.sg\n",
      "Jean Chen\n",
      "academic\n"
     ]
    }
   ],
   "source": [
    "class Rep(Student):\n",
    "    def __init__(self, first, last, cat):\n",
    "        super().__init__(first, last)\n",
    "        self.cat = cat\n",
    "\n",
    "rep_1 = Rep('Jean', 'Chen', 'academic')\n",
    "print(rep_1.email) \n",
    "print(rep_1.fullname())\n",
    "print(rep_1.cat)           "
   ]
  },
  {
   "cell_type": "code",
   "execution_count": 88,
   "metadata": {},
   "outputs": [
    {
     "data": {
      "text/plain": [
       "'academic representative: Jean Chen'"
      ]
     },
     "execution_count": 88,
     "metadata": {},
     "output_type": "execute_result"
    }
   ],
   "source": [
    "class Rep(Student):\n",
    "    def __init__(self, first, last, cat):\n",
    "        super().__init__(first, last) \n",
    "        self.cat = cat\n",
    "\n",
    "    def fullname(self):\n",
    "        return self.cat + ' representative: ' +  self.first + ' ' + self.last\n",
    "    \n",
    "rep_1 = Rep('Jean', 'Chen', 'academic')\n",
    "rep_1.fullname()"
   ]
  },
  {
   "cell_type": "markdown",
   "metadata": {},
   "source": [
    "### Magic Method"
   ]
  },
  {
   "cell_type": "code",
   "execution_count": 81,
   "metadata": {},
   "outputs": [
    {
     "data": {
      "text/plain": [
       "['__abs__',\n",
       " '__add__',\n",
       " '__and__',\n",
       " '__bool__',\n",
       " '__ceil__',\n",
       " '__class__',\n",
       " '__delattr__',\n",
       " '__dir__',\n",
       " '__divmod__',\n",
       " '__doc__',\n",
       " '__eq__',\n",
       " '__float__',\n",
       " '__floor__',\n",
       " '__floordiv__',\n",
       " '__format__',\n",
       " '__ge__',\n",
       " '__getattribute__',\n",
       " '__getnewargs__',\n",
       " '__gt__',\n",
       " '__hash__',\n",
       " '__index__',\n",
       " '__init__',\n",
       " '__init_subclass__',\n",
       " '__int__',\n",
       " '__invert__',\n",
       " '__le__',\n",
       " '__lshift__',\n",
       " '__lt__',\n",
       " '__mod__',\n",
       " '__mul__',\n",
       " '__ne__',\n",
       " '__neg__',\n",
       " '__new__',\n",
       " '__or__',\n",
       " '__pos__',\n",
       " '__pow__',\n",
       " '__radd__',\n",
       " '__rand__',\n",
       " '__rdivmod__',\n",
       " '__reduce__',\n",
       " '__reduce_ex__',\n",
       " '__repr__',\n",
       " '__rfloordiv__',\n",
       " '__rlshift__',\n",
       " '__rmod__',\n",
       " '__rmul__',\n",
       " '__ror__',\n",
       " '__round__',\n",
       " '__rpow__',\n",
       " '__rrshift__',\n",
       " '__rshift__',\n",
       " '__rsub__',\n",
       " '__rtruediv__',\n",
       " '__rxor__',\n",
       " '__setattr__',\n",
       " '__sizeof__',\n",
       " '__str__',\n",
       " '__sub__',\n",
       " '__subclasshook__',\n",
       " '__truediv__',\n",
       " '__trunc__',\n",
       " '__xor__',\n",
       " 'bit_length',\n",
       " 'conjugate',\n",
       " 'denominator',\n",
       " 'from_bytes',\n",
       " 'imag',\n",
       " 'numerator',\n",
       " 'real',\n",
       " 'to_bytes']"
      ]
     },
     "execution_count": 81,
     "metadata": {},
     "output_type": "execute_result"
    }
   ],
   "source": [
    "dir(int)"
   ]
  },
  {
   "cell_type": "code",
   "execution_count": 83,
   "metadata": {},
   "outputs": [
    {
     "name": "stdout",
     "output_type": "stream",
     "text": [
      "3\n",
      "3\n"
     ]
    }
   ],
   "source": [
    "num = 1\n",
    "print(num + 2)\n",
    "print(num.__add__(2))"
   ]
  },
  {
   "cell_type": "code",
   "execution_count": 8,
   "metadata": {},
   "outputs": [],
   "source": [
    "class iter_example(): \n",
    "    def __init__(self, data=1): \n",
    "        self.data = data \n",
    "\n",
    "    def __iter__(self): \n",
    "        return self \n",
    "\n",
    "    def __next__(self): \n",
    "        if self.data > 3:\n",
    "            raise StopIteration \n",
    "        else:\n",
    "            self.data += 1 \n",
    "        return self.data"
   ]
  },
  {
   "cell_type": "code",
   "execution_count": 9,
   "metadata": {},
   "outputs": [
    {
     "name": "stdout",
     "output_type": "stream",
     "text": [
      "2\n",
      "3\n",
      "4\n"
     ]
    }
   ],
   "source": [
    "for i in iter_example():\n",
    "    print(i)"
   ]
  },
  {
   "cell_type": "markdown",
   "metadata": {},
   "source": [
    "### Final exercises 2.13, 2.14 and 2.15: class inheritance"
   ]
  },
  {
   "cell_type": "markdown",
   "metadata": {},
   "source": [
    "### Exercise 2.13: Write a parallelogram class that takes length, width and angle between sides as arguments:\n",
    "- it has two functions: perimeter and area\n",
    "- create an instant paral with length 5, width 6 and angle 60, print out its perimeter and area\n"
   ]
  },
  {
   "cell_type": "code",
   "execution_count": null,
   "metadata": {},
   "outputs": [],
   "source": [
    "# Write your python code here"
   ]
  },
  {
   "cell_type": "markdown",
   "metadata": {},
   "source": [
    "### Exercise 2.14: Write a rhombus class that inherits from parallelogram class:\n",
    "- create an instant rh with length 5 and angle 60, print out its perimeter and area"
   ]
  },
  {
   "cell_type": "code",
   "execution_count": null,
   "metadata": {},
   "outputs": [],
   "source": [
    "# Write your python code here"
   ]
  },
  {
   "cell_type": "markdown",
   "metadata": {},
   "source": [
    "### Exercise 2.15: Write a square class that inherits from rhombus class:\n",
    "- create an instant sq with length 5, print out its perimeter and area\n",
    "- write a new function area that will return \"The area of a square with length xxx is xxx\""
   ]
  },
  {
   "cell_type": "code",
   "execution_count": null,
   "metadata": {},
   "outputs": [],
   "source": [
    "# Write your python code here"
   ]
  }
 ],
 "metadata": {
  "kernelspec": {
   "display_name": "Python 3",
   "language": "python",
   "name": "python3"
  },
  "language_info": {
   "codemirror_mode": {
    "name": "ipython",
    "version": 3
   },
   "file_extension": ".py",
   "mimetype": "text/x-python",
   "name": "python",
   "nbconvert_exporter": "python",
   "pygments_lexer": "ipython3",
   "version": "3.8.8"
  }
 },
 "nbformat": 4,
 "nbformat_minor": 2
}
