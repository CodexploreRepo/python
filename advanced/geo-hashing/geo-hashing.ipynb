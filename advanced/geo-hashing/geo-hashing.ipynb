{
 "cells": [
  {
   "cell_type": "markdown",
   "metadata": {},
   "source": [
    "# Geo Hashing\n",
    "- [GeoHashing from Scratch in Python](https://www.jtrive.com/posts/geohash-python/index.html)"
   ]
  },
  {
   "cell_type": "code",
   "execution_count": 2,
   "metadata": {},
   "outputs": [],
   "source": [
    "# !pip install pygeohash\n",
    "# !pip install folium"
   ]
  },
  {
   "cell_type": "code",
   "execution_count": 3,
   "metadata": {},
   "outputs": [],
   "source": [
    "import pygeohash\n",
    "\n",
    "# visualise geohash with folium\n",
    "import folium \n",
    "from folium.features import DivIcon"
   ]
  },
  {
   "cell_type": "code",
   "execution_count": 4,
   "metadata": {},
   "outputs": [],
   "source": [
    "def get_bbox_geohash(lat, lon, precision=12):\n",
    "    min_lat, max_lat = -90, 90\n",
    "    min_lon, max_lon = -180, 180\n",
    "    for ii in range(5 * precision):\n",
    "        if ii % 2 == 0:\n",
    "            # Bisect longitude (E-W).\n",
    "            mid_lon = (min_lon + max_lon) / 2\n",
    "            if lon >= mid_lon:     \n",
    "                min_lon = mid_lon\n",
    "            else:\n",
    "                max_lon = mid_lon\n",
    "        else:\n",
    "            # Bisect latitude (N-S).\n",
    "            mid_lat = (min_lat + max_lat) / 2\n",
    "            if lat >= mid_lat:\n",
    "                min_lat = mid_lat\n",
    "            else:\n",
    "                max_lat = mid_lat\n",
    "    return [min_lat, min_lon, max_lat, max_lon]\n"
   ]
  },
  {
   "cell_type": "code",
   "execution_count": 39,
   "metadata": {},
   "outputs": [],
   "source": [
    "lat, lon, precision = 10.776775578390142, 106.7031296241205, 6\n",
    "gh_center = pygeohash.encode(latitude=lat, longitude=lon, precision=precision)\n",
    "min_lat, min_lon, max_lat, max_lon = get_bbox_geohash(lat, lon, precision=precision)"
   ]
  },
  {
   "cell_type": "code",
   "execution_count": 40,
   "metadata": {},
   "outputs": [
    {
     "data": {
      "text/plain": [
       "'w3gvk1'"
      ]
     },
     "execution_count": 40,
     "metadata": {},
     "output_type": "execute_result"
    }
   ],
   "source": [
    "gh_center"
   ]
  },
  {
   "cell_type": "code",
   "execution_count": 31,
   "metadata": {},
   "outputs": [],
   "source": [
    "# Get mid_lat and mid_lon for GeoHash id placement. \n",
    "mid_lat = (min_lat + max_lat) / 2\n",
    "mid_lon = (min_lon + max_lon) / 2"
   ]
  },
  {
   "cell_type": "code",
   "execution_count": 41,
   "metadata": {},
   "outputs": [
    {
     "data": {
      "text/plain": [
       "<folium.map.Marker at 0x107be7690>"
      ]
     },
     "execution_count": 41,
     "metadata": {},
     "output_type": "execute_result"
    }
   ],
   "source": [
    "m = folium.Map(\n",
    "    location=[lat, lon], \n",
    "    #width=900, \n",
    "    #height=600, \n",
    "    zoom_start=16, \n",
    "    zoom_control=True, \n",
    "    no_touch=True,\n",
    "    tiles=\"OpenStreetMap\"\n",
    "    )\n",
    "\n",
    "# precision = 6 GeoHash bounding box. \n",
    "folium.Rectangle(\n",
    "    [(min_lat, min_lon), (max_lat, max_lon)], \n",
    "    fill_color=\"red\", fill_opacity=.15\n",
    "    ).add_to(m)\n",
    "\n",
    "# Red dot at Merchandise Mart. \n",
    "folium.CircleMarker(\n",
    "    location=[lat, lon], radius=5, color=\"red\", fill_color=\"red\", \n",
    "    fill_opacity=1\n",
    "    ).add_to(m)\n",
    "\n",
    "# precision = 6 GeoHash id.\n",
    "folium.map.Marker(\n",
    "    [mid_lat, mid_lon],\n",
    "    icon=DivIcon(\n",
    "        icon_size=(250,36),\n",
    "        icon_anchor=(100,50),\n",
    "        html=f'<div style=\"font-size: 20pt\">{gh_center}</div>',\n",
    "        )\n",
    "    ).add_to(m)\n",
    "# m"
   ]
  },
  {
   "cell_type": "code",
   "execution_count": 37,
   "metadata": {},
   "outputs": [],
   "source": [
    "def get_bbox_and_geohash(lat, lon, precision):\n",
    "    geohash = pygeohash.encode(latitude=lat, longitude=lon, precision=precision)\n",
    "    min_lat, min_lon, max_lat, max_lon = get_bbox_geohash(lat, lon, precision=precision)\n",
    "    bbox = [min_lat, min_lon, max_lat, max_lon]\n",
    "    return geohash, bbox"
   ]
  },
  {
   "cell_type": "markdown",
   "metadata": {},
   "source": [
    "- Identify GeoHash Neighboring Cells: once the bounding box for the target GeoHash is known we simply increment those coordinates by a small amount, then lookup the GeoHash and bounding box associated with the new coordinate"
   ]
  },
  {
   "cell_type": "code",
   "execution_count": 63,
   "metadata": {},
   "outputs": [],
   "source": [
    "eps = 1e-10\n",
    "gh_center, bb_center = get_bbox_and_geohash(lat, lon, precision=precision)\n",
    "min_lat, min_lon, max_lat, max_lon = bb_center\n",
    "# Get GeoHash id and bounding box for Northwest cell.\n",
    "gh_nw, bb_nw = get_bbox_and_geohash(max_lat + eps, min_lon - eps, precision=precision)\n",
    "\n",
    "# Get GeoHash id and bounding box for Northeast cell.\n",
    "gh_ne, bb_ne = get_bbox_and_geohash(max_lat + eps, max_lon + eps, precision=precision)\n",
    "\n",
    "# Get GeoHash id and bounding box for Southeast cell.\n",
    "gh_se, bb_se = get_bbox_and_geohash(min_lat - eps, max_lon + eps, precision=precision)\n",
    "\n",
    "# Get GeoHash id and bounding box for Southwest cell.\n",
    "gh_sw, bb_sw = get_bbox_and_geohash(min_lat - eps, min_lon - eps, precision=precision)"
   ]
  },
  {
   "cell_type": "code",
   "execution_count": 64,
   "metadata": {},
   "outputs": [],
   "source": [
    "coord_list = zip([gh_center, gh_nw, gh_ne, gh_se, gh_sw],[bb_center, bb_nw, bb_ne, bb_se, bb_sw])"
   ]
  },
  {
   "cell_type": "code",
   "execution_count": 65,
   "metadata": {},
   "outputs": [
    {
     "data": {
      "text/html": [
       "<div style=\"width:100%;\"><div style=\"position:relative;width:100%;height:0;padding-bottom:60%;\"><span style=\"color:#565656\">Make this Notebook Trusted to load map: File -> Trust Notebook</span><iframe srcdoc=\"&lt;!DOCTYPE html&gt;\n",
       "&lt;html&gt;\n",
       "&lt;head&gt;\n",
       "    \n",
       "    &lt;meta http-equiv=&quot;content-type&quot; content=&quot;text/html; charset=UTF-8&quot; /&gt;\n",
       "    \n",
       "        &lt;script&gt;\n",
       "            L_NO_TOUCH = true;\n",
       "            L_DISABLE_3D = false;\n",
       "        &lt;/script&gt;\n",
       "    \n",
       "    &lt;style&gt;html, body {width: 100%;height: 100%;margin: 0;padding: 0;}&lt;/style&gt;\n",
       "    &lt;style&gt;#map {position:absolute;top:0;bottom:0;right:0;left:0;}&lt;/style&gt;\n",
       "    &lt;script src=&quot;https://cdn.jsdelivr.net/npm/leaflet@1.9.3/dist/leaflet.js&quot;&gt;&lt;/script&gt;\n",
       "    &lt;script src=&quot;https://code.jquery.com/jquery-3.7.1.min.js&quot;&gt;&lt;/script&gt;\n",
       "    &lt;script src=&quot;https://cdn.jsdelivr.net/npm/bootstrap@5.2.2/dist/js/bootstrap.bundle.min.js&quot;&gt;&lt;/script&gt;\n",
       "    &lt;script src=&quot;https://cdnjs.cloudflare.com/ajax/libs/Leaflet.awesome-markers/2.0.2/leaflet.awesome-markers.js&quot;&gt;&lt;/script&gt;\n",
       "    &lt;link rel=&quot;stylesheet&quot; href=&quot;https://cdn.jsdelivr.net/npm/leaflet@1.9.3/dist/leaflet.css&quot;/&gt;\n",
       "    &lt;link rel=&quot;stylesheet&quot; href=&quot;https://cdn.jsdelivr.net/npm/bootstrap@5.2.2/dist/css/bootstrap.min.css&quot;/&gt;\n",
       "    &lt;link rel=&quot;stylesheet&quot; href=&quot;https://netdna.bootstrapcdn.com/bootstrap/3.0.0/css/bootstrap-glyphicons.css&quot;/&gt;\n",
       "    &lt;link rel=&quot;stylesheet&quot; href=&quot;https://cdn.jsdelivr.net/npm/@fortawesome/fontawesome-free@6.2.0/css/all.min.css&quot;/&gt;\n",
       "    &lt;link rel=&quot;stylesheet&quot; href=&quot;https://cdnjs.cloudflare.com/ajax/libs/Leaflet.awesome-markers/2.0.2/leaflet.awesome-markers.css&quot;/&gt;\n",
       "    &lt;link rel=&quot;stylesheet&quot; href=&quot;https://cdn.jsdelivr.net/gh/python-visualization/folium/folium/templates/leaflet.awesome.rotate.min.css&quot;/&gt;\n",
       "    \n",
       "            &lt;meta name=&quot;viewport&quot; content=&quot;width=device-width,\n",
       "                initial-scale=1.0, maximum-scale=1.0, user-scalable=no&quot; /&gt;\n",
       "            &lt;style&gt;\n",
       "                #map_a15d17a279ad0c0aab0c5964408cc579 {\n",
       "                    position: relative;\n",
       "                    width: 100.0%;\n",
       "                    height: 100.0%;\n",
       "                    left: 0.0%;\n",
       "                    top: 0.0%;\n",
       "                }\n",
       "                .leaflet-container { font-size: 1rem; }\n",
       "            &lt;/style&gt;\n",
       "        \n",
       "&lt;/head&gt;\n",
       "&lt;body&gt;\n",
       "    \n",
       "    \n",
       "            &lt;div class=&quot;folium-map&quot; id=&quot;map_a15d17a279ad0c0aab0c5964408cc579&quot; &gt;&lt;/div&gt;\n",
       "        \n",
       "&lt;/body&gt;\n",
       "&lt;script&gt;\n",
       "    \n",
       "    \n",
       "            var map_a15d17a279ad0c0aab0c5964408cc579 = L.map(\n",
       "                &quot;map_a15d17a279ad0c0aab0c5964408cc579&quot;,\n",
       "                {\n",
       "                    center: [10.776775578390142, 106.7031296241205],\n",
       "                    crs: L.CRS.EPSG3857,\n",
       "                    zoom: 16,\n",
       "                    zoomControl: true,\n",
       "                    preferCanvas: false,\n",
       "                }\n",
       "            );\n",
       "\n",
       "            \n",
       "\n",
       "        \n",
       "    \n",
       "            var tile_layer_c30d9ba6bd94ca53641b6d68ab0a22bf = L.tileLayer(\n",
       "                &quot;https://tile.openstreetmap.org/{z}/{x}/{y}.png&quot;,\n",
       "                {&quot;attribution&quot;: &quot;\\u0026copy; \\u003ca href=\\&quot;https://www.openstreetmap.org/copyright\\&quot;\\u003eOpenStreetMap\\u003c/a\\u003e contributors&quot;, &quot;detectRetina&quot;: false, &quot;maxNativeZoom&quot;: 19, &quot;maxZoom&quot;: 19, &quot;minZoom&quot;: 0, &quot;noWrap&quot;: false, &quot;opacity&quot;: 1, &quot;subdomains&quot;: &quot;abc&quot;, &quot;tms&quot;: false}\n",
       "            );\n",
       "        \n",
       "    \n",
       "            tile_layer_c30d9ba6bd94ca53641b6d68ab0a22bf.addTo(map_a15d17a279ad0c0aab0c5964408cc579);\n",
       "        \n",
       "    \n",
       "            var circle_marker_9304e118d0153d9c2e6c9a3acb5cf5a9 = L.circleMarker(\n",
       "                [10.776775578390142, 106.7031296241205],\n",
       "                {&quot;bubblingMouseEvents&quot;: true, &quot;color&quot;: &quot;red&quot;, &quot;dashArray&quot;: null, &quot;dashOffset&quot;: null, &quot;fill&quot;: true, &quot;fillColor&quot;: &quot;red&quot;, &quot;fillOpacity&quot;: 1, &quot;fillRule&quot;: &quot;evenodd&quot;, &quot;lineCap&quot;: &quot;round&quot;, &quot;lineJoin&quot;: &quot;round&quot;, &quot;opacity&quot;: 1.0, &quot;radius&quot;: 5, &quot;stroke&quot;: true, &quot;weight&quot;: 3}\n",
       "            ).addTo(map_a15d17a279ad0c0aab0c5964408cc579);\n",
       "        \n",
       "    \n",
       "            var rectangle_4fc710ac4fcc75bf00026233d871c7a8 = L.rectangle(\n",
       "                [[10.7720947265625, 106.69921875], [10.777587890625, 106.710205078125]],\n",
       "                {&quot;bubblingMouseEvents&quot;: true, &quot;color&quot;: &quot;#3388ff&quot;, &quot;dashArray&quot;: null, &quot;dashOffset&quot;: null, &quot;fill&quot;: true, &quot;fillColor&quot;: &quot;red&quot;, &quot;fillOpacity&quot;: 0.15, &quot;fillRule&quot;: &quot;evenodd&quot;, &quot;lineCap&quot;: &quot;round&quot;, &quot;lineJoin&quot;: &quot;round&quot;, &quot;noClip&quot;: false, &quot;opacity&quot;: 1.0, &quot;smoothFactor&quot;: 1.0, &quot;stroke&quot;: true, &quot;weight&quot;: 3}\n",
       "            ).addTo(map_a15d17a279ad0c0aab0c5964408cc579);\n",
       "        \n",
       "    \n",
       "            var marker_14b7e304b70bd3f428347257a1709713 = L.marker(\n",
       "                [10.77484130859375, 106.7047119140625],\n",
       "                {}\n",
       "            ).addTo(map_a15d17a279ad0c0aab0c5964408cc579);\n",
       "        \n",
       "    \n",
       "            var div_icon_0dccb2b955850dc950b48ded6d59d6e3 = L.divIcon({&quot;className&quot;: &quot;empty&quot;, &quot;html&quot;: &quot;\\u003cdiv style=\\&quot;font-size: 20pt\\&quot;\\u003ew3gvk1\\u003c/div\\u003e&quot;, &quot;iconAnchor&quot;: [100, 50], &quot;iconSize&quot;: [250, 36]});\n",
       "            marker_14b7e304b70bd3f428347257a1709713.setIcon(div_icon_0dccb2b955850dc950b48ded6d59d6e3);\n",
       "        \n",
       "    \n",
       "            var rectangle_be1fb2402cb2e9c28df5314f2e2f7879 = L.rectangle(\n",
       "                [[10.777587890625, 106.688232421875], [10.7830810546875, 106.69921875]],\n",
       "                {&quot;bubblingMouseEvents&quot;: true, &quot;color&quot;: &quot;#3388ff&quot;, &quot;dashArray&quot;: null, &quot;dashOffset&quot;: null, &quot;fill&quot;: true, &quot;fillColor&quot;: &quot;red&quot;, &quot;fillOpacity&quot;: 0.15, &quot;fillRule&quot;: &quot;evenodd&quot;, &quot;lineCap&quot;: &quot;round&quot;, &quot;lineJoin&quot;: &quot;round&quot;, &quot;noClip&quot;: false, &quot;opacity&quot;: 1.0, &quot;smoothFactor&quot;: 1.0, &quot;stroke&quot;: true, &quot;weight&quot;: 3}\n",
       "            ).addTo(map_a15d17a279ad0c0aab0c5964408cc579);\n",
       "        \n",
       "    \n",
       "            var marker_629d2801f85d42995bfc3dbba6fd21e9 = L.marker(\n",
       "                [10.78033447265625, 106.6937255859375],\n",
       "                {}\n",
       "            ).addTo(map_a15d17a279ad0c0aab0c5964408cc579);\n",
       "        \n",
       "    \n",
       "            var div_icon_b3207937ad9db9d5b2f5f5a6e9bb12e1 = L.divIcon({&quot;className&quot;: &quot;empty&quot;, &quot;html&quot;: &quot;\\u003cdiv style=\\&quot;font-size: 20pt\\&quot;\\u003ew3gv7f\\u003c/div\\u003e&quot;, &quot;iconAnchor&quot;: [100, 50], &quot;iconSize&quot;: [250, 36]});\n",
       "            marker_629d2801f85d42995bfc3dbba6fd21e9.setIcon(div_icon_b3207937ad9db9d5b2f5f5a6e9bb12e1);\n",
       "        \n",
       "    \n",
       "            var rectangle_f4aee136f9050586fbcf5e04a6582b73 = L.rectangle(\n",
       "                [[10.777587890625, 106.710205078125], [10.7830810546875, 106.72119140625]],\n",
       "                {&quot;bubblingMouseEvents&quot;: true, &quot;color&quot;: &quot;#3388ff&quot;, &quot;dashArray&quot;: null, &quot;dashOffset&quot;: null, &quot;fill&quot;: true, &quot;fillColor&quot;: &quot;red&quot;, &quot;fillOpacity&quot;: 0.15, &quot;fillRule&quot;: &quot;evenodd&quot;, &quot;lineCap&quot;: &quot;round&quot;, &quot;lineJoin&quot;: &quot;round&quot;, &quot;noClip&quot;: false, &quot;opacity&quot;: 1.0, &quot;smoothFactor&quot;: 1.0, &quot;stroke&quot;: true, &quot;weight&quot;: 3}\n",
       "            ).addTo(map_a15d17a279ad0c0aab0c5964408cc579);\n",
       "        \n",
       "    \n",
       "            var marker_4281bec8b124e9dc3f3a9feb475ff773 = L.marker(\n",
       "                [10.78033447265625, 106.7156982421875],\n",
       "                {}\n",
       "            ).addTo(map_a15d17a279ad0c0aab0c5964408cc579);\n",
       "        \n",
       "    \n",
       "            var div_icon_9246ddba7318e6490032dd453bf4448a = L.divIcon({&quot;className&quot;: &quot;empty&quot;, &quot;html&quot;: &quot;\\u003cdiv style=\\&quot;font-size: 20pt\\&quot;\\u003ew3gvk6\\u003c/div\\u003e&quot;, &quot;iconAnchor&quot;: [100, 50], &quot;iconSize&quot;: [250, 36]});\n",
       "            marker_4281bec8b124e9dc3f3a9feb475ff773.setIcon(div_icon_9246ddba7318e6490032dd453bf4448a);\n",
       "        \n",
       "    \n",
       "            var rectangle_28831a854fad09d2d093334b375da19d = L.rectangle(\n",
       "                [[10.7666015625, 106.710205078125], [10.7720947265625, 106.72119140625]],\n",
       "                {&quot;bubblingMouseEvents&quot;: true, &quot;color&quot;: &quot;#3388ff&quot;, &quot;dashArray&quot;: null, &quot;dashOffset&quot;: null, &quot;fill&quot;: true, &quot;fillColor&quot;: &quot;red&quot;, &quot;fillOpacity&quot;: 0.15, &quot;fillRule&quot;: &quot;evenodd&quot;, &quot;lineCap&quot;: &quot;round&quot;, &quot;lineJoin&quot;: &quot;round&quot;, &quot;noClip&quot;: false, &quot;opacity&quot;: 1.0, &quot;smoothFactor&quot;: 1.0, &quot;stroke&quot;: true, &quot;weight&quot;: 3}\n",
       "            ).addTo(map_a15d17a279ad0c0aab0c5964408cc579);\n",
       "        \n",
       "    \n",
       "            var marker_a7416451535bb76a3fef0b42dc0b333c = L.marker(\n",
       "                [10.76934814453125, 106.7156982421875],\n",
       "                {}\n",
       "            ).addTo(map_a15d17a279ad0c0aab0c5964408cc579);\n",
       "        \n",
       "    \n",
       "            var div_icon_db1861edd6c8dd09e45b34b4208d598b = L.divIcon({&quot;className&quot;: &quot;empty&quot;, &quot;html&quot;: &quot;\\u003cdiv style=\\&quot;font-size: 20pt\\&quot;\\u003ew3gvk2\\u003c/div\\u003e&quot;, &quot;iconAnchor&quot;: [100, 50], &quot;iconSize&quot;: [250, 36]});\n",
       "            marker_a7416451535bb76a3fef0b42dc0b333c.setIcon(div_icon_db1861edd6c8dd09e45b34b4208d598b);\n",
       "        \n",
       "    \n",
       "            var rectangle_a0f960517e943dbedc3b1f6a1c16487d = L.rectangle(\n",
       "                [[10.7666015625, 106.688232421875], [10.7720947265625, 106.69921875]],\n",
       "                {&quot;bubblingMouseEvents&quot;: true, &quot;color&quot;: &quot;#3388ff&quot;, &quot;dashArray&quot;: null, &quot;dashOffset&quot;: null, &quot;fill&quot;: true, &quot;fillColor&quot;: &quot;red&quot;, &quot;fillOpacity&quot;: 0.15, &quot;fillRule&quot;: &quot;evenodd&quot;, &quot;lineCap&quot;: &quot;round&quot;, &quot;lineJoin&quot;: &quot;round&quot;, &quot;noClip&quot;: false, &quot;opacity&quot;: 1.0, &quot;smoothFactor&quot;: 1.0, &quot;stroke&quot;: true, &quot;weight&quot;: 3}\n",
       "            ).addTo(map_a15d17a279ad0c0aab0c5964408cc579);\n",
       "        \n",
       "    \n",
       "            var marker_d364c8976120acd5a29647778ca101bc = L.marker(\n",
       "                [10.76934814453125, 106.6937255859375],\n",
       "                {}\n",
       "            ).addTo(map_a15d17a279ad0c0aab0c5964408cc579);\n",
       "        \n",
       "    \n",
       "            var div_icon_6beedbf47485e0e4e9b18d24a8af67ed = L.divIcon({&quot;className&quot;: &quot;empty&quot;, &quot;html&quot;: &quot;\\u003cdiv style=\\&quot;font-size: 20pt\\&quot;\\u003ew3gv7b\\u003c/div\\u003e&quot;, &quot;iconAnchor&quot;: [100, 50], &quot;iconSize&quot;: [250, 36]});\n",
       "            marker_d364c8976120acd5a29647778ca101bc.setIcon(div_icon_6beedbf47485e0e4e9b18d24a8af67ed);\n",
       "        \n",
       "&lt;/script&gt;\n",
       "&lt;/html&gt;\" style=\"position:absolute;width:100%;height:100%;left:0;top:0;border:none !important;\" allowfullscreen webkitallowfullscreen mozallowfullscreen></iframe></div></div>"
      ],
      "text/plain": [
       "<folium.folium.Map at 0x107be1050>"
      ]
     },
     "execution_count": 65,
     "metadata": {},
     "output_type": "execute_result"
    }
   ],
   "source": [
    "m = folium.Map(\n",
    "    location=[lat, lon], \n",
    "    #width=900, \n",
    "    #height=600, \n",
    "    zoom_start=16, \n",
    "    zoom_control=True, \n",
    "    no_touch=True,\n",
    "    tiles=\"OpenStreetMap\"\n",
    ")\n",
    "# Red dot at Merchandise Mart. \n",
    "folium.CircleMarker(\n",
    "    location=[lat, lon], radius=5, color=\"red\", fill_color=\"red\", \n",
    "    fill_opacity=1\n",
    ").add_to(m)\n",
    "\n",
    "for gh, bb in coord_list:\n",
    "    min_lat, min_lon, max_lat, max_lon = bb\n",
    "    # Get mid_lat and mid_lon for GeoHash id placement. \n",
    "    mid_lat = (min_lat + max_lat) / 2\n",
    "    mid_lon = (min_lon + max_lon) / 2\n",
    "    # precision = 6 GeoHash bounding box. \n",
    "    folium.Rectangle(\n",
    "        [(min_lat, min_lon), (max_lat, max_lon)], \n",
    "        fill_color=\"red\", fill_opacity=.15\n",
    "        ).add_to(m)\n",
    "\n",
    "    # precision = 6 GeoHash id.\n",
    "    folium.map.Marker(\n",
    "        [mid_lat, mid_lon],\n",
    "        icon=DivIcon(\n",
    "            icon_size=(250,36),\n",
    "            icon_anchor=(100,50),\n",
    "            html=f'<div style=\"font-size: 20pt\">{gh}</div>',\n",
    "            )\n",
    "        ).add_to(m)\n",
    "m"
   ]
  },
  {
   "cell_type": "code",
   "execution_count": null,
   "metadata": {},
   "outputs": [],
   "source": []
  }
 ],
 "metadata": {
  "kernelspec": {
   "display_name": "Python 3",
   "language": "python",
   "name": "python3"
  },
  "language_info": {
   "codemirror_mode": {
    "name": "ipython",
    "version": 3
   },
   "file_extension": ".py",
   "mimetype": "text/x-python",
   "name": "python",
   "nbconvert_exporter": "python",
   "pygments_lexer": "ipython3",
   "version": "3.11.9"
  }
 },
 "nbformat": 4,
 "nbformat_minor": 2
}
