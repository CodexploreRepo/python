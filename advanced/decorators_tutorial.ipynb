{
 "cells": [
  {
   "cell_type": "markdown",
   "metadata": {},
   "source": [
    "# Python Decorators Tutorials"
   ]
  },
  {
   "cell_type": "markdown",
   "metadata": {},
   "source": [
    "## 1. What is Python Wrappers\n",
    "- Python wrappers are functions that are added to another function which then can add additional functionality or modifies its behavior without directly changing its source code. "
   ]
  },
  {
   "cell_type": "markdown",
   "metadata": {},
   "source": [
    "- Example 1: Without `functools.wraps()`\n",
    "    - We can observe that both the `first_function` and `second_function` after applying the `a_decorator` have the same `__name__` and `__doc__` string which is `name='wrapper', doc='A wrapper function'`\n",
    "- Ideally, it should show the name and docstring of wrapped function (`func`) instead of wrapping function `wrapper`."
   ]
  },
  {
   "cell_type": "code",
   "execution_count": 28,
   "metadata": {},
   "outputs": [
    {
     "name": "stdout",
     "output_type": "stream",
     "text": [
      "First Function : name='wrapper', doc='A wrapper function'\n",
      "Second Function: name='wrapper', doc='A wrapper function'\n"
     ]
    }
   ],
   "source": [
    "def a_decorator(func):\n",
    "    def wrapper(*args, **kwargs):\n",
    "        \"\"\"A wrapper function\"\"\"\n",
    "        # Extend some capabilities of func\n",
    "        func()\n",
    "    return wrapper\n",
    " \n",
    "@a_decorator\n",
    "def first_function():\n",
    "    \"\"\"This is docstring for first function\"\"\"\n",
    "    print(\"first function\")\n",
    " \n",
    "@a_decorator\n",
    "def second_function(a):\n",
    "    \"\"\"This is docstring for second function\"\"\"\n",
    "    print(\"second function\")\n",
    " \n",
    "print(f\"First Function : name='{first_function.__name__}', doc='{first_function.__doc__}'\")\n",
    "print(f\"Second Function: name='{second_function.__name__}', doc='{second_function.__doc__}'\")"
   ]
  },
  {
   "cell_type": "markdown",
   "metadata": {},
   "source": [
    "- `functools.wraps()` as decorator to wrapper function\n",
    "    - Now, the function names and docstrings of wrapped function have been display correctly"
   ]
  },
  {
   "cell_type": "code",
   "execution_count": 30,
   "metadata": {},
   "outputs": [
    {
     "name": "stdout",
     "output_type": "stream",
     "text": [
      "First Function : name='first_function', doc='This is docstring for first function'\n",
      "Second Function: name='second_function', doc='This is docstring for second function'\n"
     ]
    }
   ],
   "source": [
    "import functools\n",
    "def a_decorator(func):\n",
    "    @functools.wraps(func)\n",
    "    def wrapper(*args, **kwargs):\n",
    "        \"\"\"A wrapper function\"\"\"\n",
    "        func()\n",
    "    return wrapper\n",
    " \n",
    "@a_decorator\n",
    "def first_function():\n",
    "    \"\"\"This is docstring for first function\"\"\"\n",
    "    print(\"first function\")\n",
    " \n",
    "@a_decorator\n",
    "def second_function(a):\n",
    "    \"\"\"This is docstring for second function\"\"\"\n",
    "    print(\"second function\")\n",
    " \n",
    "print(f\"First Function : name='{first_function.__name__}', doc='{first_function.__doc__}'\")\n",
    "print(f\"Second Function: name='{second_function.__name__}', doc='{second_function.__doc__}'\")"
   ]
  },
  {
   "cell_type": "markdown",
   "metadata": {},
   "source": [
    "## 2. Examples of Wrapper Function"
   ]
  },
  {
   "cell_type": "markdown",
   "metadata": {},
   "source": [
    "### 1.1 Timer\n",
    "- To create the **decorator** in Python, we need to define a function called `timer` that takes a parameter called `func` = *a decorator function*. \n",
    "- Inside the `timer` function, we define another function called `wrapper` that takes the **arguments** typically *passed to the function we want to decorate*.\n",
    "- Within the `wrapper` function, we invoke the desired function using the provided arguments. \n",
    "    - We can do this with the line: `result = func(*args, **kwargs)`.\n",
    "    - Finally, the `wrapper` function returns the **result of the decorated function’s execution**. \n",
    "- To utilize the decorator, you can apply it to the desired function using the @ symbol."
   ]
  },
  {
   "cell_type": "code",
   "execution_count": 15,
   "metadata": {},
   "outputs": [],
   "source": [
    "import functools\n",
    "import time\n",
    "\n",
    "# Timeit decorators\n",
    "def timer(func):\n",
    "    @functools.wraps(func)\n",
    "    def wrapper(*args, **kwargs):\n",
    "        \"\"\"This is timeit's wrapper func\"\"\"\n",
    "        start = time.perf_counter()\n",
    "        # call the decorated function\n",
    "        result = func(*args, **kwargs)\n",
    "        end = time.perf_counter()\n",
    "        print(f\"Function '{func.__name__}' took {end - start:.6f} seconds to complete\")\n",
    "        return result\n",
    "\n",
    "    return wrapper"
   ]
  },
  {
   "cell_type": "code",
   "execution_count": 16,
   "metadata": {},
   "outputs": [
    {
     "name": "stdout",
     "output_type": "stream",
     "text": [
      "10000\n",
      "Function 'train_model' took 2.001211 seconds to complete\n"
     ]
    }
   ],
   "source": [
    "@timer\n",
    "def train_model(a, b):\n",
    "    # simulate a function execution by pausing the program for 2 seconds\n",
    "    time.sleep(2) \n",
    "    print(a*b)\n",
    "\n",
    "\n",
    "train_model(1000, b=10) "
   ]
  },
  {
   "cell_type": "markdown",
   "metadata": {},
   "source": [
    "### 1.2. Debugger\n",
    "- An additional useful wrapper function can be created to facilitate debugging by printing the inputs and outputs of each function. \n",
    "- This approach allows us to gain insight into the execution flow of various functions without cluttering our applications with multiple print statements."
   ]
  },
  {
   "cell_type": "code",
   "execution_count": 31,
   "metadata": {},
   "outputs": [],
   "source": [
    "def debug(func):\n",
    "    @functools.wraps(func)\n",
    "    def wrapper(*args, **kwargs):\n",
    "        # print the fucntion name and arguments\n",
    "        print(f\"Calling '{func.__name__}' with args: {args} kwargs: {kwargs}\")\n",
    "        # call the function\n",
    "        result = func(*args, **kwargs)\n",
    "        # print the results\n",
    "        print(f\"'{func.__name__}' returned: {result}\")\n",
    "        return result\n",
    "    return wrapper"
   ]
  },
  {
   "cell_type": "code",
   "execution_count": 22,
   "metadata": {},
   "outputs": [
    {
     "name": "stdout",
     "output_type": "stream",
     "text": [
      "Calling 'add_numbers' with args: (7,) kwargs: {'y': 5}\n",
      "'add_numbers' returned: 12\n"
     ]
    },
    {
     "data": {
      "text/plain": [
       "12"
      ]
     },
     "execution_count": 22,
     "metadata": {},
     "output_type": "execute_result"
    }
   ],
   "source": [
    "@debug\n",
    "def add_numbers(x, y):\n",
    "    return x + y\n",
    "add_numbers(7, y=5)"
   ]
  },
  {
   "cell_type": "markdown",
   "metadata": {},
   "source": [
    "### 1.3. Exception Handler\n",
    "- The exception_handler the wrapper will catch any exceptions raised within the decorator function"
   ]
  },
  {
   "cell_type": "code",
   "execution_count": 33,
   "metadata": {},
   "outputs": [],
   "source": [
    "def exception_handler(func):\n",
    "    @functools.wraps(func)\n",
    "    def wrapper(*args, **kwargs):\n",
    "        try: \n",
    "            return func(*args, **kwargs)\n",
    "        except Exception as e:\n",
    "            # Handle the exception\n",
    "            print(f\"An exception occurred: {str(e)}\")\n",
    "            # Optionally, perform additional error handling or logging\n",
    "            # Reraise the exception if needed\n",
    "    return wrapper"
   ]
  },
  {
   "cell_type": "code",
   "execution_count": 34,
   "metadata": {},
   "outputs": [
    {
     "name": "stdout",
     "output_type": "stream",
     "text": [
      "An exception occurred: division by zero\n"
     ]
    }
   ],
   "source": [
    "@exception_handler\n",
    "def divide(x, y):\n",
    "    return x / y\n",
    "divide(10, 0)"
   ]
  },
  {
   "cell_type": "markdown",
   "metadata": {},
   "source": [
    "### 1.4. Call Count"
   ]
  },
  {
   "cell_type": "code",
   "execution_count": 44,
   "metadata": {},
   "outputs": [],
   "source": [
    "# Call Count\n",
    "def count_call(func):\n",
    "    @functools.wraps(func)\n",
    "    def wrapper(*args, **kwargs):\n",
    "        wrapper.count += 1\n",
    "        result = func(*args, **kwargs)\n",
    "        print(f\"{func.__name__} has been called {wrapper.count} times\")\n",
    "        return result\n",
    "\n",
    "    wrapper.count = 0  # initialise to 0 before you ran any of them.\n",
    "    return wrapper"
   ]
  },
  {
   "cell_type": "code",
   "execution_count": 53,
   "metadata": {},
   "outputs": [
    {
     "name": "stdout",
     "output_type": "stream",
     "text": [
      "add_numbers has been called 1 times\n",
      "1999\n",
      "add_numbers has been called 2 times\n",
      "3\n"
     ]
    }
   ],
   "source": [
    "@count_call\n",
    "def add_numbers(a, b):\n",
    "    \"\"\"This is plus_two_number function\"\"\"\n",
    "    return a + b\n",
    "\n",
    "print(add_numbers(1000, 999))\n",
    "print(add_numbers(1, 2))"
   ]
  },
  {
   "cell_type": "markdown",
   "metadata": {},
   "source": [
    "### 1.5. Built-in `lru_cache`\n",
    "\n",
    "- `@fucntools.lru_cache`: When calling the input function,\n",
    "    - It first checks if its arguments are present in the cache.\n",
    "    - If it’s the case, return the result.\n",
    "    - Otherwise, compute it and put it in the cache"
   ]
  },
  {
   "cell_type": "code",
   "execution_count": 60,
   "metadata": {},
   "outputs": [
    {
     "name": "stdout",
     "output_type": "stream",
     "text": [
      "Function 'multiply_numbers' took 0.000002 seconds to complete\n",
      "987644223459\n",
      "Function 'multiply_numbers' took 0.000002 seconds to complete\n",
      "2\n",
      "Function 'multiply_numbers' took 0.000001 seconds to complete\n",
      "987644223459\n"
     ]
    }
   ],
   "source": [
    "@timer\n",
    "@functools.lru_cache\n",
    "def multiply_numbers(a, b):\n",
    "    \"\"\"This is plus_two_number function\"\"\"\n",
    "    return a * b\n",
    "\n",
    "print(multiply_numbers(99999, 9876541))\n",
    "print(multiply_numbers(1, 2))\n",
    "print(multiply_numbers(99999, 9876541))"
   ]
  },
  {
   "cell_type": "markdown",
   "metadata": {},
   "source": [
    "- As you can see that `multiply_numbers` with input` a=99999, b=9876541` called 2 times\n",
    "    - For the first time, it took 0.000002 to complete\n",
    "    - For the second time, it only took 0.000001 to complete this is because the result from the second time is retrieved from the cache thanks to the `@functools.lru_cache`\n"
   ]
  },
  {
   "cell_type": "markdown",
   "metadata": {},
   "source": [
    "### 1.6. Retry\n",
    "- This wrapper retries the execution of a function a specified number of times with a delay between retries."
   ]
  },
  {
   "cell_type": "code",
   "execution_count": 41,
   "metadata": {},
   "outputs": [],
   "source": [
    "import logging\n",
    "import traceback\n",
    "\n",
    "LOG_FORMAT = \"%(asctime)s - %(levelname)s - %(pathname)s - %(funcName)s - %(lineno)d -msg: %(message)s\"\n",
    "logging.basicConfig(level=logging.INFO, format=LOG_FORMAT)\n",
    "\n",
    "def retry(max_attempts, delay):\n",
    "    \"\"\"\n",
    "    retry help decorator.\n",
    "    :param max_attempts: the retry num; retry sleep sec\n",
    "    :return: decorator\n",
    "    \"\"\"\n",
    "    def decorator(func):\n",
    "        \"\"\"decorator\"\"\"\n",
    "        @functools.wraps(func)   # preserve information about the original function, or else the wrapped func name will be \"wrapper\" not \"func\"\n",
    "        def wrapper(*args, **kwargs):\n",
    "            \"\"\"wrapper\"\"\"\n",
    "            for attempt in range(max_attempts):\n",
    "                try:\n",
    "                    return func(*args, **kwargs) \n",
    "                except Exception as err: \n",
    "                    logging.error(err)\n",
    "                    logging.error(traceback.format_exc())\n",
    "                    time.sleep(delay)\n",
    "                logging.error(f\"Trying attempt {attempt+1} of {max_attempts}\")\n",
    "            logging.error(f\"func {func.__name__}retry failed\")\n",
    "            raise Exception(f'Exceed max retry num: {max_attempts} failed')\n",
    "\n",
    "        return wrapper\n",
    "\n",
    "    return decorator"
   ]
  },
  {
   "cell_type": "code",
   "execution_count": 42,
   "metadata": {},
   "outputs": [
    {
     "name": "stderr",
     "output_type": "stream",
     "text": [
      "2023-10-18 00:08:52,201 - ERROR - /var/folders/ww/280v33ws1pdd58c895ntxf4w0000gn/T/ipykernel_48486/3869183515.py - wrapper - 22 -msg: Server is not responding.\n",
      "2023-10-18 00:08:52,212 - ERROR - /var/folders/ww/280v33ws1pdd58c895ntxf4w0000gn/T/ipykernel_48486/3869183515.py - wrapper - 23 -msg: Traceback (most recent call last):\n",
      "  File \"/var/folders/ww/280v33ws1pdd58c895ntxf4w0000gn/T/ipykernel_48486/3869183515.py\", line 20, in wrapper\n",
      "    return func(*args, **kwargs)\n",
      "          ^^^^^^^^^^^^^^^^^^^^^\n",
      "  File \"/var/folders/ww/280v33ws1pdd58c895ntxf4w0000gn/T/ipykernel_48486/579690303.py\", line 5, in fetch_data\n",
      "    raise TimeoutError(\"Server is not responding.\")\n",
      "TimeoutError: Server is not responding.\n",
      "\n"
     ]
    },
    {
     "name": "stdout",
     "output_type": "stream",
     "text": [
      "Fetching the data..\n"
     ]
    },
    {
     "name": "stderr",
     "output_type": "stream",
     "text": [
      "2023-10-18 00:08:54,218 - ERROR - /var/folders/ww/280v33ws1pdd58c895ntxf4w0000gn/T/ipykernel_48486/3869183515.py - wrapper - 25 -msg: Trying attempt 1 of 2\n",
      "2023-10-18 00:08:54,219 - ERROR - /var/folders/ww/280v33ws1pdd58c895ntxf4w0000gn/T/ipykernel_48486/3869183515.py - wrapper - 22 -msg: Server is not responding.\n",
      "2023-10-18 00:08:54,221 - ERROR - /var/folders/ww/280v33ws1pdd58c895ntxf4w0000gn/T/ipykernel_48486/3869183515.py - wrapper - 23 -msg: Traceback (most recent call last):\n",
      "  File \"/var/folders/ww/280v33ws1pdd58c895ntxf4w0000gn/T/ipykernel_48486/3869183515.py\", line 20, in wrapper\n",
      "    return func(*args, **kwargs)\n",
      "          ^^^^^^^^^^^^^^^^^^^^^\n",
      "  File \"/var/folders/ww/280v33ws1pdd58c895ntxf4w0000gn/T/ipykernel_48486/579690303.py\", line 5, in fetch_data\n",
      "    raise TimeoutError(\"Server is not responding.\")\n",
      "TimeoutError: Server is not responding.\n",
      "\n"
     ]
    },
    {
     "name": "stdout",
     "output_type": "stream",
     "text": [
      "Fetching the data..\n"
     ]
    },
    {
     "name": "stderr",
     "output_type": "stream",
     "text": [
      "2023-10-18 00:08:56,222 - ERROR - /var/folders/ww/280v33ws1pdd58c895ntxf4w0000gn/T/ipykernel_48486/3869183515.py - wrapper - 25 -msg: Trying attempt 2 of 2\n",
      "2023-10-18 00:08:56,223 - ERROR - /var/folders/ww/280v33ws1pdd58c895ntxf4w0000gn/T/ipykernel_48486/3869183515.py - wrapper - 26 -msg: func fetch_dataretry failed\n"
     ]
    },
    {
     "ename": "Exception",
     "evalue": "Exceed max retry num: 2 failed",
     "output_type": "error",
     "traceback": [
      "\u001b[0;31m---------------------------------------------------------------------------\u001b[0m",
      "\u001b[0;31mException\u001b[0m                                 Traceback (most recent call last)",
      "\u001b[1;32m/Users/quannguyen/repos/python/advanced/decorators_tutorial.ipynb Cell 19\u001b[0m line \u001b[0;36m7\n\u001b[1;32m      <a href='vscode-notebook-cell:/Users/quannguyen/repos/python/advanced/decorators_tutorial.ipynb#X31sZmlsZQ%3D%3D?line=3'>4</a>\u001b[0m     \u001b[39m# raise timeout error to simulate a server not responding..\u001b[39;00m\n\u001b[1;32m      <a href='vscode-notebook-cell:/Users/quannguyen/repos/python/advanced/decorators_tutorial.ipynb#X31sZmlsZQ%3D%3D?line=4'>5</a>\u001b[0m     \u001b[39mraise\u001b[39;00m \u001b[39mTimeoutError\u001b[39;00m(\u001b[39m\"\u001b[39m\u001b[39mServer is not responding.\u001b[39m\u001b[39m\"\u001b[39m)\n\u001b[0;32m----> <a href='vscode-notebook-cell:/Users/quannguyen/repos/python/advanced/decorators_tutorial.ipynb#X31sZmlsZQ%3D%3D?line=6'>7</a>\u001b[0m fetch_data(\u001b[39m\"\u001b[39;49m\u001b[39mhttps://example.com/data\u001b[39;49m\u001b[39m\"\u001b[39;49m)\n",
      "\u001b[1;32m/Users/quannguyen/repos/python/advanced/decorators_tutorial.ipynb Cell 19\u001b[0m line \u001b[0;36m2\n\u001b[1;32m     <a href='vscode-notebook-cell:/Users/quannguyen/repos/python/advanced/decorators_tutorial.ipynb#X31sZmlsZQ%3D%3D?line=24'>25</a>\u001b[0m     logging\u001b[39m.\u001b[39merror(\u001b[39mf\u001b[39m\u001b[39m\"\u001b[39m\u001b[39mTrying attempt \u001b[39m\u001b[39m{\u001b[39;00mattempt\u001b[39m+\u001b[39m\u001b[39m1\u001b[39m\u001b[39m}\u001b[39;00m\u001b[39m of \u001b[39m\u001b[39m{\u001b[39;00mmax_attempts\u001b[39m}\u001b[39;00m\u001b[39m\"\u001b[39m)\n\u001b[1;32m     <a href='vscode-notebook-cell:/Users/quannguyen/repos/python/advanced/decorators_tutorial.ipynb#X31sZmlsZQ%3D%3D?line=25'>26</a>\u001b[0m logging\u001b[39m.\u001b[39merror(\u001b[39mf\u001b[39m\u001b[39m\"\u001b[39m\u001b[39mfunc \u001b[39m\u001b[39m{\u001b[39;00mfunc\u001b[39m.\u001b[39m\u001b[39m__name__\u001b[39m\u001b[39m}\u001b[39;00m\u001b[39mretry failed\u001b[39m\u001b[39m\"\u001b[39m)\n\u001b[0;32m---> <a href='vscode-notebook-cell:/Users/quannguyen/repos/python/advanced/decorators_tutorial.ipynb#X31sZmlsZQ%3D%3D?line=26'>27</a>\u001b[0m \u001b[39mraise\u001b[39;00m \u001b[39mException\u001b[39;00m(\u001b[39mf\u001b[39m\u001b[39m'\u001b[39m\u001b[39mExceed max retry num: \u001b[39m\u001b[39m{\u001b[39;00mmax_attempts\u001b[39m}\u001b[39;00m\u001b[39m failed\u001b[39m\u001b[39m'\u001b[39m)\n",
      "\u001b[0;31mException\u001b[0m: Exceed max retry num: 2 failed"
     ]
    }
   ],
   "source": [
    "@retry(max_attempts=2, delay=2)\n",
    "def fetch_data(url):\n",
    "    print(\"Fetching the data..\")\n",
    "    # raise timeout error to simulate a server not responding..\n",
    "    raise TimeoutError(\"Server is not responding.\")\n",
    "\n",
    "fetch_data(\"https://example.com/data\")"
   ]
  }
 ],
 "metadata": {
  "kernelspec": {
   "display_name": "venv",
   "language": "python",
   "name": "python3"
  },
  "language_info": {
   "codemirror_mode": {
    "name": "ipython",
    "version": 3
   },
   "file_extension": ".py",
   "mimetype": "text/x-python",
   "name": "python",
   "nbconvert_exporter": "python",
   "pygments_lexer": "ipython3",
   "version": "3.11.3"
  },
  "orig_nbformat": 4
 },
 "nbformat": 4,
 "nbformat_minor": 2
}
