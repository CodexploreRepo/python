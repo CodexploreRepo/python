{
 "cells": [
  {
   "cell_type": "markdown",
   "metadata": {},
   "source": [
    "# The Fuzz\n",
    "- `theFuzz` uses the Levenshtein edit distance to calculate the degree of closeness between two strings. \n",
    "    - It also provides features for determining string similarity in various situations\n",
    "- [Reference](https://www.datacamp.com/tutorial/fuzzy-string-python)"
   ]
  },
  {
   "cell_type": "code",
   "execution_count": null,
   "metadata": {},
   "outputs": [],
   "source": [
    "# !conda install thefuzz"
   ]
  },
  {
   "cell_type": "code",
   "execution_count": 1,
   "metadata": {},
   "outputs": [],
   "source": [
    "from thefuzz import fuzz"
   ]
  },
  {
   "cell_type": "markdown",
   "metadata": {},
   "source": [
    "## String Matching Methods\n",
    "|Technique|\tDescription|\tCode Example|\n",
    "|:------:|:------|:------|\n",
    "|Simple Ratio|\tCalculates similarity considering the order of input strings.\t|`fuzz.ratio(name, full_name)`|\n",
    "|Partial Ratio|\tFinds partial similarity by comparing the shortest string with sub-strings.|\t`fuzz.partial_ratio(name, full_name)`\n",
    "|Token Sort Ratio|\tIgnores order of words in strings.|\t`fuzz.token_sort_ratio(full_name_reordered, full_name)`|\n",
    "|Token Set Ratio|\tRemoves common tokens before calculating similarity.|\t`fuzz.token_set_ratio(name, full_name)`|"
   ]
  },
  {
   "cell_type": "markdown",
   "metadata": {},
   "source": [
    "### Simple Ratio \n",
    "- `ratio()` calculates the edit distance based on the ordering of both input strings\n"
   ]
  },
  {
   "cell_type": "code",
   "execution_count": 5,
   "metadata": {},
   "outputs": [
    {
     "name": "stdout",
     "output_type": "stream",
     "text": [
      "Similarity score: 86\n"
     ]
    }
   ],
   "source": [
    "# Check the similarity score\n",
    "name = \"Kurtis Pykes\"\n",
    "full_name = \"Kurtis K D Pykes\"\n",
    "\n",
    "print(f\"Similarity score: {fuzz.ratio(name, full_name)}\")\n"
   ]
  },
  {
   "cell_type": "markdown",
   "metadata": {},
   "source": [
    "### Partial Ratio\n",
    "- `partial_ratio()` seeks to find how partially similar two strings are.\n",
    "    - it calculates the similarity by taking the **shortest** string, which in this scenario is stored in the variable `name`, then compares it against the **sub-strings** of the same length in the longer string, which is stored in `full_name`. "
   ]
  },
  {
   "cell_type": "code",
   "execution_count": 7,
   "metadata": {},
   "outputs": [
    {
     "name": "stdout",
     "output_type": "stream",
     "text": [
      "Similarity score: 67\n"
     ]
    }
   ],
   "source": [
    "print(f\"Similarity score: {fuzz.partial_ratio(name, full_name)}\")"
   ]
  },
  {
   "cell_type": "markdown",
   "metadata": {},
   "source": [
    "- Since order matters in partial ratio, our score dropped to 67 in this instance. \n",
    "- Therefore, to get a 100% similarity match, you would have to move the \"K D\" part to the end of the string"
   ]
  },
  {
   "cell_type": "code",
   "execution_count": 8,
   "metadata": {},
   "outputs": [
    {
     "name": "stdout",
     "output_type": "stream",
     "text": [
      "Partial ratio similarity score: 100\n",
      "Simple ratio similarity score: 86\n"
     ]
    }
   ],
   "source": [
    "# Order matters with partial ratio\n",
    "# Check the similarity score\n",
    "name = \"Kurtis Pykes\"\n",
    "full_name = \"Kurtis Pykes K D\" # move K D to the end \n",
    "\n",
    "print(f\"Partial ratio similarity score: {fuzz.partial_ratio(name, full_name)}\")\n",
    "\n",
    "# But order will not effect simple ratio if strings do not match\n",
    "print(f\"Simple ratio similarity score: {fuzz.ratio(name, full_name)}\")"
   ]
  },
  {
   "cell_type": "markdown",
   "metadata": {},
   "source": [
    "### Token Sort Ratio\n",
    "- Token sort doesn’t care about what order words occur in. It accounts for similar strings that aren’t in order as expressed above"
   ]
  },
  {
   "cell_type": "code",
   "execution_count": 9,
   "metadata": {},
   "outputs": [
    {
     "name": "stdout",
     "output_type": "stream",
     "text": [
      "Token sort ratio similarity score: 100\n",
      "Partial ratio similarity score: 75\n",
      "Simple ratio similarity score: 86\n"
     ]
    }
   ],
   "source": [
    "# Check the similarity score\n",
    "full_name = \"Kurtis K D Pykes\"\n",
    "full_name_reordered = \"Kurtis Pykes K D\"\n",
    "\n",
    "# Order does not matter for token sort ratio\n",
    "print(f\"Token sort ratio similarity score: {fuzz.token_sort_ratio(full_name_reordered, full_name)}\")\n",
    "\n",
    "# Order matters for partial ratio\n",
    "print(f\"Partial ratio similarity score: {fuzz.partial_ratio(full_name, full_name_reordered)}\")\n",
    "\n",
    "# Order will not effect simple ratio if strings do not match\n",
    "print(f\"Simple ratio similarity score: {fuzz.ratio(name, full_name)}\")\n"
   ]
  },
  {
   "cell_type": "markdown",
   "metadata": {},
   "source": [
    "-  If there are words that are dissimilar words in the strings, it will negatively impact the similarity ratio"
   ]
  },
  {
   "cell_type": "code",
   "execution_count": null,
   "metadata": {},
   "outputs": [
    {
     "name": "stdout",
     "output_type": "stream",
     "text": [
      "Token sort ratio similarity score: 86\n"
     ]
    }
   ],
   "source": [
    "# Check the similarity score\n",
    "name = \"Kurtis Pykes\"\n",
    "full_name = \"Kurtis K D Pykes\" # \"Kurtis Pykes K D\"\n",
    "\n",
    "print(f\"Token sort ratio similarity score: {fuzz.token_sort_ratio(name, full_name)}\")"
   ]
  },
  {
   "cell_type": "markdown",
   "metadata": {},
   "source": [
    "### Token set ratio\n",
    "- The `token_set_ratio()` method is pretty similar to the token_sort_ratio(), except it takes out common tokens before calculating how similar the strings are: this is extremely helpful when the strings are significantly different in length. "
   ]
  },
  {
   "cell_type": "code",
   "execution_count": 11,
   "metadata": {},
   "outputs": [
    {
     "name": "stdout",
     "output_type": "stream",
     "text": [
      "Token sort ratio similarity score: 100\n"
     ]
    }
   ],
   "source": [
    "# Check the similarity score\n",
    "name = \"Kurtis Pykes\"\n",
    "full_name = \"Kurtis K D Pykes\"\n",
    "\n",
    "print(f\"Token sort ratio similarity score: {fuzz.token_set_ratio(name, full_name)}\")"
   ]
  },
  {
   "cell_type": "markdown",
   "metadata": {},
   "source": [
    "## Process\n",
    "- The process module enables users to extract text from a collection using fuzzy string matching. Calling the extract() method on the process module returns the strings with a similarity score in a vector. "
   ]
  },
  {
   "cell_type": "code",
   "execution_count": null,
   "metadata": {},
   "outputs": [
    {
     "name": "stdout",
     "output_type": "stream",
     "text": [
      "[('barcelona fc', 86), ('AFC Barcelona', 82)]\n"
     ]
    }
   ],
   "source": [
    "from thefuzz import process\n",
    "\n",
    "collection = [\"AFC Barcelona\", \"Barcelona AFC\", \"barcelona fc\", \"afc barcalona\"]\n",
    "print(process.extract(\"barcelona\", collection, scorer=fuzz.ratio, limit=2))\n"
   ]
  },
  {
   "cell_type": "markdown",
   "metadata": {},
   "source": []
  }
 ],
 "metadata": {
  "kernelspec": {
   "display_name": "python_tutorial",
   "language": "python",
   "name": "python3"
  },
  "language_info": {
   "codemirror_mode": {
    "name": "ipython",
    "version": 3
   },
   "file_extension": ".py",
   "mimetype": "text/x-python",
   "name": "python",
   "nbconvert_exporter": "python",
   "pygments_lexer": "ipython3",
   "version": "3.11.9"
  }
 },
 "nbformat": 4,
 "nbformat_minor": 2
}
