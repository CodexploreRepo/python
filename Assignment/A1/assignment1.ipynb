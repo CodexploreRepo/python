{
 "cells": [
  {
   "cell_type": "markdown",
   "id": "17e335f5",
   "metadata": {},
   "source": [
    "### Question 1.31"
   ]
  },
  {
   "cell_type": "code",
   "execution_count": 2,
   "id": "b3cefb27",
   "metadata": {},
   "outputs": [],
   "source": [
    "# %load Q1.31.in\n",
    "# 3\n",
    "# 21/02/2021 21/02/2021\n",
    "# 01/03/2021 20/04/2021\n",
    "# 10/12/2021 07/01/2022"
   ]
  },
  {
   "cell_type": "code",
   "execution_count": 26,
   "id": "a98db412",
   "metadata": {},
   "outputs": [],
   "source": [
    "def validate_hour(day):\n",
    "    if int(day[::-1]) < 24:\n",
    "        return True\n",
    "    else:\n",
    "        return False"
   ]
  },
  {
   "cell_type": "code",
   "execution_count": 96,
   "id": "34a9b35a",
   "metadata": {},
   "outputs": [],
   "source": [
    "def days_in_month(y, m):\n",
    "    y, m = int(y), int(m)\n",
    "    leap = 0\n",
    "    if y % 400 == 0:\n",
    "        leap = 1\n",
    "    elif y % 100 == 0:\n",
    "        leap = 0\n",
    "    elif y % 4 == 0:\n",
    "        leap = 1\n",
    "    if m==2:\n",
    "        return 28 + leap\n",
    "    list = [1,3,5,7,8,10,12]\n",
    "    if m in list:\n",
    "        return 31\n",
    "    return 30"
   ]
  },
  {
   "cell_type": "code",
   "execution_count": 97,
   "id": "77010103",
   "metadata": {},
   "outputs": [],
   "source": [
    "def months(start_month, start_year, end_month, end_year):\n",
    "    excluded_months = [6,7,8,9]\n",
    "    if int(start_year) == int(end_year):\n",
    "        month_list = [month for month in range(int(start_month), int(end_month)+1)]\n",
    "    else:\n",
    "        month_list = [month for month in range(int(start_month), 12+1)] + [month for month in range(1,int(end_month)+1)]\n",
    "\n",
    "    #excluding the month 06, 07,08,09 as reversing them 60,70,80,90 over minutes as for min: up to 59th min only\n",
    "    month_list = [f\"{month:02d}\" for month in month_list if month not in excluded_months]\n",
    "    #print(month_list)\n",
    "    return month_list\n",
    "\n",
    "#months(\"12\", \"2021\", \"01\", \"2022\")\n",
    "#months(\"03\", \"2021\", \"07\", \"2022\") \n",
    "#months(\"02\", \"2021\", \"02\", \"2021\") "
   ]
  },
  {
   "cell_type": "code",
   "execution_count": 98,
   "id": "57e87762",
   "metadata": {},
   "outputs": [
    {
     "name": "stdout",
     "output_type": "stream",
     "text": [
      "02:21:12:20\n",
      "-----------\n",
      "03:01:10:30\n",
      "03:02:20:30\n",
      "03:10:01:30\n",
      "03:11:11:30\n",
      "03:12:21:30\n",
      "03:20:02:30\n",
      "03:21:12:30\n",
      "03:22:22:30\n",
      "03:30:03:30\n",
      "03:31:13:30\n",
      "04:01:10:40\n",
      "04:02:20:40\n",
      "04:10:01:40\n",
      "04:11:11:40\n",
      "04:12:21:40\n",
      "04:20:02:40\n",
      "-----------\n",
      "12:10:01:21\n",
      "12:11:11:21\n",
      "12:12:21:21\n",
      "12:20:02:21\n",
      "12:21:12:21\n",
      "12:22:22:21\n",
      "12:30:03:21\n",
      "12:31:13:21\n",
      "01:01:10:10\n",
      "01:02:20:10\n"
     ]
    }
   ],
   "source": [
    "fin = open('Q1.31.in')\n",
    "num_case = int(fin.readline())\n",
    "day, month, year = 0,1,2\n",
    "for i in range(num_case):\n",
    "    if i:\n",
    "        print('-' * 11)\n",
    "    start, end = fin.readline().split()\n",
    "    start, end = start.split(\"/\"), end.split(\"/\")\n",
    "    #identify possible months lists \n",
    "    month_list = months(start[month], start[year], end[month], end[year])\n",
    "    #for each month, we need to find possible a \"days\" list\n",
    "    for m in month_list:\n",
    "        if m == start[month] and m !=end[month]:\n",
    "            days = [day for day in range(int(start[day]), days_in_month(start[year], m)+1)]\n",
    "        elif m == start[month] and m ==end[month]:\n",
    "            days = [day for day in range(int(start[day]), int(start[day])+1)]\n",
    "        elif m == end[month]:\n",
    "            days = [day for day in range(1, int(end[day])+1)]\n",
    "        else:\n",
    "            days = [day for day in range(1, days_in_month(start[year], m)+1)]\n",
    "        #print(m, days)\n",
    "        days = [f\"{d:02d}\" for d in days]\n",
    "        for d in days:\n",
    "            if validate_hour(d):\n",
    "                print(f\"{m}:{d}:{d[::-1]}:{m[::-1]}\")"
   ]
  },
  {
   "cell_type": "markdown",
   "id": "09dcec18",
   "metadata": {},
   "source": [
    "### Question 1.32"
   ]
  },
  {
   "cell_type": "code",
   "execution_count": 3,
   "id": "c85cd2a5",
   "metadata": {},
   "outputs": [],
   "source": [
    "# %load Q1.32.in\n",
    "# 2\n",
    "# 8 9\n",
    "# 10 10"
   ]
  },
  {
   "cell_type": "code",
   "execution_count": 224,
   "id": "3f3e6fae",
   "metadata": {},
   "outputs": [],
   "source": [
    "def max_chair(p,q):\n",
    "    r = 0.5\n",
    "    pack_long = p #if chair packing along width or length\n",
    "    d = q #d: total length of number of row of chairs\n",
    "\n",
    "    rec_chair = int((pack_long+1)/(r*2)) #No. of chair based on Rec\n",
    "    tri_chair = rec_chair -1 #No. of chair based on Tri \n",
    "    #print(rec_chair, tri_chair)\n",
    "    max_chair = float(\"-inf\")\n",
    "    #pos_m, pos_n = 0,0\n",
    "    # m*[r*sqrt(3)] + n*(2r) = d, with the constraint: m from 0 to d/(r*sqrt(3)) and n from 0 to d/2r\n",
    "    for m in range(0, int(math.ceil(d/(math.sqrt(3)*r)))+1):\n",
    "        for n in range(0, int(math.ceil(d/2*r))+1):\n",
    "            if (math.ceil(m*r*(math.sqrt(3)) + 2*r*n) == float(d)):\n",
    "                total_chair = 0\n",
    "                for i in range(m+1):\n",
    "                    if i%2 == 0:\n",
    "                        total_chair+=rec_chair\n",
    "                    else:\n",
    "                        total_chair+=tri_chair\n",
    "                total_chair+= n*rec_chair\n",
    "                if total_chair > max_chair:\n",
    "                    max_chair = total_chair\n",
    "                    #pos_m, pos_n = m,n\n",
    "    return max_chair"
   ]
  },
  {
   "cell_type": "code",
   "execution_count": 226,
   "id": "1eaa9db3",
   "metadata": {
    "scrolled": false
   },
   "outputs": [
    {
     "name": "stdout",
     "output_type": "stream",
     "text": [
      "96\n",
      "128\n"
     ]
    }
   ],
   "source": [
    "import math\n",
    "\n",
    "fin = open('Q1.32.in')\n",
    "num_case = int(fin.readline())\n",
    "for i in range(num_case):\n",
    "    p, q = [int(s) for s in fin.readline().split()]\n",
    "    print(max(max_chair(p,q), max_chair(q,p)))"
   ]
  },
  {
   "cell_type": "markdown",
   "id": "7edc77b5",
   "metadata": {},
   "source": [
    "### Question 1.33"
   ]
  },
  {
   "cell_type": "code",
   "execution_count": 5,
   "id": "fbe6b41e",
   "metadata": {},
   "outputs": [],
   "source": [
    "# %load Q1.33.in\n",
    "# 4 18 5 0 10 10 60 40 20 30 28 36\n",
    "# 20 10 30 50"
   ]
  },
  {
   "cell_type": "code",
   "execution_count": 6,
   "id": "dd179bb1",
   "metadata": {},
   "outputs": [],
   "source": [
    "fin = open('Q1.33.in')\n",
    "\n",
    "height = [int(s) for s in fin.readline().split()]\n",
    "rainfall = [int(s) for s in fin.readline().split()]"
   ]
  },
  {
   "cell_type": "markdown",
   "id": "bdfdd782",
   "metadata": {},
   "source": [
    "### Question 1.34"
   ]
  },
  {
   "cell_type": "code",
   "execution_count": 7,
   "id": "18a44639",
   "metadata": {},
   "outputs": [],
   "source": [
    "# %load Q1.34.in\n",
    "# conjugate continuous\n",
    "# convergence\n",
    "# convex conjunction\n",
    "# congruent concrete\n",
    "# conjecture concave\n",
    "# consecutive constant concentric"
   ]
  },
  {
   "cell_type": "code",
   "execution_count": 8,
   "id": "eff7b97f",
   "metadata": {},
   "outputs": [],
   "source": [
    "fin = open('Q1.34.in')"
   ]
  }
 ],
 "metadata": {
  "kernelspec": {
   "display_name": "Python 3",
   "language": "python",
   "name": "python3"
  },
  "language_info": {
   "codemirror_mode": {
    "name": "ipython",
    "version": 3
   },
   "file_extension": ".py",
   "mimetype": "text/x-python",
   "name": "python",
   "nbconvert_exporter": "python",
   "pygments_lexer": "ipython3",
   "version": "3.8.8"
  }
 },
 "nbformat": 4,
 "nbformat_minor": 5
}
