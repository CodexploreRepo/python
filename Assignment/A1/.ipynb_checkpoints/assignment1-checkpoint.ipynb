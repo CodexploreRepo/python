{
 "cells": [
  {
   "cell_type": "markdown",
   "id": "17e335f5",
   "metadata": {},
   "source": [
    "### Question 1.31"
   ]
  },
  {
   "cell_type": "code",
   "execution_count": 2,
   "id": "b3cefb27",
   "metadata": {},
   "outputs": [],
   "source": [
    "# %load Q1.31.in\n",
    "# 3\n",
    "# 21/02/2021 21/02/2021\n",
    "# 01/03/2021 20/04/2021\n",
    "# 10/12/2021 07/01/2022"
   ]
  },
  {
   "cell_type": "code",
   "execution_count": 3,
   "id": "57e87762",
   "metadata": {},
   "outputs": [
    {
     "name": "stdout",
     "output_type": "stream",
     "text": [
      "21/02/2021 21/02/2021\n",
      "-----------\n",
      "01/03/2021 20/04/2021\n",
      "-----------\n",
      "10/12/2021 07/01/2022\n"
     ]
    }
   ],
   "source": [
    "fin = open('Q1.31.in')\n",
    "num_case = int(fin.readline())\n",
    "for i in range(num_case):\n",
    "    if i:\n",
    "        print('-' * 11)\n",
    "    start, end = fin.readline().split()\n",
    "    print(start,end)"
   ]
  },
  {
   "cell_type": "markdown",
   "id": "09dcec18",
   "metadata": {},
   "source": [
    "### Question 1.32"
   ]
  },
  {
   "cell_type": "code",
   "execution_count": 3,
   "id": "c85cd2a5",
   "metadata": {},
   "outputs": [],
   "source": [
    "# %load Q1.32.in\n",
    "# 2\n",
    "# 8 9\n",
    "# 10 10"
   ]
  },
  {
   "cell_type": "code",
   "execution_count": 4,
   "id": "1eaa9db3",
   "metadata": {},
   "outputs": [],
   "source": [
    "import math\n",
    "\n",
    "fin = open('Q1.32.in')\n",
    "num_case = int(fin.readline())\n",
    "for i in range(num_case):\n",
    "    p, q = [int(s) for s in fin.readline().split()]"
   ]
  },
  {
   "cell_type": "markdown",
   "id": "7edc77b5",
   "metadata": {},
   "source": [
    "### Question 1.33"
   ]
  },
  {
   "cell_type": "code",
   "execution_count": 5,
   "id": "fbe6b41e",
   "metadata": {},
   "outputs": [],
   "source": [
    "# %load Q1.33.in\n",
    "# 4 18 5 0 10 10 60 40 20 30 28 36\n",
    "# 20 10 30 50"
   ]
  },
  {
   "cell_type": "code",
   "execution_count": 6,
   "id": "dd179bb1",
   "metadata": {},
   "outputs": [],
   "source": [
    "fin = open('Q1.33.in')\n",
    "\n",
    "height = [int(s) for s in fin.readline().split()]\n",
    "rainfall = [int(s) for s in fin.readline().split()]"
   ]
  },
  {
   "cell_type": "markdown",
   "id": "bdfdd782",
   "metadata": {},
   "source": [
    "### Question 1.34"
   ]
  },
  {
   "cell_type": "code",
   "execution_count": 7,
   "id": "18a44639",
   "metadata": {},
   "outputs": [],
   "source": [
    "# %load Q1.34.in\n",
    "# conjugate continuous\n",
    "# convergence\n",
    "# convex conjunction\n",
    "# congruent concrete\n",
    "# conjecture concave\n",
    "# consecutive constant concentric"
   ]
  },
  {
   "cell_type": "code",
   "execution_count": 8,
   "id": "eff7b97f",
   "metadata": {},
   "outputs": [],
   "source": [
    "fin = open('Q1.34.in')"
   ]
  }
 ],
 "metadata": {
  "kernelspec": {
   "display_name": "Python 3",
   "language": "python",
   "name": "python3"
  },
  "language_info": {
   "codemirror_mode": {
    "name": "ipython",
    "version": 3
   },
   "file_extension": ".py",
   "mimetype": "text/x-python",
   "name": "python",
   "nbconvert_exporter": "python",
   "pygments_lexer": "ipython3",
   "version": "3.8.8"
  }
 },
 "nbformat": 4,
 "nbformat_minor": 5
}
