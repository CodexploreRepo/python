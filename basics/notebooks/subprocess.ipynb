{
 "cells": [
  {
   "cell_type": "markdown",
   "metadata": {},
   "source": [
    "# Subprocess\n",
    "- `subprocess.run` is a higher-level wrapper around Popen that is intended to be more convenient to use.\n",
    "    - Usage: to run a command and capture its output\n",
    "- `subprocess.call` \n",
    "    - Usage: to run a command and check the return code, but do not need to capture the output.\n",
    "- `subprocess.Popen` is a lower-level interface to running subprocesses\n",
    "    - Usage: if you need more control over the process, such as interacting with its input and output streams."
   ]
  },
  {
   "cell_type": "markdown",
   "metadata": {},
   "source": [
    "## subprocess.run()\n",
    "- `subprocess.run()` method is a convenient way to run a subprocess and wait for it to complete.\n",
    "    - Once the subprocess is started, the `run()` method blocks until the subprocess completes and returns a `CompletedProcess` object\n",
    "- `subprocess.run()`'s input arguments:\n",
    "    - `args`: The command to run and its arguments, passed as a **list of strings**.\n",
    "    - `capture_output`: When set to True, will capture the standard output and standard error.\n",
    "    - `text`: when set to True, will return the stdout and stderr as string, otherwise as bytes `b'/Users/codexplore/Developer/repos/`.\n",
    "    - `check`: \n",
    "        - when check is set to True, the function will check the return code of the command and raise a `CalledProcessError` exception if the return code is non-zero. \n",
    "        - when check is set to False (default), the function will not check the return code and will not raise an exception, even if the command fails.\n",
    "    - `timeout`: A value in seconds that specifies how long to wait for the subprocess to complete before timing out.\n",
    "- `subprocess.run()`` method also returns a `CompletedProcess` object, which contains the following attributes:\n",
    "    - `args`: The command and arguments that were run.\n",
    "    - `returncode`: The return code of the subprocess.\n",
    "    - `stdout`: The standard output of the subprocess, as a bytes object.\n",
    "    - `stderr`: The standard error of the subprocess, as a bytes object.\n"
   ]
  },
  {
   "cell_type": "code",
   "execution_count": 1,
   "metadata": {},
   "outputs": [],
   "source": [
    "import subprocess"
   ]
  },
  {
   "cell_type": "code",
   "execution_count": 4,
   "metadata": {},
   "outputs": [
    {
     "name": "stdout",
     "output_type": "stream",
     "text": [
      "total 40\n",
      "drwxr-xr-x  4 codexplore  staff    128 Feb  6 17:32 \u001b[1m\u001b[36m.\u001b[m\u001b[m\n",
      "drwxr-xr-x@ 8 codexplore  staff    256 Feb  6 17:32 \u001b[1m\u001b[36m..\u001b[m\u001b[m\n",
      "-rw-r--r--@ 1 codexplore  staff  18414 Oct 22 10:29 google_colab_tutorial.ipynb\n",
      "-rw-r--r--  1 codexplore  staff      0 Feb  6 17:32 subprocess.ipynb\n"
     ]
    },
    {
     "data": {
      "text/plain": [
       "CompletedProcess(args=['ls', '-la'], returncode=0)"
      ]
     },
     "execution_count": 4,
     "metadata": {},
     "output_type": "execute_result"
    }
   ],
   "source": [
    "subprocess.run([\"ls\", \"-la\"])"
   ]
  },
  {
   "cell_type": "code",
   "execution_count": 32,
   "metadata": {},
   "outputs": [],
   "source": [
    "result = subprocess.run([\"pwd\"], capture_output=True, text=True)"
   ]
  },
  {
   "cell_type": "code",
   "execution_count": 33,
   "metadata": {},
   "outputs": [
    {
     "data": {
      "text/plain": [
       "('/Users/codexplore/Developer/repos/python/basics/notebooks\\n', '')"
      ]
     },
     "execution_count": 33,
     "metadata": {},
     "output_type": "execute_result"
    }
   ],
   "source": [
    "result.stdout, result.stderr"
   ]
  },
  {
   "cell_type": "code",
   "execution_count": 34,
   "metadata": {},
   "outputs": [
    {
     "data": {
      "text/plain": [
       "0"
      ]
     },
     "execution_count": 34,
     "metadata": {},
     "output_type": "execute_result"
    }
   ],
   "source": [
    "result.returncode"
   ]
  },
  {
   "cell_type": "markdown",
   "metadata": {},
   "source": [
    "## subprocess.call()"
   ]
  },
  {
   "cell_type": "code",
   "execution_count": 20,
   "metadata": {},
   "outputs": [
    {
     "name": "stdout",
     "output_type": "stream",
     "text": [
      "Python 3.9.6\n",
      "Command executed successfully.\n"
     ]
    }
   ],
   "source": [
    "return_code = subprocess.call([\"python3\", \"--version\"])\n",
    "\n",
    "if return_code == 0:\n",
    "    print(\"Command executed successfully.\")\n",
    "else:\n",
    "    print(\"Command failed with return code\", return_code)"
   ]
  },
  {
   "cell_type": "markdown",
   "metadata": {},
   "source": [
    "## subprocess.Popen()\n",
    "- `Popen` allows you to start a new process and interact with its standard input, output, and error streams. It returns a handle to the running process that can be used to wait for the process to complete, check its return code, or terminate it.\n",
    "- The Popen class has several methods that allow you to interact with the process, such as `communicate(`), `poll()`, `wait()`, `terminate()`, and `kill()`."
   ]
  },
  {
   "cell_type": "code",
   "execution_count": 17,
   "metadata": {},
   "outputs": [
    {
     "name": "stdout",
     "output_type": "stream",
     "text": [
      "Python 3.9.6\n",
      "\n"
     ]
    }
   ],
   "source": [
    "import subprocess\n",
    "\n",
    "p = subprocess.Popen([\"python3\", \"--version\"], stdout=subprocess.PIPE, stderr=subprocess.PIPE, text=True)\n",
    "\n",
    "output, errors = p.communicate()\n",
    "\n",
    "print(output)"
   ]
  },
  {
   "cell_type": "markdown",
   "metadata": {},
   "source": [
    "## Subprocess `PIPE`\n",
    "- A `PIPE` is a unidirectional communication channel that connects one process's standard output to another's standard input. "
   ]
  },
  {
   "cell_type": "code",
   "execution_count": 28,
   "metadata": {},
   "outputs": [
    {
     "name": "stdout",
     "output_type": "stream",
     "text": [
      "Ouptut:\n",
      "google_colab_tutorial.ipynb\n",
      "subprocess.ipynb\n",
      "\n",
      "Error : None\n"
     ]
    }
   ],
   "source": [
    "# creates a pipe that connects the output of the `ls` command to the input of the `grep` command,\n",
    "ls_process = subprocess.Popen([\"ls\"], stdout=subprocess.PIPE, text=True)\n",
    "\n",
    "grep_process = subprocess.Popen([\"grep\", \".ipynb\"], stdin=ls_process.stdout, stdout=subprocess.PIPE, text=True)\n",
    "\n",
    "output, error = grep_process.communicate()\n",
    "\n",
    "print(f\"Ouptut:\\n{output}\")\n",
    "print(f\"Error : {error}\")"
   ]
  },
  {
   "cell_type": "code",
   "execution_count": 31,
   "metadata": {},
   "outputs": [
    {
     "name": "stdout",
     "output_type": "stream",
     "text": [
      "google_colab_tutorial.ipynb\n",
      "subprocess.ipynb\n",
      "\n"
     ]
    }
   ],
   "source": [
    "result = subprocess.run([\"ls\"], stdout=subprocess.PIPE)\n",
    "\n",
    "print(result.stdout.decode()) # decode() to convert from bytes to strings\n"
   ]
  }
 ],
 "metadata": {
  "kernelspec": {
   "display_name": "Python 3",
   "language": "python",
   "name": "python3"
  },
  "language_info": {
   "codemirror_mode": {
    "name": "ipython",
    "version": 3
   },
   "file_extension": ".py",
   "mimetype": "text/x-python",
   "name": "python",
   "nbconvert_exporter": "python",
   "pygments_lexer": "ipython3",
   "version": "3.9.6"
  }
 },
 "nbformat": 4,
 "nbformat_minor": 2
}
