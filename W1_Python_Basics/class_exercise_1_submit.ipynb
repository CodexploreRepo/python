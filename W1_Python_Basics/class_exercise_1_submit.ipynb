{
 "cells": [
  {
   "cell_type": "markdown",
   "metadata": {},
   "source": [
    "### Exercise 1.11: count the frequence of each unique value in a given list"
   ]
  },
  {
   "cell_type": "code",
   "execution_count": 2,
   "metadata": {},
   "outputs": [],
   "source": [
    "long_list = [11, 230, 127, 183, 142, 186, 256, 182, 184, 50, 266, 179, 22, 30, 59, 236, 155, 57, 262, 279, 107, 98, 271, 240, 276, 23, 170, 207, 123, 228, 231, 205, 30, 161, 125, 212, 224, 34, 272, 106, 164, 26, 263, 3, 234, 244, 3, 260, 135, 29, 116, 44, 206, 131, 218, 201, 140, 208, 130, 247, 256, 272, 208, 262, 227, 242, 112, 138, 192, 7, 268, 184, 168, 5, 246, 199, 6, 26, 300, 54, 260, 69, 64, 61, 15, 288, 190, 78, 165, 7, 178, 71, 62, 131, 26, 75, 2, 52, 164, 195, 75, 80, 212, 127, 201, 184, 78, 106, 90, 256, 33, 241, 208, 39, 32, 240, 160, 172, 108, 144, 116, 251, 106, 278, 120, 99, 22, 148, 6, 185, 136, 235, 208, 114, 22, 229, 88, 225, 112, 236, 250, 32, 152, 195, 0, 160, 252, 15, 173, 283, 72, 94, 76, 226, 4, 44, 28, 120, 175, 56, 262, 178, 249, 246, 19, 203, 196, 207, 33, 94, 216, 280, 102, 250, 74, 277, 159, 23, 80, 63, 124, 240, 166, 137, 14, 255, 252, 112, 41, 90, 187, 108, 2, 60, 147, 114, 266, 173, 183, 84, 10, 173, 35, 248, 124, 207, 163, 44, 2, 171, 142, 174, 219, 114, 30, 290, 239, 63, 42, 103, 61, 58, 181, 18, 111, 119, 99, 171, 210, 59, 142, 278, 213, 35, 286, 285, 227, 91, 232, 196, 11, 91, 192, 241, 1, 275, 76, 210, 160, 32, 272, 120, 176, 33, 65, 26, 2, 248, 262, 286, 199, 12, 107, 253, 150, 138, 157, 31, 250, 30, 95, 96, 105, 261, 276, 146, 195, 190, 217, 62, 138, 268, 134, 39, 164, 8, 46, 152, 93, 263, 232, 264, 272, 53, 283, 286, 218, 293, 238, 5, 122, 241, 76, 106, 85, 103, 221, 77, 74, 236, 1, 13, 144, 235, 27, 50, 7, 17, 157, 296, 111, 1, 176, 297, 286, 115, 187, 272, 66, 185, 145, 254, 20, 232, 49, 289, 285, 222, 199, 103, 65, 33, 3, 88, 157, 276, 29, 88, 226, 194, 219, 98, 58, 193, 2, 255, 126, 41, 112, 83, 104, 296, 219, 148, 274, 34, 2, 15, 267, 286, 252, 275, 126, 173, 225, 223, 121, 136, 257, 214, 7, 291, 84, 60, 93, 284, 112, 195, 162, 296, 277, 204, 297, 120, 62, 218, 247, 150, 274, 108, 78, 146, 180, 168, 231, 39, 79, 45, 139, 75, 0, 83, 158, 273, 258, 242, 36, 268, 287, 106, 284, 184, 64, 235, 14, 159, 57, 168, 4, 3, 185, 180, 132, 132, 270, 148, 39, 18, 178, 121, 250, 29, 96, 190, 234, 34, 225, 187, 57, 57, 260, 219, 126, 158, 72, 248, 47, 180, 219, 253, 10, 84, 86, 5, 210, 147, 122, 61, 143, 84, 164, 250, 233, 225, 73, 133, 123, 148, 124, 214, 5, 48, 172, 102, 133, 100, 57, 253, 13, 0, 31, 272, 2, 87, 292, 243, 53, 298, 35, 116, 282, 187, 287, 30, 108, 298, 63, 285, 289, 132, 204, 30, 230, 95, 117, 254, 128, 203, 55, 36, 147, 2, 285, 168, 214, 239, 93, 171, 288, 265, 202, 168, 161, 217, 189, 36, 101, 46, 100, 101, 50, 266, 263, 170, 19, 126, 35, 67, 122, 147, 109, 76, 147, 177, 183, 51, 124, 220, 263, 265, 3, 41, 188, 234, 187, 157, 287, 21, 99, 46, 214, 68, 8, 230, 284, 234, 258, 296, 192, 6, 281, 31, 238, 297, 34, 120, 20, 6, 230, 127, 242, 248, 147, 294, 165, 266, 268, 258, 82, 121, 221, 9, 80, 240, 67, 271, 35, 78, 253, 207, 161, 257, 38, 128, 281, 281, 170, 167, 40, 113, 12, 93, 126, 41, 258, 233, 71, 242, 209, 82, 97, 150, 90, 276, 264, 51, 222, 6, 204, 118, 263, 102, 177, 113, 106, 288, 58, 94, 299, 131, 95, 183, 184, 108, 190, 273, 279, 99, 227, 10, 274, 81, 272, 50, 65, 114, 52, 52, 10, 181, 36, 281, 6, 97, 214, 279, 143, 203, 244, 250, 151, 180, 185, 169, 66, 51, 21, 201, 275, 250, 58, 108, 1, 87, 127, 95, 81, 212, 250, 222, 171, 83, 145, 149, 185, 67, 275, 206, 242, 67, 229, 118, 124, 117, 179, 141, 65, 40, 111, 81, 152, 79, 104, 67, 119, 27, 107, 295, 43, 97, 193, 148, 255, 247, 284, 69, 84, 268, 234, 251, 169, 99, 233, 126, 103, 233, 24, 196, 70, 181, 150, 181, 110, 257, 31, 299, 195, 25, 289, 36, 75, 152, 37, 115, 116, 171, 218, 278, 198, 200, 204, 260, 211, 97, 220, 167, 261, 168, 281, 67, 161, 297, 202, 56, 53, 230, 27, 64, 171, 299, 179, 66, 276, 209, 204, 282, 71, 132, 64, 299, 158, 163, 111, 252, 14, 180, 202, 286, 250, 142, 48, 271, 148, 151, 282, 116, 232, 188, 5, 150, 242, 292, 48, 119, 158, 10, 89, 124, 211, 253, 182, 295, 81, 199, 126, 139, 59, 154, 212, 101, 89, 45, 289, 69, 120, 264, 217, 279, 163, 103, 153, 159, 183, 81, 282, 77, 77, 4, 229, 10, 292, 222, 235, 205, 283, 194, 166, 63, 56, 92, 57, 184, 48, 285, 146, 184, 233, 76, 164, 83, 74, 178, 263, 137, 272, 4, 102, 111, 83, 229, 7, 268, 26, 274, 100, 231, 80, 223, 226, 151, 219, 5, 144, 169, 68, 175, 257, 48, 243, 185, 145, 115, 239, 259, 36, 192, 256, 19, 252, 95, 284, 62, 192, 281, 299, 34, 290, 70, 166, 9, 102, 279, 225, 147, 175, 269, 16, 115, 181, 150, 200, 89, 1, 298, 132, 93, 24, 209, 231, 225, 67, 239, 47, 280, 101, 210, 164, 241, 115, 259, 261, 157, 224, 296, 223, 127, 22, 280, 28, 170, 15, 201, 102, 245, 266, 161, 20, 210, 251, 249, 53, 282, 76, 126, 243, 196, 220, 265, 110, 146, 242, 248, 17, 181, 23, 77, 106, 296, 290, 243, 93]"
   ]
  },
  {
   "cell_type": "code",
   "execution_count": 8,
   "metadata": {},
   "outputs": [
    {
     "data": {
      "text/plain": [
       "[(0, 3),\n",
       " (1, 5),\n",
       " (2, 8),\n",
       " (3, 5),\n",
       " (4, 4),\n",
       " (5, 6),\n",
       " (6, 6),\n",
       " (7, 5),\n",
       " (8, 2),\n",
       " (9, 2),\n",
       " (10, 6),\n",
       " (11, 2),\n",
       " (12, 2),\n",
       " (13, 2),\n",
       " (14, 3),\n",
       " (15, 4),\n",
       " (16, 1),\n",
       " (17, 2),\n",
       " (18, 2),\n",
       " (19, 3),\n",
       " (20, 3),\n",
       " (21, 2),\n",
       " (22, 4),\n",
       " (23, 3),\n",
       " (24, 2),\n",
       " (25, 1),\n",
       " (26, 5),\n",
       " (27, 3),\n",
       " (28, 2),\n",
       " (29, 3),\n",
       " (30, 6),\n",
       " (31, 4),\n",
       " (32, 3),\n",
       " (33, 4),\n",
       " (34, 5),\n",
       " (35, 5),\n",
       " (36, 6),\n",
       " (37, 1),\n",
       " (38, 1),\n",
       " (39, 4),\n",
       " (40, 2),\n",
       " (41, 4),\n",
       " (42, 1),\n",
       " (43, 1),\n",
       " (44, 3),\n",
       " (45, 2),\n",
       " (46, 3),\n",
       " (47, 2),\n",
       " (48, 5),\n",
       " (49, 1),\n",
       " (50, 4),\n",
       " (51, 3),\n",
       " (52, 3),\n",
       " (53, 4),\n",
       " (54, 1),\n",
       " (55, 1),\n",
       " (56, 3),\n",
       " (57, 6),\n",
       " (58, 4),\n",
       " (59, 3),\n",
       " (60, 2),\n",
       " (61, 3),\n",
       " (62, 4),\n",
       " (63, 4),\n",
       " (64, 4),\n",
       " (65, 4),\n",
       " (66, 3),\n",
       " (67, 7),\n",
       " (68, 2),\n",
       " (69, 3),\n",
       " (70, 2),\n",
       " (71, 3),\n",
       " (72, 2),\n",
       " (73, 1),\n",
       " (74, 3),\n",
       " (75, 4),\n",
       " (76, 6),\n",
       " (77, 4),\n",
       " (78, 4),\n",
       " (79, 2),\n",
       " (80, 4),\n",
       " (81, 5),\n",
       " (82, 2),\n",
       " (83, 5),\n",
       " (84, 5),\n",
       " (85, 1),\n",
       " (86, 1),\n",
       " (87, 2),\n",
       " (88, 3),\n",
       " (89, 3),\n",
       " (90, 3),\n",
       " (91, 2),\n",
       " (92, 1),\n",
       " (93, 6),\n",
       " (94, 3),\n",
       " (95, 5),\n",
       " (96, 2),\n",
       " (97, 4),\n",
       " (98, 2),\n",
       " (99, 5),\n",
       " (100, 3),\n",
       " (101, 4),\n",
       " (102, 6),\n",
       " (103, 5),\n",
       " (104, 2),\n",
       " (105, 1),\n",
       " (106, 7),\n",
       " (107, 3),\n",
       " (108, 6),\n",
       " (109, 1),\n",
       " (110, 2),\n",
       " (111, 5),\n",
       " (112, 5),\n",
       " (113, 2),\n",
       " (114, 4),\n",
       " (115, 5),\n",
       " (116, 5),\n",
       " (117, 2),\n",
       " (118, 2),\n",
       " (119, 3),\n",
       " (120, 6),\n",
       " (121, 3),\n",
       " (122, 3),\n",
       " (123, 2),\n",
       " (124, 6),\n",
       " (125, 1),\n",
       " (126, 8),\n",
       " (127, 5),\n",
       " (128, 2),\n",
       " (130, 1),\n",
       " (131, 3),\n",
       " (132, 5),\n",
       " (133, 2),\n",
       " (134, 1),\n",
       " (135, 1),\n",
       " (136, 2),\n",
       " (137, 2),\n",
       " (138, 3),\n",
       " (139, 2),\n",
       " (140, 1),\n",
       " (141, 1),\n",
       " (142, 4),\n",
       " (143, 2),\n",
       " (144, 3),\n",
       " (145, 3),\n",
       " (146, 4),\n",
       " (147, 7),\n",
       " (148, 6),\n",
       " (149, 1),\n",
       " (150, 6),\n",
       " (151, 3),\n",
       " (152, 4),\n",
       " (153, 1),\n",
       " (154, 1),\n",
       " (155, 1),\n",
       " (157, 5),\n",
       " (158, 4),\n",
       " (159, 3),\n",
       " (160, 3),\n",
       " (161, 5),\n",
       " (162, 1),\n",
       " (163, 3),\n",
       " (164, 6),\n",
       " (165, 2),\n",
       " (166, 3),\n",
       " (167, 2),\n",
       " (168, 6),\n",
       " (169, 3),\n",
       " (170, 4),\n",
       " (171, 6),\n",
       " (172, 2),\n",
       " (173, 4),\n",
       " (174, 1),\n",
       " (175, 3),\n",
       " (176, 2),\n",
       " (177, 2),\n",
       " (178, 4),\n",
       " (179, 3),\n",
       " (180, 5),\n",
       " (181, 6),\n",
       " (182, 2),\n",
       " (183, 5),\n",
       " (184, 7),\n",
       " (185, 6),\n",
       " (186, 1),\n",
       " (187, 5),\n",
       " (188, 2),\n",
       " (189, 1),\n",
       " (190, 4),\n",
       " (192, 5),\n",
       " (193, 2),\n",
       " (194, 2),\n",
       " (195, 5),\n",
       " (196, 4),\n",
       " (198, 1),\n",
       " (199, 4),\n",
       " (200, 2),\n",
       " (201, 4),\n",
       " (202, 3),\n",
       " (203, 3),\n",
       " (204, 5),\n",
       " (205, 2),\n",
       " (206, 2),\n",
       " (207, 4),\n",
       " (208, 4),\n",
       " (209, 3),\n",
       " (210, 5),\n",
       " (211, 2),\n",
       " (212, 4),\n",
       " (213, 1),\n",
       " (214, 5),\n",
       " (216, 1),\n",
       " (217, 3),\n",
       " (218, 4),\n",
       " (219, 6),\n",
       " (220, 3),\n",
       " (221, 2),\n",
       " (222, 4),\n",
       " (223, 3),\n",
       " (224, 2),\n",
       " (225, 6),\n",
       " (226, 3),\n",
       " (227, 3),\n",
       " (228, 1),\n",
       " (229, 4),\n",
       " (230, 5),\n",
       " (231, 4),\n",
       " (232, 4),\n",
       " (233, 5),\n",
       " (234, 5),\n",
       " (235, 4),\n",
       " (236, 3),\n",
       " (238, 2),\n",
       " (239, 4),\n",
       " (240, 4),\n",
       " (241, 4),\n",
       " (242, 7),\n",
       " (243, 4),\n",
       " (244, 2),\n",
       " (245, 1),\n",
       " (246, 2),\n",
       " (247, 3),\n",
       " (248, 5),\n",
       " (249, 2),\n",
       " (250, 9),\n",
       " (251, 3),\n",
       " (252, 5),\n",
       " (253, 5),\n",
       " (254, 2),\n",
       " (255, 3),\n",
       " (256, 4),\n",
       " (257, 4),\n",
       " (258, 4),\n",
       " (259, 2),\n",
       " (260, 4),\n",
       " (261, 3),\n",
       " (262, 4),\n",
       " (263, 6),\n",
       " (264, 3),\n",
       " (265, 3),\n",
       " (266, 5),\n",
       " (267, 1),\n",
       " (268, 6),\n",
       " (269, 1),\n",
       " (270, 1),\n",
       " (271, 3),\n",
       " (272, 8),\n",
       " (273, 2),\n",
       " (274, 4),\n",
       " (275, 4),\n",
       " (276, 5),\n",
       " (277, 2),\n",
       " (278, 3),\n",
       " (279, 5),\n",
       " (280, 3),\n",
       " (281, 6),\n",
       " (282, 5),\n",
       " (283, 3),\n",
       " (284, 5),\n",
       " (285, 5),\n",
       " (286, 6),\n",
       " (287, 3),\n",
       " (288, 3),\n",
       " (289, 4),\n",
       " (290, 3),\n",
       " (291, 1),\n",
       " (292, 3),\n",
       " (293, 1),\n",
       " (294, 1),\n",
       " (295, 2),\n",
       " (296, 6),\n",
       " (297, 4),\n",
       " (298, 3),\n",
       " (299, 5),\n",
       " (300, 1)]"
      ]
     },
     "execution_count": 8,
     "metadata": {},
     "output_type": "execute_result"
    }
   ],
   "source": [
    "freq_count = {}\n",
    "for key in long_list:\n",
    "    if key not in freq_count:\n",
    "        freq_count[key]=1\n",
    "    else:\n",
    "        freq_count[key]+=1\n",
    "\n",
    "list(sorted(freq_count.items(), key=lambda x: x[0]))"
   ]
  },
  {
   "cell_type": "code",
   "execution_count": 4,
   "metadata": {},
   "outputs": [],
   "source": [
    "value_freq = {}\n",
    "for k in long_list:\n",
    "    if k in value_freq:\n",
    "        value_freq[k] += 1 #value_freq[k] + 1\n",
    "    else:\n",
    "        value_freq[k] = 1 # 0 + 1"
   ]
  },
  {
   "cell_type": "code",
   "execution_count": 5,
   "metadata": {},
   "outputs": [
    {
     "name": "stdout",
     "output_type": "stream",
     "text": [
      "dict_items([(11, 2), (230, 5), (127, 5), (183, 5), (142, 4), (186, 1), (256, 4), (182, 2), (184, 7), (50, 4), (266, 5), (179, 3), (22, 4), (30, 6), (59, 3), (236, 3), (155, 1), (57, 6), (262, 4), (279, 5), (107, 3), (98, 2), (271, 3), (240, 4), (276, 5), (23, 3), (170, 4), (207, 4), (123, 2), (228, 1), (231, 4), (205, 2), (161, 5), (125, 1), (212, 4), (224, 2), (34, 5), (272, 8), (106, 7), (164, 6), (26, 5), (263, 6), (3, 5), (234, 5), (244, 2), (260, 4), (135, 1), (29, 3), (116, 5), (44, 3), (206, 2), (131, 3), (218, 4), (201, 4), (140, 1), (208, 4), (130, 1), (247, 3), (227, 3), (242, 7), (112, 5), (138, 3), (192, 5), (7, 5), (268, 6), (168, 6), (5, 6), (246, 2), (199, 4), (6, 6), (300, 1), (54, 1), (69, 3), (64, 4), (61, 3), (15, 4), (288, 3), (190, 4), (78, 4), (165, 2), (178, 4), (71, 3), (62, 4), (75, 4), (2, 8), (52, 3), (195, 5), (80, 4), (90, 3), (33, 4), (241, 4), (39, 4), (32, 3), (160, 3), (172, 2), (108, 6), (144, 3), (251, 3), (278, 3), (120, 6), (99, 5), (148, 6), (185, 6), (136, 2), (235, 4), (114, 4), (229, 4), (88, 3), (225, 6), (250, 9), (152, 4), (0, 3), (252, 5), (173, 4), (283, 3), (72, 2), (94, 3), (76, 6), (226, 3), (4, 4), (28, 2), (175, 3), (56, 3), (249, 2), (19, 3), (203, 3), (196, 4), (216, 1), (280, 3), (102, 6), (74, 3), (277, 2), (159, 3), (63, 4), (124, 6), (166, 3), (137, 2), (14, 3), (255, 3), (41, 4), (187, 5), (60, 2), (147, 7), (84, 5), (10, 6), (35, 5), (248, 5), (163, 3), (171, 6), (174, 1), (219, 6), (290, 3), (239, 4), (42, 1), (103, 5), (58, 4), (181, 6), (18, 2), (111, 5), (119, 3), (210, 5), (213, 1), (286, 6), (285, 5), (91, 2), (232, 4), (1, 5), (275, 4), (176, 2), (65, 4), (12, 2), (253, 5), (150, 6), (157, 5), (31, 4), (95, 5), (96, 2), (105, 1), (261, 3), (146, 4), (217, 3), (134, 1), (8, 2), (46, 3), (93, 6), (264, 3), (53, 4), (293, 1), (238, 2), (122, 3), (85, 1), (221, 2), (77, 4), (13, 2), (27, 3), (17, 2), (296, 6), (297, 4), (115, 5), (66, 3), (145, 3), (254, 2), (20, 3), (49, 1), (289, 4), (222, 4), (194, 2), (193, 2), (126, 8), (83, 5), (104, 2), (274, 4), (267, 1), (223, 3), (121, 3), (257, 4), (214, 5), (291, 1), (284, 5), (162, 1), (204, 5), (180, 5), (79, 2), (45, 2), (139, 2), (158, 4), (273, 2), (258, 4), (36, 6), (287, 3), (132, 5), (270, 1), (47, 2), (86, 1), (143, 2), (233, 5), (73, 1), (133, 2), (48, 5), (100, 3), (87, 2), (292, 3), (243, 4), (298, 3), (282, 5), (117, 2), (128, 2), (55, 1), (265, 3), (202, 3), (189, 1), (101, 4), (67, 7), (109, 1), (177, 2), (51, 3), (220, 3), (188, 2), (21, 2), (68, 2), (281, 6), (294, 1), (82, 2), (9, 2), (38, 1), (167, 2), (40, 2), (113, 2), (209, 3), (97, 4), (118, 2), (299, 5), (81, 5), (151, 3), (169, 3), (149, 1), (141, 1), (295, 2), (43, 1), (24, 2), (70, 2), (110, 2), (25, 1), (37, 1), (198, 1), (200, 2), (211, 2), (89, 3), (154, 1), (153, 1), (92, 1), (259, 2), (269, 1), (16, 1), (245, 1)])\n"
     ]
    }
   ],
   "source": [
    "print(value_freq.items())"
   ]
  },
  {
   "cell_type": "markdown",
   "metadata": {},
   "source": [
    "### Exercise 1.12: find the first value appears 3 times in a list"
   ]
  },
  {
   "cell_type": "code",
   "execution_count": 12,
   "metadata": {},
   "outputs": [
    {
     "name": "stdout",
     "output_type": "stream",
     "text": [
      "26\n"
     ]
    }
   ],
   "source": [
    "freq_count = {}\n",
    "for key in long_list:\n",
    "    if key not in freq_count:\n",
    "        freq_count[key]=1\n",
    "    else:        \n",
    "        freq_count[key]+=1\n",
    "        if freq_count[key] == 3:\n",
    "            print(key)\n",
    "            break"
   ]
  },
  {
   "cell_type": "markdown",
   "metadata": {},
   "source": [
    "### Exercise 1.13: print the following pattern of 10 rows and 19 columns"
   ]
  },
  {
   "cell_type": "markdown",
   "metadata": {},
   "source": [
    "```\n",
    "*******************\n",
    "---------*---------\n",
    "********---********\n",
    "-------*****-------\n",
    "******-------******\n",
    "-----*********-----\n",
    "****-----------****\n",
    "---*************---\n",
    "**---------------**\n",
    "-*****************-\n",
    "```"
   ]
  },
  {
   "cell_type": "code",
   "execution_count": 14,
   "metadata": {},
   "outputs": [
    {
     "name": "stdout",
     "output_type": "stream",
     "text": [
      "*******************\n",
      "---------*---------\n",
      "********---********\n",
      "-------*****-------\n",
      "******-------******\n",
      "-----*********-----\n",
      "****-----------****\n",
      "---*************---\n",
      "**---------------**\n",
      "-*****************-\n"
     ]
    }
   ],
   "source": [
    "n_rows = 10\n",
    "n_cols = 19\n",
    "\n",
    "for i in range(10):\n",
    "    if i == 0:\n",
    "        print(\"*\"*n_cols)\n",
    "    else:\n",
    "        if i % 2 == 1:\n",
    "            side, mid = \"-\", \"*\"\n",
    "        else:\n",
    "            side, mid = \"*\", \"-\"\n",
    "        print(side*(n_rows-i) + mid*(2*i -1) + side*(n_rows-i))"
   ]
  },
  {
   "cell_type": "markdown",
   "metadata": {},
   "source": [
    "### Exercise 1.14: Construct a geometric progression\n",
    "- Xn = a* r^(n-1)"
   ]
  },
  {
   "cell_type": "code",
   "execution_count": 16,
   "metadata": {},
   "outputs": [],
   "source": [
    "first_term, ratio = 512, 1.5\n",
    "length = 20"
   ]
  },
  {
   "cell_type": "code",
   "execution_count": 17,
   "metadata": {},
   "outputs": [
    {
     "name": "stdout",
     "output_type": "stream",
     "text": [
      "[512.0, 768.0, 1152.0, 1728.0, 2592.0, 3888.0, 5832.0, 8748.0, 13122.0, 19683.0, 29524.5, 44286.75, 66430.125, 99645.1875, 149467.7812, 224201.6719, 336302.5078, 504453.7617, 756680.6426, 1135020.9639]\n"
     ]
    }
   ],
   "source": [
    "gp_list = [round(first_term*(ratio**(n-1)), 4) for n in range(1,length+1)]\n",
    "print(gp_list)"
   ]
  },
  {
   "cell_type": "markdown",
   "metadata": {},
   "source": [
    "### Exercise 1.15: find the start time of Einstein’s presentation\n",
    "Suppose a presentation session at a conference starts at 8:05am, each speaker is given 25 minutes and they present in the ascending order of their surname, when does Einstein start to present?"
   ]
  },
  {
   "cell_type": "code",
   "execution_count": 19,
   "metadata": {},
   "outputs": [
    {
     "name": "stdout",
     "output_type": "stream",
     "text": [
      "['Erwin Schroedinger', 'Wolfgang Pauli', 'Max Born', 'Niels Bohr', 'Max Planck', 'Madame Curie', 'Hendrik Antoon Lorentz', 'Albert Einstein', 'Paul Langevin', 'Louis Victor de Broglie', 'Paul Dirac', 'Werner Heisenberg']\n"
     ]
    }
   ],
   "source": [
    "physicists = ['Erwin Schroedinger', 'Wolfgang Pauli', 'Max Born', 'Niels Bohr', 'Max Planck', 'Madame Curie', 'Hendrik Antoon Lorentz', 'Albert Einstein', 'Paul Langevin', 'Louis Victor de Broglie', 'Paul Dirac', 'Werner Heisenberg']\n",
    "print(physicists)"
   ]
  },
  {
   "cell_type": "code",
   "execution_count": 7,
   "metadata": {},
   "outputs": [
    {
     "data": {
      "text/plain": [
       "['Niels Bohr',\n",
       " 'Max Born',\n",
       " 'Louis Victor de Broglie',\n",
       " 'Madame Curie',\n",
       " 'Paul Dirac',\n",
       " 'Albert Einstein',\n",
       " 'Werner Heisenberg',\n",
       " 'Paul Langevin',\n",
       " 'Hendrik Antoon Lorentz',\n",
       " 'Wolfgang Pauli',\n",
       " 'Max Planck',\n",
       " 'Erwin Schroedinger']"
      ]
     },
     "execution_count": 7,
     "metadata": {},
     "output_type": "execute_result"
    }
   ],
   "source": [
    "sorted_physicists = sorted(physicists, key=lambda x: x.split()[-1])\n",
    "sorted_physicists"
   ]
  },
  {
   "cell_type": "code",
   "execution_count": 8,
   "metadata": {},
   "outputs": [
    {
     "data": {
      "text/plain": [
       "125"
      ]
     },
     "execution_count": 8,
     "metadata": {},
     "output_type": "execute_result"
    }
   ],
   "source": [
    "present_time = {physicist: index*25 for index, physicist in enumerate(sorted_physicists)}\n",
    "present_time['Albert Einstein']"
   ]
  },
  {
   "cell_type": "code",
   "execution_count": 13,
   "metadata": {
    "scrolled": false
   },
   "outputs": [
    {
     "name": "stdout",
     "output_type": "stream",
     "text": [
      "Einstein 's presentation time: 10:10 \n"
     ]
    }
   ],
   "source": [
    "from datetime import datetime, timedelta\n",
    "time_str = '8:05'\n",
    "time_format = '%H:%M'\n",
    "# create datetime object from timestamp string\n",
    "start_time = datetime.strptime(time_str, time_format)\n",
    "#Add 125 mins to start_time, which will be Einstein's start time\n",
    "final_time = start_time + timedelta(minutes=present_time['Albert Einstein'])\n",
    "\n",
    "# Convert datetime object to string in specific format \n",
    "final_time_str = final_time.strftime(time_format)\n",
    "print(f\"Einstein 's presentation time: {final_time_str} \")"
   ]
  },
  {
   "cell_type": "markdown",
   "metadata": {},
   "source": [
    "### Solution"
   ]
  },
  {
   "cell_type": "code",
   "execution_count": 26,
   "metadata": {},
   "outputs": [
    {
     "name": "stdout",
     "output_type": "stream",
     "text": [
      "10:10\n"
     ]
    }
   ],
   "source": [
    "surname = [i.split()[-1] for i in physicists] #Assume surname is the last word of each name\n",
    "surname.sort()\n",
    "start_time = (8*60 + 5) #start time convert to minutes\n",
    "v = start_time + 25*surname.index(\"Einstein\")\n",
    "print(f'{v//60:02d}:{v%60:02d}')"
   ]
  },
  {
   "cell_type": "markdown",
   "metadata": {},
   "source": [
    "### Exercise 1.16: list words that have appeared at least 3 times"
   ]
  },
  {
   "cell_type": "code",
   "execution_count": 29,
   "metadata": {},
   "outputs": [],
   "source": [
    "speech = ['the United States has conducted an operation that killed Osama bin Laden',\n",
    "         'Abu Bakr al-Baghdadi is dead',\n",
    "         'the United States launched a targeted operation against that compound',\n",
    "         'they did a lot of shooting and they did a lot of blasting even not going through the front door You know you would think you go through the door If you are a normal person you say Knock knock  May I come in',\n",
    "         'After a firefight they killed Osama bin Laden and took custody of his body',\n",
    "         'He died like a dog',\n",
    "         'Yet his death does not mark the end of our effort',\n",
    "         'a beautiful dog a talented dog',\n",
    "         'We give thanks for the men who carried out this operation',\n",
    "         'And I dont get any credit for this but thats okay I never do But here we are',\n",
    "         'May God bless you And may God bless the United States of America',\n",
    "         'And Im writing a book I think I wrote 12 books All did very well']"
   ]
  },
  {
   "cell_type": "code",
   "execution_count": 35,
   "metadata": {},
   "outputs": [],
   "source": [
    "word_count = dict()\n",
    "for sentence in speech:\n",
    "    for word in sentence.split():\n",
    "        word = word.lower()\n",
    "        if word not in word_count:\n",
    "            word_count[word] = 1\n",
    "        else:\n",
    "            word_count[word] += 1"
   ]
  },
  {
   "cell_type": "code",
   "execution_count": 36,
   "metadata": {},
   "outputs": [],
   "source": [
    "freq_3 = [k for k,v in word_count.items() if v >= 3]"
   ]
  },
  {
   "cell_type": "code",
   "execution_count": 37,
   "metadata": {
    "scrolled": true
   },
   "outputs": [
    {
     "data": {
      "text/plain": [
       "['the',\n",
       " 'united',\n",
       " 'states',\n",
       " 'operation',\n",
       " 'a',\n",
       " 'they',\n",
       " 'did',\n",
       " 'of',\n",
       " 'and',\n",
       " 'you',\n",
       " 'may',\n",
       " 'i',\n",
       " 'dog']"
      ]
     },
     "execution_count": 37,
     "metadata": {},
     "output_type": "execute_result"
    }
   ],
   "source": [
    "freq_3"
   ]
  },
  {
   "cell_type": "markdown",
   "metadata": {},
   "source": [
    "### Solution"
   ]
  },
  {
   "cell_type": "code",
   "execution_count": 37,
   "metadata": {},
   "outputs": [],
   "source": [
    "words = [word.lower() for sentence in speech for word in sentence.split()]"
   ]
  },
  {
   "cell_type": "code",
   "execution_count": 38,
   "metadata": {},
   "outputs": [
    {
     "name": "stdout",
     "output_type": "stream",
     "text": [
      "the united states operation a they did of and you may i dog\n"
     ]
    }
   ],
   "source": [
    "word_count = {}\n",
    "for w in words:\n",
    "    word_count[w] = word_count.get(w, 0) + 1\n",
    "print(\" \".join([w for w,c in word_count.items() if c >= 3]))"
   ]
  },
  {
   "cell_type": "code",
   "execution_count": null,
   "metadata": {},
   "outputs": [],
   "source": []
  }
 ],
 "metadata": {
  "kernelspec": {
   "display_name": "Python 3",
   "language": "python",
   "name": "python3"
  },
  "language_info": {
   "codemirror_mode": {
    "name": "ipython",
    "version": 3
   },
   "file_extension": ".py",
   "mimetype": "text/x-python",
   "name": "python",
   "nbconvert_exporter": "python",
   "pygments_lexer": "ipython3",
   "version": "3.8.8"
  }
 },
 "nbformat": 4,
 "nbformat_minor": 4
}
