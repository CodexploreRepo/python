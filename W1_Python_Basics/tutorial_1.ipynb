{
 "cells": [
  {
   "cell_type": "markdown",
   "metadata": {},
   "source": [
    "### Question 1.21: Find the pair of nearest points in Euclidean distance\n",
    "\n",
    "Give a list of 200 2-dimensional points"
   ]
  },
  {
   "cell_type": "code",
   "execution_count": 1,
   "metadata": {},
   "outputs": [],
   "source": [
    "points = [[1.6917766692855842, -5.755629277630385], [7.675827069862372, 7.301699114949773], [-3.2909129520196334, 9.613848011649935], [-9.085072103632527, -1.494685042518995], [-1.4697584875414886, -2.7246611030972367], [-2.976539234942413, -4.837062248394437], [-5.764304539098299, 2.993570134491293], [-7.315877529023922, -9.705105482173941], [1.707258575977411, 8.485934115270496], [-8.351619858350414, -5.223846451971372], [-5.828795444668502, 3.976366472397393], [8.720271552698694, -3.2124379846092825], [-0.4054482808742037, 9.317930145526955], [6.510986951874475, -2.1819354371980904], [-2.9962592160097756, -7.31509680893523], [9.083360339101048, 7.829967068419251], [-1.3331436878552552, 3.1603946549411432], [6.458132015006093, 8.822434340960669], [7.16827365354672, -3.4508012637846512], [-5.326845746838891, 9.040483027647156], [4.876441225663108, 5.232449738531539], [8.712743288792506, -3.7280349050848205], [7.466241207765329, 2.379265289757564], [-0.9978936202890551, 1.6449368506129112], [-2.6773431893653266, -0.40694827311359916], [-1.8106293810449987, 2.213838668872807], [4.947071131296752, 3.8097106485733008], [5.950466307087394, -7.2512068192895125], [-1.1945786627066717, -5.044692372482798], [2.8811835000735186, 8.851997733796221], [-0.2955365925438471, -9.53917142360364], [-2.011593976593165, -3.542159913868959], [-5.769156935219925, -5.5530087458111606], [9.295871879150603, -3.1240063531616125], [9.756200956431801, 6.479447636789221], [0.8652659943599339, 7.223803402253235], [-3.0332492431783713, -2.1682838845029355], [-0.46657573289961896, 6.8578688639078464], [-2.8117123795590304, -9.572150259865635], [7.203169784969749, 8.753192289873127], [5.224452974702636, 6.857696807277627], [-0.049900556065052726, -1.6942071762016973], [3.5917999402331073, 5.805997834258715], [-5.726479558318768, -7.825976148522635], [4.4719508762928974, -0.47119270370785493], [-8.51658927302788, 9.019684845294073], [9.998303580126834, 1.0909413091749443], [-7.490707783997972, -4.918960983306291], [-2.3814557996463215, 0.4179856971303444], [-4.74392775076129, -4.954224114510013], [-3.3798603785546284, 7.4349511827236405], [3.348941636633935, -4.119066801277675], [3.069597715313229, 8.095932206766918], [-9.977767715384749, 6.31860517880245], [-7.694480444296634, -2.2312884198209426], [7.009378799427232, -9.813278209833005], [-6.892764172568169, 0.4037318298032808], [1.934551861184664, 9.647259153474256], [-1.684970151131278, 6.715523798836713], [4.778791910872442, -6.302597588632741], [7.880213948051896, -6.87757837319777], [3.018764954167871, 9.55577737941606], [9.442098648513728, -1.7971299117298027], [4.294009056182848, 2.9257922144291086], [-7.488141519192402, 3.194146869954558], [4.4044943363257865, 3.47156887284239], [-5.265210866237737, 0.935707859404797], [1.0874401120301478, 4.769687266008177], [3.6677610968015735, 2.329559760946882], [1.3264496075559418, 6.8853295396453476], [2.5218992542292025, -5.3065171699363445], [-6.891179995601471, 1.4638922450737049], [-4.104604058398198, -0.3519967592988227], [-6.387767854843327, -4.577263623649737], [5.677380281111347, -7.529320047947541], [6.8499814135785435, 2.7651117469683975], [4.524713991980372, 7.031248939975825], [-6.219936466401483, 6.892438002621454], [7.118149238188241, -9.529551925292782], [4.114057119430395, -2.8804850370519564], [1.1264331754207308, 9.342444010097452], [-3.3387597997519496, -1.030669371597714], [2.754752556298641, -3.8303761593096564], [2.909388807772359, -5.627376431102753], [4.069630695597288, 4.094098821729082], [-0.22956514974007902, -4.58853096311544], [7.534625539128605, -4.639398935950235], [4.0975226435368235, 1.7820187555361073], [4.523097584062741, 1.049588730388077], [8.417023917682236, 0.1800789755507548], [0.7221429129456567, 6.043776101932181], [7.951069747757323, 3.5232376580146934], [4.436388479108524, 1.9518412860140444], [0.8948126626225257, 1.6870313023848187], [-8.572283501649252, 7.636418415404268], [-7.598099763010668, 9.74677805351963], [-5.474665381459111, -0.09997403697378004], [-9.62348607265123, 8.1817556106746], [4.832941301248653, -7.471586076153429], [0.05489249120935469, 4.427018862646381], [-0.7623078015360356, -4.907223326092369], [5.034440191453175, -7.262422368215999], [0.6749115867488484, 1.0617316506040897], [-5.1257522163309694, 3.0558877666004243], [7.989879083992175, 6.113310630467961], [-6.717271141351702, 6.257733867841495], [2.983926361240556, 3.042070100993019], [5.110723815722771, 9.969387392449438], [7.979605659313002, -3.119594793941558], [2.8722736848244175, -8.92267951192901], [1.4725245815339516, 7.7370401415203425], [5.418909068505318, -9.899664895856628], [-0.3293559589320534, -9.437455767069785], [-5.34092368773914, 0.9864061312783186], [-5.154479072122699, 6.40140805792705], [-0.9157534309671682, -3.9493086221799834], [6.995617487705161, 4.338249584691781], [-4.621252431635439, -5.671606152930753], [-7.925718226173945, 5.084347460461391], [-9.208656699649092, 2.2542831481077954], [2.677446578667597, -2.815260402542414], [1.5725772741199417, 5.984661070798369], [-8.214349445840588, 2.8719923126330187], [-5.250694847383057, 8.186106947277043], [-9.602658269493816, 9.444386484846465], [9.115835186422256, 5.871935528361178], [-2.5287196350232737, 2.887246469932851], [-2.1372641737135734, -1.8391371234033809], [-1.1082552861090988, -4.2077726793698496], [4.629226584152599, -1.8924358944589734], [-5.2525786527691665, -9.369867782433111], [9.689666432703984, 8.631856666441546], [-3.1058640538038906, -7.112691119818997], [3.8351850067247675, -7.816140083215879], [8.059420357182002, -3.9918994148213045], [8.987126313071869, 9.670169215984295], [-8.004125422134386, -7.1932295635881065], [-0.06738368787870286, 4.151225812072738], [-6.321804627995416, 6.465945820534664], [-6.272914208292708, -6.651387059839684], [-0.650918077356728, 1.1571804929060008], [9.900367553654284, -9.549655307552209], [-5.356214337566534, -1.5157332931067398], [-5.493398811827042, -5.103215154502985], [4.394427744530926, -6.258852539216266], [0.651214329260787, 8.205110848341754], [-2.887747978726665, 0.45437176710394667], [7.2358298248090875, -0.7626602653399406], [-1.6802984837606445, -1.521300620569285], [6.2871381561148745, 7.550379731999151], [8.828265968582258, -5.450358190359445], [-2.771419010097665, 4.965733736649366], [7.283791183364258, -9.330647069466309], [1.1503066518591716, -1.494280922589116], [5.430985505849231, 3.6506997889161177], [6.368883543730131, 2.5665925873045214], [8.27268807049646, -2.8108071086508613], [-8.761049538238906, -1.6668399813187218], [6.969563475322449, 4.870653532707438], [-3.8088639686044923, -8.04770050129066], [-6.588753626385426, -5.479445503860109], [0.3628758153674525, -7.375003116652234], [4.2110293083088735, -8.173588108962464], [9.109404060819152, 5.0945898294577425], [1.202164552896999, -6.704377860207917], [3.678524338607412, -6.480872921026548], [-9.2398934138698, 9.76162162677548], [5.014304634637492, -2.4366142669971076], [-0.7032174537587714, -8.412492474901585], [-7.914280615312719, -9.611747935706859], [8.375659961940777, 8.983443372571148], [-3.3398204611856848, -4.1187025796210825], [7.776476441020563, -2.147519947412942], [6.021515870950164, 9.586902937160275], [5.399893902345628, -4.2287458010492145], [1.1876175402532994, -1.6866656645274158], [9.74486427533984, 4.557794093707109], [-9.224676163399579, -2.700399005920211], [0.8443253817877387, 5.148506043849885], [3.8089155234248278, -0.08432848625492895], [8.657341530126452, 9.731798284743121], [5.54498708607046, -9.173588536034211], [-3.324039445073714, 9.816471573057132], [3.4925222371530076, -4.5624259495605095], [-9.58522266877101, -2.958387712219963], [-6.1029158407825275, 0.3190439014138118], [2.9081452608597242, 0.15094304627423938], [8.14261912316013, 0.14005581572142312], [-9.86297822478999, 9.9630163124958], [2.8257928317496344, -2.7283387054290165], [3.7547434905675114, -1.7952181505798883], [-5.749168201073395, 6.1766418276003705], [-4.680119791390682, 8.930237286122129], [-3.953594775616896, 6.842726263223426], [8.502438568323704, -0.7444855789600986], [-2.9955321537705615, 3.3497140964060073], [-2.1949766474129113, 2.0897368044250157], [8.72756539060871, 4.6607545572283104], [-4.153754350587191, 2.3678095388120113], [4.862091715463841, 2.1254725176755827]]"
   ]
  },
  {
   "cell_type": "code",
   "execution_count": 4,
   "metadata": {},
   "outputs": [
    {
     "data": {
      "text/plain": [
       "200"
      ]
     },
     "execution_count": 4,
     "metadata": {},
     "output_type": "execute_result"
    }
   ],
   "source": [
    "import math\n",
    "len(points)"
   ]
  },
  {
   "cell_type": "code",
   "execution_count": 14,
   "metadata": {},
   "outputs": [
    {
     "name": "stdout",
     "output_type": "stream",
     "text": [
      "Min = 0.0911 where points are [-5.265210866237737, 0.935707859404797], and [-5.34092368773914, 0.9864061312783186] \n"
     ]
    }
   ],
   "source": [
    "\n",
    "dist_dict = dict()\n",
    "for i in range(len(points)):\n",
    "    for j in range(i+1, len(points)):\n",
    "        dist_dict[(i,j)] = math.sqrt((points[i][0] - points[j][0])**2 + (points[i][1] - points[j][1])**2)\n",
    "\n",
    "pair, min_dist = min(dist_dict.items(), key=lambda x: x[1]) \n",
    "print(f\"Min = {min_dist:.4f} where points are {points[pair[0]]}, and {points[pair[1]]} \")"
   ]
  },
  {
   "cell_type": "code",
   "execution_count": 7,
   "metadata": {},
   "outputs": [
    {
     "name": "stdout",
     "output_type": "stream",
     "text": [
      "0.09111940578529276 [-5.265210866237737, 0.935707859404797] [-5.34092368773914, 0.9864061312783186]\n"
     ]
    }
   ],
   "source": [
    "n = len(points)\n",
    "min_dist = float(\"inf\") \n",
    "min_i, min_j = 0,0\n",
    "for i in range(n):\n",
    "    for j in range(i+1, n):\n",
    "        d = math.sqrt((points[i][0] - points[j][0])**2 + (points[i][1] - points[j][1])**2)\n",
    "        if d < min_dist:\n",
    "            min_dist, min_i, min_j = d, i, j\n",
    "            \n",
    "print(min_dist, points[min_i],points[min_j])      "
   ]
  },
  {
   "cell_type": "markdown",
   "metadata": {},
   "source": [
    "### Question 1.22: Find longest palindrome\n",
    "\n",
    "if two palindromes are of same length, return the one appears first<br>\n",
    "optional part: if two palindromes are of same length, return the one appears first in alphabetical order"
   ]
  },
  {
   "cell_type": "markdown",
   "metadata": {},
   "source": [
    "e.g. s = 'abbabcdefghijihgfedcbaaabbbbaaaabbaaaabbbbaaabc' => return 'cbaaabbbbaaaabbaaaabbbbaaabc'"
   ]
  },
  {
   "cell_type": "code",
   "execution_count": 9,
   "metadata": {},
   "outputs": [],
   "source": [
    "s = 'abbabcdefghijihgfedcbaaabbbbaaaabbaaaabbbbaaabc'"
   ]
  },
  {
   "cell_type": "code",
   "execution_count": 24,
   "metadata": {},
   "outputs": [
    {
     "data": {
      "text/plain": [
       "'abcdefghijihgfedcba'"
      ]
     },
     "execution_count": 24,
     "metadata": {},
     "output_type": "execute_result"
    }
   ],
   "source": [
    "s[3:22]"
   ]
  },
  {
   "cell_type": "code",
   "execution_count": 30,
   "metadata": {
    "scrolled": true
   },
   "outputs": [
    {
     "name": "stdout",
     "output_type": "stream",
     "text": [
      "28 cbaaabbbbaaaabbaaaabbbbaaabc\n"
     ]
    }
   ],
   "source": [
    "max_value = float(\"-inf\")\n",
    "palindrome = \"\"\n",
    "\n",
    "for i in range(len(s)):\n",
    "    for j in range(i+1, len(s)):\n",
    "        if s[i:j+1] == s[i:j+1][::-1]: #j + 1 as s[i:j+1] as not including j+1\n",
    "            pal_len = len(s[i:j+1]) \n",
    "            if pal_len > max_value:\n",
    "                max_value = pal_len\n",
    "                palindrome = s[i:j+1]\n",
    "\n",
    "print(max_value, palindrome)"
   ]
  },
  {
   "cell_type": "code",
   "execution_count": 15,
   "metadata": {},
   "outputs": [
    {
     "name": "stdout",
     "output_type": "stream",
     "text": [
      "{1: 'a', 3: 'aaa', 19: 'abcdefghijihgfedcba', 5: 'baaab', 4: 'abba', 2: 'aa', 10: 'aaabbbbaaa', 8: 'bbaaaabb', 28: 'cbaaabbbbaaaabbaaaabbbbaaabc'}\n"
     ]
    }
   ],
   "source": [
    "n = len(s)\n",
    "palindrome = {}\n",
    "\n",
    "#Case 1 - Pal is Odd: aba - i is in the center\n",
    "for i in range(n):\n",
    "    j = 1\n",
    "    while( j <= i and j < n - i): #i - j >=0 => i >= j; i+j < n => j < n - i\n",
    "        if s[i-j] != s[i+j]:\n",
    "            break\n",
    "        j+=1\n",
    "    #len_pal = 2*j - 1 as we double counts (2*j) the center, so need to minus 1 center\n",
    "    #s[i-j+1:i+j] < palindrome[2*j -1] to take care \"return the one appears first in alphabetical order\" \n",
    "    if 2*j -1 not in palindrome or s[i-j+1:i+j] < palindrome[2*j -1]: \n",
    "        palindrome[2*j -1] = s[i-j+1:i+j]\n",
    "\n",
    "#Case 2 - Pal is Even: abba i and i+1 in the center\n",
    "for i in range(n-1):\n",
    "    if s[i] == s[i+1]:\n",
    "        j = 1\n",
    "        while( j <= i and j < n - i - 1): #i - j >=0 => i >= j; i+j < n-1 => j < n - i -1\n",
    "            if s[i-j] != s[i+1+j]:\n",
    "                break\n",
    "            j+=1\n",
    "        if 2*j not in palindrome or s[i-j+1:i+1+j] < palindrome[2*j]: \n",
    "            palindrome[2*j] = s[i-j+1:i+1+j]\n",
    "\n",
    "print(palindrome)"
   ]
  },
  {
   "cell_type": "markdown",
   "metadata": {},
   "source": [
    "### Question 1.23 : Largest number in a string matching -- in single scan\n",
    "\n",
    "e.g. string = 'abc123def789.456' => return 789.456"
   ]
  },
  {
   "cell_type": "code",
   "execution_count": 18,
   "metadata": {},
   "outputs": [],
   "source": [
    "s = 'abc123def789.456' "
   ]
  },
  {
   "cell_type": "code",
   "execution_count": 8,
   "metadata": {},
   "outputs": [
    {
     "name": "stdout",
     "output_type": "stream",
     "text": [
      "['123', '789.456']\n",
      "789.456\n"
     ]
    }
   ],
   "source": [
    "import re\n",
    "\n",
    "x = re.findall(r\"\\d+.\\d+\", string)\n",
    "print(x)\n",
    "print(max(x, key=lambda x: len(x)))"
   ]
  },
  {
   "cell_type": "code",
   "execution_count": 21,
   "metadata": {},
   "outputs": [
    {
     "name": "stdout",
     "output_type": "stream",
     "text": [
      "789.456\n"
     ]
    }
   ],
   "source": [
    "n = len(s)\n",
    "max_float = 0.0\n",
    "first, second = '0','0' #2 container\n",
    "for i in range(n):\n",
    "    if s[i].isdigit():\n",
    "        first += s[i]\n",
    "        second += s[i]\n",
    "    elif s[i] == '.':\n",
    "        max_float = max(max_float, float(second))\n",
    "        second = first+'.' #use second container to continue after '.'\n",
    "        first = '0' #reset first container to zero\n",
    "    elif len(first) > 1 or len(second) > 1: #If we found a char not '.', we need to store the current value\n",
    "        max_float = max(max_float, max(float(first), float(second)))\n",
    "        first, second = '0', '0'\n",
    "    else:\n",
    "        pass\n",
    "\n",
    "    #In case, it breaks the loop, but yet to compare the final first and second with max_float\n",
    "max_float = max(max_float, max(float(first), float(second))) \n",
    "print(max_float)"
   ]
  },
  {
   "cell_type": "markdown",
   "metadata": {},
   "source": [
    "### Question 1.24: Write the naive primality test algorithm"
   ]
  },
  {
   "cell_type": "markdown",
   "metadata": {},
   "source": [
    "Basic method : check one by one (the most naive version: check number by number, factor by factor)<br/>\n",
    "Example:\n",
    "- check if 13 is a prime<br/>\n",
    "-- check from all numbers between 2 and 12 inclusive, none of them is a factor of 13<br/>\n",
    "-- then we know 13 is a prime<br/>\n",
    "- proceed to 14 to check if it is a prime"
   ]
  },
  {
   "cell_type": "markdown",
   "metadata": {},
   "source": [
    "Improvement 1: primality can be determined as long as one non-trivial factor is found<br/>\n",
    "Improvement 2: do you need to check even numbers? Can an odd number be divided by an even number?<br/>\n",
    "Improvement 3: can checking on non-trivial factors be terminated earlier?"
   ]
  },
  {
   "cell_type": "code",
   "execution_count": 23,
   "metadata": {},
   "outputs": [
    {
     "data": {
      "text/plain": [
       "True"
      ]
     },
     "execution_count": 23,
     "metadata": {},
     "output_type": "execute_result"
    }
   ],
   "source": [
    "num = 13\n",
    "def check_primality(num):\n",
    "    if num % 2 == 0 and num != 2:\n",
    "        return False\n",
    "    else:\n",
    "        for i in range(3, num, 2):\n",
    "            if num%i == 0:\n",
    "                return False\n",
    "        else:\n",
    "            return True\n",
    "\n",
    "check_primality(2)"
   ]
  },
  {
   "cell_type": "code",
   "execution_count": 30,
   "metadata": {},
   "outputs": [
    {
     "name": "stdout",
     "output_type": "stream",
     "text": [
      "[2, 3, 5, 7, 9, 11, 13, 15, 17, 19, 23, 25, 29, 31, 35, 37, 41, 43, 47, 49, 53, 59, 61, 67, 71, 73, 79, 83, 89, 97, 101, 103, 107, 109, 113, 121, 127, 131, 137, 139, 143, 149, 151, 157, 163, 167, 169, 173, 179, 181, 191, 193, 197, 199]\n"
     ]
    }
   ],
   "source": [
    "prime = [2]\n",
    "for i in range(3, 200, 2):\n",
    "    is_prime = True\n",
    "    for f in range(3, int(math.sqrt(i)), 2):\n",
    "        if i % f == 0:\n",
    "            is_prime = False\n",
    "            break\n",
    "    if is_prime:\n",
    "        prime.append(i)\n",
    "print(prime)"
   ]
  },
  {
   "cell_type": "code",
   "execution_count": 31,
   "metadata": {},
   "outputs": [
    {
     "name": "stdout",
     "output_type": "stream",
     "text": [
      "[2, 3, 5, 7, 11, 13, 17, 19, 23, 29, 31, 37, 41, 43, 47, 53, 59, 61, 67, 71, 73, 79, 83, 89, 97, 101, 103, 107, 109, 113, 127, 131, 137, 139, 149, 151, 157, 163, 167, 173, 179, 181, 191, 193, 197, 199]\n"
     ]
    }
   ],
   "source": [
    "prime = [2]\n",
    "for i in range(3,200,2):\n",
    "    f = 3\n",
    "    while f*f <=i:\n",
    "        if i % f == 0:\n",
    "            break\n",
    "        f+=2 #Since we dont need to divide by even number\n",
    "    else:\n",
    "        prime.append(i)\n",
    "print(prime)"
   ]
  },
  {
   "cell_type": "markdown",
   "metadata": {},
   "source": [
    "### Question 1.25: Sudoku checker (I) -- return the list of possible values for each cell"
   ]
  },
  {
   "cell_type": "markdown",
   "metadata": {},
   "source": [
    "| | | | | | | | | |\n",
    "|---|---|---|---|---|---|---|---|---|\n",
    "| | |7| | | |1|?|&|\n",
    "| |5|9| | | |2|3|%|\n",
    "|8|2|3| | | |4|5|6|\n",
    "|5|1| | | | | |7|8|\n",
    "|9| | |1| |3| | |4|\n",
    "| | |4|2| |8|9| | |\n",
    "| |7|5|3| |6|8|9| |\n",
    "| |8|6| | | |7|1| |\n",
    "| |9| | | | | |4| |"
   ]
  },
  {
   "cell_type": "code",
   "execution_count": 35,
   "metadata": {},
   "outputs": [],
   "source": [
    "sudoku1 = ['  7   1  ', ' 59   23 ', '823   456', '51     78', '9  1 3  4', '  42 89  ', ' 753 689 ', ' 86   71 ', ' 9     4 ']\n",
    "sudoku2 = ['         ', ' 528 614 ', ' 98   27 ', '  12 39  ', '735   682', ' 695 741 ', ' 1 3 8 9 ', '42 7 1 65', '         ']\n",
    "sudoku3 = ['    76 3 ', ' 13 8  92', ' 4 2 31  ', '  86  5 9', '26     78', '4 9  82  ', '  17 5 2 ', '95  3 41 ', ' 2 96    ']"
   ]
  },
  {
   "cell_type": "markdown",
   "metadata": {},
   "source": [
    "#### Example:\n",
    "Take the 3x3 square at the upper right corner for example, 1, 2, 3, 4, 5, 6 are already filled. We use '?', '&' and '%' to represent the remaining three positions.<br>\n",
    "7 cannot be in the first row, as there is a 7 in the first row in the 3x3 square upper left corner. So 7 must be at the position '%', so 7 is the only possible value at the cell (row = 2, col = 9), and we write '(2, 9): 7' in one line.<br>\n",
    "Likewise, 8 cannot be in the last column, as there is already a 8 in the last column. So 8 must be at the position '?', we write '(1, 8): 8' to state the only possible value at cell (row = 1, col = 8) is 8.<br>\n",
    "After that, the only missing value in the 3x3 square upper right corner is 9, and it must be at the position '&'. Therefore, we write '(1, 9): 9'.<br>\n",
    "In this exercise, your goal is to list possible values for each cell. When there is uncertainty, you are allowed to list multiple values for one cell, but try your best to keep this list as short as possible, i.e., remove as many impossible values as possible for each cell."
   ]
  },
  {
   "cell_type": "markdown",
   "metadata": {},
   "source": [
    "#### Hint:\n",
    "1. Build the initial sudoku board with -1 being unfilled ==> the board is a 2-dimensional array\n",
    "2. Build a list of possible values for each cell ==> this should be a 3-dimensional array\n",
    "3. If a cell is marked with a value v<br>\n",
    "3a) other cells in the same row should mark v as impossible<br>\n",
    "3b) other cells in the same column should mark v as impossible<br>\n",
    "3c) the 3x3 square where this cell is in should mark v as impossible<br>\n",
    "4. Output the list of possible values for each empty cell"
   ]
  },
  {
   "cell_type": "raw",
   "metadata": {},
   "source": [
    "# for sudoku1, as shown above, the result should look like this:\n",
    "(1, 1): 4 6\n",
    "(1, 2): 4 6\n",
    "(1, 4): 4 5 6 8 9\n",
    "(1, 5): 2 3 4 5 6 8 9\n",
    "(1, 6): 2 4 5 9\n",
    "(1, 8): 8\n",
    "(1, 9): 9\n",
    "(2, 1): 1 4 6\n",
    "(2, 4): 4 6 7 8\n",
    "(2, 5): 1 4 6 7 8\n",
    "(2, 6): 1 4 7\n",
    "(2, 9): 7\n",
    "(3, 4): 7 9\n",
    "(3, 5): 1 7 9\n",
    "(3, 6): 1 7 9\n",
    "(4, 3): 2\n",
    "(4, 4): 4 6 9\n",
    "(4, 5): 4 6 9\n",
    "(4, 6): 4 9\n",
    "(4, 7): 3 6\n",
    "(5, 2): 6\n",
    "(5, 3): 2 8\n",
    "(5, 5): 5 6 7\n",
    "(5, 7): 5 6\n",
    "(5, 8): 2 6\n",
    "(6, 1): 3 6 7\n",
    "(6, 2): 3 6\n",
    "(6, 5): 5 6 7\n",
    "(6, 8): 6\n",
    "(6, 9): 1 3 5\n",
    "(7, 1): 1 2 4\n",
    "(7, 5): 1 2 4\n",
    "(7, 9): 2\n",
    "(8, 1): 2 3 4\n",
    "(8, 4): 4 5 9\n",
    "(8, 5): 2 4 5 9\n",
    "(8, 6): 2 4 5 9\n",
    "(8, 9): 2 3 5\n",
    "(9, 1): 1 2 3\n",
    "(9, 3): 1 2\n",
    "(9, 4): 5 7 8\n",
    "(9, 5): 1 2 5 7 8\n",
    "(9, 6): 1 2 5 7\n",
    "(9, 7): 3 5 6\n",
    "(9, 9): 2 3 5"
   ]
  },
  {
   "cell_type": "code",
   "execution_count": 28,
   "metadata": {},
   "outputs": [],
   "source": [
    "def build_sudoku_board(board):\n",
    "    return [[int(item) if not item.isspace() else -1 for item in row] for row in board]\n",
    "\n",
    "board = build_sudoku_board(sudoku1)"
   ]
  },
  {
   "cell_type": "code",
   "execution_count": 29,
   "metadata": {},
   "outputs": [],
   "source": [
    "def find_next_empty(puzzle):\n",
    "    for r in range(9):\n",
    "        for c in range(9):\n",
    "            if puzzle[r][c] == -1:\n",
    "                return (r, c)\n",
    "    return None, None #if no spaces in the puzzle to make a guess\n",
    "\n",
    "def is_valid(puzzle, guess, row, col):\n",
    "    # figures out whether the guess at the row/col of the puzzle is a valid guess\n",
    "    # returns True or False\n",
    "    # Let s start with the row:\n",
    "    row_vals = puzzle[row]\n",
    "    #Column:\n",
    "    col_vals = [r[col] for r in puzzle]\n",
    "    if guess in row_vals:\n",
    "        return False\n",
    "    if guess in col_vals:\n",
    "        return False\n",
    "    #And then the square 3x3 matrix\n",
    "    #Find the start index of 3x3 matrix\n",
    "    row_start = (row//3)*3 #row//3 to identify if first, second or third matrix\n",
    "    col_start = (col//3)*3\n",
    "    for r in range(row_start, row_start+3):\n",
    "        for c in range(col_start, col_start+3):\n",
    "            if puzzle[r][c] == guess:\n",
    "                return False\n",
    "    return True\n",
    "    \n",
    "def solve_sudoku(puzzle):\n",
    "    # Step 1: Choose somewhere on the puzzle to make a guess\n",
    "    row, col = find_next_empty(puzzle)\n",
    "    # Step 1.1: if row, col = None, we finished\n",
    "    if row is None:\n",
    "        return True\n",
    "    # step 2: if there is a place to put a number, then make a guess between 1 and 9\n",
    "    for guess in range(1,10):\n",
    "        # step 3: check if this is a valid guess\n",
    "        if is_valid(puzzle, guess, row, col):\n",
    "            # Step 3.1: \n",
    "            puzzle[row][col] = guess\n",
    "            if solve_sudoku(puzzle):\n",
    "                return True\n",
    "        # step 5: it not valid or if nothing gets returned true, then we need to backtrack and try a new number\n",
    "        puzzle[row][col] = -1\n",
    "    return False"
   ]
  },
  {
   "cell_type": "code",
   "execution_count": 30,
   "metadata": {},
   "outputs": [
    {
     "data": {
      "text/plain": [
       "True"
      ]
     },
     "execution_count": 30,
     "metadata": {},
     "output_type": "execute_result"
    }
   ],
   "source": [
    "solve_sudoku(board)"
   ]
  },
  {
   "cell_type": "code",
   "execution_count": 31,
   "metadata": {},
   "outputs": [
    {
     "data": {
      "text/plain": [
       "[[6, 4, 7, 5, 3, 2, 1, 8, 9],\n",
       " [1, 5, 9, 6, 8, 4, 2, 3, 7],\n",
       " [8, 2, 3, 7, 9, 1, 4, 5, 6],\n",
       " [5, 1, 2, 4, 6, 9, 3, 7, 8],\n",
       " [9, 6, 8, 1, 7, 3, 5, 2, 4],\n",
       " [7, 3, 4, 2, 5, 8, 9, 6, 1],\n",
       " [4, 7, 5, 3, 1, 6, 8, 9, 2],\n",
       " [2, 8, 6, 9, 4, 5, 7, 1, 3],\n",
       " [3, 9, 1, 8, 2, 7, 6, 4, 5]]"
      ]
     },
     "execution_count": 31,
     "metadata": {},
     "output_type": "execute_result"
    }
   ],
   "source": [
    "board"
   ]
  },
  {
   "cell_type": "code",
   "execution_count": 32,
   "metadata": {},
   "outputs": [],
   "source": [
    "value = [[-1]*9 for _ in range(9)]\n",
    "possible = [[[True]*10 for _ in range(9)] for _ in range(9)] #10 we need to map possible[1] to possible[9], will ignore possible[0]"
   ]
  },
  {
   "cell_type": "code",
   "execution_count": 33,
   "metadata": {},
   "outputs": [],
   "source": [
    "value = []\n",
    "for _ in range(9):\n",
    "    value.append([-1]*9)\n",
    "possible = []\n",
    "for _ in range(9):\n",
    "    for _ in range(9):\n",
    "        possible.append([True]*10)"
   ]
  },
  {
   "cell_type": "code",
   "execution_count": 37,
   "metadata": {},
   "outputs": [
    {
     "ename": "TypeError",
     "evalue": "'bool' object does not support item assignment",
     "output_type": "error",
     "traceback": [
      "\u001b[0;31m---------------------------------------------------------------------------\u001b[0m",
      "\u001b[0;31mTypeError\u001b[0m                                 Traceback (most recent call last)",
      "\u001b[0;32m<ipython-input-37-ae550c1ca8f5>\u001b[0m in \u001b[0;36m<module>\u001b[0;34m\u001b[0m\n\u001b[1;32m      9\u001b[0m             \u001b[0;32mfor\u001b[0m \u001b[0mvv\u001b[0m \u001b[0;32min\u001b[0m \u001b[0mrange\u001b[0m\u001b[0;34m(\u001b[0m\u001b[0;36m1\u001b[0m\u001b[0;34m,\u001b[0m \u001b[0;36m10\u001b[0m\u001b[0;34m)\u001b[0m\u001b[0;34m:\u001b[0m\u001b[0;34m\u001b[0m\u001b[0;34m\u001b[0m\u001b[0m\n\u001b[1;32m     10\u001b[0m                 \u001b[0;32mif\u001b[0m \u001b[0mvv\u001b[0m \u001b[0;34m!=\u001b[0m \u001b[0mv\u001b[0m\u001b[0;34m:\u001b[0m\u001b[0;34m\u001b[0m\u001b[0;34m\u001b[0m\u001b[0m\n\u001b[0;32m---> 11\u001b[0;31m                     \u001b[0mpossible\u001b[0m\u001b[0;34m[\u001b[0m\u001b[0mi\u001b[0m\u001b[0;34m]\u001b[0m\u001b[0;34m[\u001b[0m\u001b[0mj\u001b[0m\u001b[0;34m]\u001b[0m\u001b[0;34m[\u001b[0m\u001b[0mvv\u001b[0m\u001b[0;34m]\u001b[0m \u001b[0;34m=\u001b[0m \u001b[0;32mFalse\u001b[0m\u001b[0;34m\u001b[0m\u001b[0;34m\u001b[0m\u001b[0m\n\u001b[0m\u001b[1;32m     12\u001b[0m             \u001b[0;32mfor\u001b[0m \u001b[0mjj\u001b[0m \u001b[0;32min\u001b[0m \u001b[0mrange\u001b[0m\u001b[0;34m(\u001b[0m\u001b[0;36m9\u001b[0m\u001b[0;34m)\u001b[0m\u001b[0;34m:\u001b[0m\u001b[0;34m\u001b[0m\u001b[0;34m\u001b[0m\u001b[0m\n\u001b[1;32m     13\u001b[0m                 \u001b[0;32mif\u001b[0m \u001b[0mjj\u001b[0m \u001b[0;34m!=\u001b[0m \u001b[0mj\u001b[0m\u001b[0;34m:\u001b[0m\u001b[0;34m\u001b[0m\u001b[0;34m\u001b[0m\u001b[0m\n",
      "\u001b[0;31mTypeError\u001b[0m: 'bool' object does not support item assignment"
     ]
    }
   ],
   "source": [
    "i = 0\n",
    "for s in sudoku1:\n",
    "    if len(s) != 9:\n",
    "        print('Length sould be 9', s)\n",
    "    for j in range(9):\n",
    "        if s[j] != ' ':\n",
    "            v = int(s[j])\n",
    "            value[i][j] = v\n",
    "            for vv in range(1, 10):\n",
    "                if vv != v:\n",
    "                    possible[i][j][vv] = False\n",
    "            for jj in range(9):\n",
    "                if jj != j:\n",
    "                    possible[i][jj][v] = False\n",
    "            for ii in range(9):\n",
    "                if ii != i:\n",
    "                    possible[ii][j][v] = False\n",
    "            gi, gj = (i // 3)*3, (j//3)*3\n",
    "            for ii in range(3):\n",
    "                for jj in range(3):\n",
    "                    if gi + ii != i or gj + jj != j: #to ensure not the same row and col\n",
    "                        possible[gi+ii][gj+jj][v] = False\n",
    "    i +=1\n",
    "for i in range(9):\n",
    "    for j in range(9):\n",
    "        if value[i][j] == -1:\n",
    "            print(f\"({i+1, j+1}): {''.join([str(v) for v in range(1,10) if possible[i][j][v]])}\")"
   ]
  },
  {
   "cell_type": "code",
   "execution_count": null,
   "metadata": {},
   "outputs": [],
   "source": []
  }
 ],
 "metadata": {
  "kernelspec": {
   "display_name": "Python 3",
   "language": "python",
   "name": "python3"
  },
  "language_info": {
   "codemirror_mode": {
    "name": "ipython",
    "version": 3
   },
   "file_extension": ".py",
   "mimetype": "text/x-python",
   "name": "python",
   "nbconvert_exporter": "python",
   "pygments_lexer": "ipython3",
   "version": "3.8.8"
  }
 },
 "nbformat": 4,
 "nbformat_minor": 4
}
