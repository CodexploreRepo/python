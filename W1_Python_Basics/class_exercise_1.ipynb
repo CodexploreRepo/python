{
 "cells": [
  {
   "cell_type": "markdown",
   "metadata": {},
   "source": [
    "## Python programming and Data Analysis\n",
    "\n",
    "## Class Exercise 1 -- Python Basics"
   ]
  },
  {
   "cell_type": "markdown",
   "metadata": {},
   "source": [
    "### Basic data types"
   ]
  },
  {
   "cell_type": "code",
   "execution_count": 1,
   "metadata": {},
   "outputs": [
    {
     "name": "stdout",
     "output_type": "stream",
     "text": [
      "<class 'bool'>\n",
      "True\n"
     ]
    }
   ],
   "source": [
    "a = True\n",
    "print(type(a))\n",
    "print(a)"
   ]
  },
  {
   "cell_type": "code",
   "execution_count": 2,
   "metadata": {},
   "outputs": [
    {
     "name": "stdout",
     "output_type": "stream",
     "text": [
      "<class 'int'>\n",
      "20\n"
     ]
    }
   ],
   "source": [
    "a = 20\n",
    "print(type(a))\n",
    "print(a)"
   ]
  },
  {
   "cell_type": "code",
   "execution_count": 3,
   "metadata": {},
   "outputs": [
    {
     "name": "stdout",
     "output_type": "stream",
     "text": [
      "<class 'float'>\n",
      "20.21\n"
     ]
    }
   ],
   "source": [
    "a = 20.21\n",
    "print(type(a))\n",
    "print(a)"
   ]
  },
  {
   "cell_type": "code",
   "execution_count": 4,
   "metadata": {},
   "outputs": [
    {
     "name": "stdout",
     "output_type": "stream",
     "text": [
      "<class 'str'>\n",
      "the \"art\" of programming\n"
     ]
    }
   ],
   "source": [
    "a = 'the \"art\" of programming'\n",
    "print(type(a))\n",
    "print(a)"
   ]
  },
  {
   "cell_type": "code",
   "execution_count": 5,
   "metadata": {},
   "outputs": [
    {
     "data": {
      "text/plain": [
       "'0b1'"
      ]
     },
     "execution_count": 5,
     "metadata": {},
     "output_type": "execute_result"
    }
   ],
   "source": [
    "bin(True)"
   ]
  },
  {
   "cell_type": "code",
   "execution_count": 6,
   "metadata": {},
   "outputs": [
    {
     "data": {
      "text/plain": [
       "'0b0'"
      ]
     },
     "execution_count": 6,
     "metadata": {},
     "output_type": "execute_result"
    }
   ],
   "source": [
    "bin(False)"
   ]
  },
  {
   "cell_type": "markdown",
   "metadata": {},
   "source": [
    "#### Type casting"
   ]
  },
  {
   "cell_type": "code",
   "execution_count": 7,
   "metadata": {},
   "outputs": [
    {
     "data": {
      "text/plain": [
       "-1"
      ]
     },
     "execution_count": 7,
     "metadata": {},
     "output_type": "execute_result"
    }
   ],
   "source": [
    "int(-1.99)"
   ]
  },
  {
   "cell_type": "code",
   "execution_count": 8,
   "metadata": {},
   "outputs": [
    {
     "data": {
      "text/plain": [
       "2420279590275804445606588463955072096420804747701564608"
      ]
     },
     "execution_count": 8,
     "metadata": {},
     "output_type": "execute_result"
    }
   ],
   "source": [
    "int('thequickbrownfoxjumpsoverthelazydog', 36)"
   ]
  },
  {
   "cell_type": "code",
   "execution_count": 9,
   "metadata": {},
   "outputs": [
    {
     "data": {
      "text/plain": [
       "1.0"
      ]
     },
     "execution_count": 9,
     "metadata": {},
     "output_type": "execute_result"
    }
   ],
   "source": [
    "float('0.999999999999999999999999999999999999')"
   ]
  },
  {
   "cell_type": "code",
   "execution_count": 10,
   "metadata": {},
   "outputs": [
    {
     "data": {
      "text/plain": [
       "-inf"
      ]
     },
     "execution_count": 10,
     "metadata": {},
     "output_type": "execute_result"
    }
   ],
   "source": [
    "float('-inf')"
   ]
  },
  {
   "cell_type": "code",
   "execution_count": 11,
   "metadata": {},
   "outputs": [
    {
     "data": {
      "text/plain": [
       "'170141183460469231731687303715884105727'"
      ]
     },
     "execution_count": 11,
     "metadata": {},
     "output_type": "execute_result"
    }
   ],
   "source": [
    "str(170141183460469231731687303715884105727) # the 12th Mersenne prime"
   ]
  },
  {
   "cell_type": "code",
   "execution_count": 12,
   "metadata": {},
   "outputs": [
    {
     "data": {
      "text/plain": [
       "'0.9876543210987654'"
      ]
     },
     "execution_count": 12,
     "metadata": {},
     "output_type": "execute_result"
    }
   ],
   "source": [
    "str(0.987654321098765432109876543210)"
   ]
  },
  {
   "cell_type": "code",
   "execution_count": 13,
   "metadata": {},
   "outputs": [
    {
     "data": {
      "text/plain": [
       "True"
      ]
     },
     "execution_count": 13,
     "metadata": {},
     "output_type": "execute_result"
    }
   ],
   "source": [
    "bool(-1)"
   ]
  },
  {
   "cell_type": "code",
   "execution_count": 14,
   "metadata": {},
   "outputs": [
    {
     "data": {
      "text/plain": [
       "False"
      ]
     },
     "execution_count": 14,
     "metadata": {},
     "output_type": "execute_result"
    }
   ],
   "source": [
    "bool(0)"
   ]
  },
  {
   "cell_type": "markdown",
   "metadata": {},
   "source": [
    "#### Binary representations"
   ]
  },
  {
   "cell_type": "code",
   "execution_count": 15,
   "metadata": {},
   "outputs": [
    {
     "data": {
      "text/plain": [
       "'10000000000000000000000000000001'"
      ]
     },
     "execution_count": 15,
     "metadata": {},
     "output_type": "execute_result"
    }
   ],
   "source": [
    "import bitstring\n",
    "#i1 = bitstring.BitArray(int = 2147483649, length = 32) # this line gives you error because largest integer for signed 32 bits is 2147483647 = 2^31 - 1\n",
    "i1 = bitstring.BitArray(uint = 2147483649, length = 32)\n",
    "i1.bin"
   ]
  },
  {
   "cell_type": "code",
   "execution_count": 16,
   "metadata": {},
   "outputs": [
    {
     "data": {
      "text/plain": [
       "'11111111'"
      ]
     },
     "execution_count": 16,
     "metadata": {},
     "output_type": "execute_result"
    }
   ],
   "source": [
    "i2 = bitstring.BitArray(int = -1, length = 8)\n",
    "i2.bin"
   ]
  },
  {
   "cell_type": "code",
   "execution_count": 17,
   "metadata": {},
   "outputs": [
    {
     "data": {
      "text/plain": [
       "'00111111100000000000000000000000'"
      ]
     },
     "execution_count": 17,
     "metadata": {},
     "output_type": "execute_result"
    }
   ],
   "source": [
    "f1 = bitstring.BitArray(float = 1.0, length = 32)\n",
    "f1.bin"
   ]
  },
  {
   "cell_type": "code",
   "execution_count": 18,
   "metadata": {},
   "outputs": [
    {
     "data": {
      "text/plain": [
       "'11000001100101000110000011001101'"
      ]
     },
     "execution_count": 18,
     "metadata": {},
     "output_type": "execute_result"
    }
   ],
   "source": [
    "f2 = bitstring.BitArray(float = -18.547265383, length = 32)\n",
    "f2.bin"
   ]
  },
  {
   "cell_type": "code",
   "execution_count": 19,
   "metadata": {},
   "outputs": [
    {
     "data": {
      "text/plain": [
       "'00000000000000000000000000000000'"
      ]
     },
     "execution_count": 19,
     "metadata": {},
     "output_type": "execute_result"
    }
   ],
   "source": [
    "f3 = bitstring.BitArray(float = 0.0, length = 32)\n",
    "f3.bin"
   ]
  },
  {
   "cell_type": "code",
   "execution_count": 20,
   "metadata": {},
   "outputs": [
    {
     "data": {
      "text/plain": [
       "'01111111100000000000000000000000'"
      ]
     },
     "execution_count": 20,
     "metadata": {},
     "output_type": "execute_result"
    }
   ],
   "source": [
    "f4 = bitstring.BitArray(float = float('inf'), length = 32)\n",
    "f4.bin"
   ]
  },
  {
   "cell_type": "code",
   "execution_count": 21,
   "metadata": {},
   "outputs": [
    {
     "name": "stdout",
     "output_type": "stream",
     "text": [
      "@©®§ǖΣДЖ१२३€£¥円元圆圓\n",
      "b'@\\xc2\\xa9\\xc2\\xae\\xc2\\xa7\\xc7\\x96\\xce\\xa3\\xd0\\x94\\xd0\\x96\\xe0\\xa5\\xa7\\xe0\\xa5\\xa8\\xe0\\xa5\\xa9\\xe2\\x82\\xac\\xc2\\xa3\\xc2\\xa5\\xe5\\x86\\x86\\xe5\\x85\\x83\\xe5\\x9c\\x86\\xe5\\x9c\\x93'\n"
     ]
    }
   ],
   "source": [
    "a = '@©®§ǖΣДЖ१२३€£¥円元圆圓'\n",
    "print(a)\n",
    "print(a.encode('utf-8'))"
   ]
  },
  {
   "cell_type": "markdown",
   "metadata": {},
   "source": [
    "@ : b'@'<br/>\n",
    "© : b'\\xc2\\xa9'<br/>\n",
    "® : b'\\xc2\\xae'<br/>\n",
    "§ : b'\\xc2\\xa7'<br/>\n",
    "ǖ : b'\\xc7\\x96'<br/>\n",
    "Σ : b'\\xce\\xa3'<br/>\n",
    "Д : b'\\xd0\\x94'<br/>\n",
    "Ж : b'\\xd0\\x96'<br/>\n",
    "१ : b'\\xe0\\xa5\\xa7'<br/>\n",
    "२ : b'\\xe0\\xa5\\xa8'<br/>\n",
    "३ : b'\\xe0\\xa5\\xa9'<br/>\n",
    "€ : b'\\xe2\\x82\\xac'<br/>\n",
    "£ : b'\\xc2\\xa3'<br/>\n",
    "¥ : b'\\xc2\\xa5'<br/>\n",
    "円 : b'\\xe5\\x86\\x86'<br/>\n",
    "元 : b'\\xe5\\x85\\x83'<br/>\n",
    "圆 : b'\\xe5\\x9c\\x86'<br/>\n",
    "圓 : b'\\xe5\\x9c\\x93'"
   ]
  },
  {
   "cell_type": "code",
   "execution_count": 22,
   "metadata": {},
   "outputs": [
    {
     "name": "stdout",
     "output_type": "stream",
     "text": [
      "@©®§ǖΣДЖ१२३€£¥円元圆圓\n",
      "b'@\\xc2\\xa9\\xc2\\xae\\xc2\\xa7\\xc7\\x96\\xce\\xa3\\xd0\\x94\\xd0\\x96\\xe0\\xa5\\xa7\\xe0\\xa5\\xa8\\xe0\\xa5\\xa9\\xe2\\x82\\xac\\xc2\\xa3\\xc2\\xa5\\xe5\\x86\\x86\\xe5\\x85\\x83\\xe5\\x9c\\x86\\xe5\\x9c\\x93'\n",
      "@©®§ǖΣДЖ१२३€£¥円元圆圓\n",
      "@Â©Â®Â§ÇÎ£ÐÐà¥§à¥¨à¥©â¬Â£Â¥åå",
      "åå\n"
     ]
    }
   ],
   "source": [
    "a1 = a.encode('utf-8')\n",
    "a2 = a1.decode('utf-8')\n",
    "a3 = a1.decode('iso-8859-1')\n",
    "print(a)\n",
    "print(a1)\n",
    "print(a2)\n",
    "print(a3)"
   ]
  },
  {
   "cell_type": "code",
   "execution_count": 23,
   "metadata": {},
   "outputs": [
    {
     "data": {
      "text/plain": [
       "'01000000110000101010100111000010101011101100001010100111110001111001011011001110101000111101000010010100110100001001011011100000101001011010011111100000101001011010100011100000101001011010100111100010100000101010110011000010101000111100001010100101111001011000011010000110111001011000010110000011111001011001110010000110111001011001110010010011'"
      ]
     },
     "execution_count": 23,
     "metadata": {},
     "output_type": "execute_result"
    }
   ],
   "source": [
    "s1 = bitstring.BitArray(bytes = a.encode('utf-8'))\n",
    "s1.bin"
   ]
  },
  {
   "cell_type": "markdown",
   "metadata": {},
   "source": [
    "### Python operators"
   ]
  },
  {
   "cell_type": "markdown",
   "metadata": {},
   "source": [
    "#### Logical operators"
   ]
  },
  {
   "cell_type": "code",
   "execution_count": 24,
   "metadata": {},
   "outputs": [
    {
     "data": {
      "text/plain": [
       "True"
      ]
     },
     "execution_count": 24,
     "metadata": {},
     "output_type": "execute_result"
    }
   ],
   "source": [
    "not False"
   ]
  },
  {
   "cell_type": "code",
   "execution_count": 25,
   "metadata": {},
   "outputs": [
    {
     "data": {
      "text/plain": [
       "False"
      ]
     },
     "execution_count": 25,
     "metadata": {},
     "output_type": "execute_result"
    }
   ],
   "source": [
    "True and False"
   ]
  },
  {
   "cell_type": "code",
   "execution_count": 26,
   "metadata": {},
   "outputs": [
    {
     "data": {
      "text/plain": [
       "True"
      ]
     },
     "execution_count": 26,
     "metadata": {},
     "output_type": "execute_result"
    }
   ],
   "source": [
    "False or True"
   ]
  },
  {
   "cell_type": "markdown",
   "metadata": {},
   "source": [
    "#### Arithmetic operators"
   ]
  },
  {
   "cell_type": "code",
   "execution_count": 27,
   "metadata": {},
   "outputs": [
    {
     "data": {
      "text/plain": [
       "3"
      ]
     },
     "execution_count": 27,
     "metadata": {},
     "output_type": "execute_result"
    }
   ],
   "source": [
    "355 // 113"
   ]
  },
  {
   "cell_type": "code",
   "execution_count": 28,
   "metadata": {},
   "outputs": [
    {
     "data": {
      "text/plain": [
       "16"
      ]
     },
     "execution_count": 28,
     "metadata": {},
     "output_type": "execute_result"
    }
   ],
   "source": [
    "355 % 113"
   ]
  },
  {
   "cell_type": "code",
   "execution_count": 29,
   "metadata": {},
   "outputs": [
    {
     "data": {
      "text/plain": [
       "2"
      ]
     },
     "execution_count": 29,
     "metadata": {},
     "output_type": "execute_result"
    }
   ],
   "source": [
    "-7 % 3"
   ]
  },
  {
   "cell_type": "code",
   "execution_count": 30,
   "metadata": {},
   "outputs": [
    {
     "data": {
      "text/plain": [
       "120390229192789671200196730675808906407818580678535565853604471040981468330576609422256057752381687848600439581729091776513008621150593910720527739772380453052486767498034969314002237284144953291103458547532810152608127216408475325114421897897408047581395677670971695493487923933346069636224032935216763561673143257907287561970520670661943292226106584203713841952673366886865445199267790891789863232017223226748196794533959989836805876911810211481167739679043319937687835412885323948134322098370385629943305785136881090458653857068542385988740344220360507575957485047851613181253218943644136742478444626968576"
      ]
     },
     "execution_count": 30,
     "metadata": {},
     "output_type": "execute_result"
    }
   ],
   "source": [
    "2 ** 2020"
   ]
  },
  {
   "cell_type": "markdown",
   "metadata": {},
   "source": [
    "#### Assignment operators"
   ]
  },
  {
   "cell_type": "code",
   "execution_count": 31,
   "metadata": {},
   "outputs": [
    {
     "name": "stdout",
     "output_type": "stream",
     "text": [
      "1\n"
     ]
    }
   ],
   "source": [
    "i = 0\n",
    "i += 1\n",
    "print(i)"
   ]
  },
  {
   "cell_type": "code",
   "execution_count": 32,
   "metadata": {},
   "outputs": [
    {
     "name": "stdout",
     "output_type": "stream",
     "text": [
      "-9\n"
     ]
    }
   ],
   "source": [
    "#print(i := int(-9.99)) ## warlus operator not recognized, to update anaconda soon.\n",
    "i = int(-9.99)\n",
    "print(i)"
   ]
  },
  {
   "cell_type": "markdown",
   "metadata": {},
   "source": [
    "#### Comparison operators"
   ]
  },
  {
   "cell_type": "code",
   "execution_count": 33,
   "metadata": {},
   "outputs": [
    {
     "data": {
      "text/plain": [
       "True"
      ]
     },
     "execution_count": 33,
     "metadata": {},
     "output_type": "execute_result"
    }
   ],
   "source": [
    "a = True\n",
    "b = False\n",
    "a > b"
   ]
  },
  {
   "cell_type": "code",
   "execution_count": 34,
   "metadata": {},
   "outputs": [
    {
     "data": {
      "text/plain": [
       "False"
      ]
     },
     "execution_count": 34,
     "metadata": {},
     "output_type": "execute_result"
    }
   ],
   "source": [
    "a = 'ab'\n",
    "b = 'Ab'\n",
    "a < b"
   ]
  },
  {
   "cell_type": "code",
   "execution_count": 35,
   "metadata": {},
   "outputs": [
    {
     "data": {
      "text/plain": [
       "False"
      ]
     },
     "execution_count": 35,
     "metadata": {},
     "output_type": "execute_result"
    }
   ],
   "source": [
    "c = 'a b'\n",
    "a < c"
   ]
  },
  {
   "cell_type": "markdown",
   "metadata": {},
   "source": [
    "#### String Concatenation & repetition"
   ]
  },
  {
   "cell_type": "code",
   "execution_count": 36,
   "metadata": {},
   "outputs": [
    {
     "data": {
      "text/plain": [
       "'newspaperman'"
      ]
     },
     "execution_count": 36,
     "metadata": {},
     "output_type": "execute_result"
    }
   ],
   "source": [
    "'news' + 'paper' + 'man'"
   ]
  },
  {
   "cell_type": "code",
   "execution_count": 37,
   "metadata": {},
   "outputs": [
    {
     "data": {
      "text/plain": [
       "'eigenvalue'"
      ]
     },
     "execution_count": 37,
     "metadata": {},
     "output_type": "execute_result"
    }
   ],
   "source": [
    "s = 'eigen'\n",
    "s += 'value'\n",
    "s"
   ]
  },
  {
   "cell_type": "code",
   "execution_count": 38,
   "metadata": {},
   "outputs": [
    {
     "data": {
      "text/plain": [
       "'----------'"
      ]
     },
     "execution_count": 38,
     "metadata": {},
     "output_type": "execute_result"
    }
   ],
   "source": [
    "'-' * 10"
   ]
  },
  {
   "cell_type": "markdown",
   "metadata": {},
   "source": [
    "#### String length & indices"
   ]
  },
  {
   "cell_type": "code",
   "execution_count": 39,
   "metadata": {},
   "outputs": [
    {
     "data": {
      "text/plain": [
       "16"
      ]
     },
     "execution_count": 39,
     "metadata": {},
     "output_type": "execute_result"
    }
   ],
   "source": [
    "s = 'machine learning'\n",
    "len(s)"
   ]
  },
  {
   "cell_type": "code",
   "execution_count": 40,
   "metadata": {},
   "outputs": [
    {
     "data": {
      "text/plain": [
       "'c'"
      ]
     },
     "execution_count": 40,
     "metadata": {},
     "output_type": "execute_result"
    }
   ],
   "source": [
    "s[2]"
   ]
  },
  {
   "cell_type": "code",
   "execution_count": 41,
   "metadata": {},
   "outputs": [
    {
     "name": "stdout",
     "output_type": "stream",
     "text": [
      "ne le\n",
      "learning\n",
      "machine\n"
     ]
    }
   ],
   "source": [
    "print(s[5:10])\n",
    "print(s[8:])\n",
    "print(s[:7])"
   ]
  },
  {
   "cell_type": "code",
   "execution_count": 42,
   "metadata": {},
   "outputs": [
    {
     "name": "stdout",
     "output_type": "stream",
     "text": [
      "e\n",
      "earn\n"
     ]
    }
   ],
   "source": [
    "print(s[-7])\n",
    "print(s[-7:-3])"
   ]
  },
  {
   "cell_type": "code",
   "execution_count": 43,
   "metadata": {},
   "outputs": [
    {
     "data": {
      "text/plain": [
       "5"
      ]
     },
     "execution_count": 43,
     "metadata": {},
     "output_type": "execute_result"
    }
   ],
   "source": [
    "s.find('n')"
   ]
  },
  {
   "cell_type": "code",
   "execution_count": 44,
   "metadata": {},
   "outputs": [
    {
     "data": {
      "text/plain": [
       "12"
      ]
     },
     "execution_count": 44,
     "metadata": {},
     "output_type": "execute_result"
    }
   ],
   "source": [
    "s.find('n', 6)"
   ]
  },
  {
   "cell_type": "code",
   "execution_count": 45,
   "metadata": {},
   "outputs": [
    {
     "data": {
      "text/plain": [
       "-1"
      ]
     },
     "execution_count": 45,
     "metadata": {},
     "output_type": "execute_result"
    }
   ],
   "source": [
    "s.find('n', 6, 10)"
   ]
  },
  {
   "cell_type": "markdown",
   "metadata": {},
   "source": [
    "#### print"
   ]
  },
  {
   "cell_type": "code",
   "execution_count": 46,
   "metadata": {},
   "outputs": [
    {
     "name": "stdout",
     "output_type": "stream",
     "text": [
      "1234-567.89#"
     ]
    }
   ],
   "source": [
    "print(1234, 567.89, sep = '-', end = '#')"
   ]
  },
  {
   "cell_type": "code",
   "execution_count": 47,
   "metadata": {},
   "outputs": [
    {
     "name": "stdout",
     "output_type": "stream",
     "text": [
      "pi is approximately 022/7  = 3.14\n"
     ]
    }
   ],
   "source": [
    "print('{0:s} is approximately {1:03d}/{2:<2d} = {3:.2f}'.format('pi', 22, 7, 3.1415926))"
   ]
  },
  {
   "cell_type": "code",
   "execution_count": 48,
   "metadata": {},
   "outputs": [
    {
     "name": "stdout",
     "output_type": "stream",
     "text": [
      "pi is approximately  355 / 113  = 3.141593\n"
     ]
    }
   ],
   "source": [
    "print('{0:s} is approximately {1:^5d}/{2:^5d} = {3:.6f}'.format('pi', 355, 113, 3.1415926))"
   ]
  },
  {
   "cell_type": "markdown",
   "metadata": {},
   "source": [
    "### Python containers"
   ]
  },
  {
   "cell_type": "markdown",
   "metadata": {},
   "source": [
    "#### Range and for loops"
   ]
  },
  {
   "cell_type": "code",
   "execution_count": 49,
   "metadata": {},
   "outputs": [
    {
     "name": "stdout",
     "output_type": "stream",
     "text": [
      "1 3 5 7 9 "
     ]
    }
   ],
   "source": [
    "for i in range(1, 11, 2):\n",
    "    print(i, end = ' ')"
   ]
  },
  {
   "cell_type": "code",
   "execution_count": 50,
   "metadata": {},
   "outputs": [
    {
     "name": "stdout",
     "output_type": "stream",
     "text": [
      "1 2 4 8 16 32 64 128 256 "
     ]
    }
   ],
   "source": [
    "for i in range(9):\n",
    "    print(2**i, end = ' ')"
   ]
  },
  {
   "cell_type": "code",
   "execution_count": 51,
   "metadata": {},
   "outputs": [
    {
     "name": "stdout",
     "output_type": "stream",
     "text": [
      "m-a-c-h-i-n-e- -l-e-a-r-n-i-n-g-"
     ]
    }
   ],
   "source": [
    "for i in range(len(s)):\n",
    "    print(s[i], end = '-')"
   ]
  },
  {
   "cell_type": "markdown",
   "metadata": {},
   "source": [
    "#### Lists and Tuples"
   ]
  },
  {
   "cell_type": "code",
   "execution_count": 52,
   "metadata": {},
   "outputs": [],
   "source": [
    "orange_peel = (1.0, 0.625, 0.0)"
   ]
  },
  {
   "cell_type": "code",
   "execution_count": 53,
   "metadata": {},
   "outputs": [],
   "source": [
    "l = [1, 2, 3, 4, 5, 6, 7]"
   ]
  },
  {
   "cell_type": "code",
   "execution_count": 54,
   "metadata": {},
   "outputs": [
    {
     "data": {
      "text/plain": [
       "4"
      ]
     },
     "execution_count": 54,
     "metadata": {},
     "output_type": "execute_result"
    }
   ],
   "source": [
    "l[3]"
   ]
  },
  {
   "cell_type": "code",
   "execution_count": 55,
   "metadata": {},
   "outputs": [
    {
     "data": {
      "text/plain": [
       "[3, 4, 5, 6]"
      ]
     },
     "execution_count": 55,
     "metadata": {},
     "output_type": "execute_result"
    }
   ],
   "source": [
    "l[2:6]"
   ]
  },
  {
   "cell_type": "code",
   "execution_count": 56,
   "metadata": {},
   "outputs": [
    {
     "data": {
      "text/plain": [
       "7"
      ]
     },
     "execution_count": 56,
     "metadata": {},
     "output_type": "execute_result"
    }
   ],
   "source": [
    "l[-1]"
   ]
  },
  {
   "cell_type": "code",
   "execution_count": 57,
   "metadata": {},
   "outputs": [
    {
     "data": {
      "text/plain": [
       "0.625"
      ]
     },
     "execution_count": 57,
     "metadata": {},
     "output_type": "execute_result"
    }
   ],
   "source": [
    "orange_peel[1]"
   ]
  },
  {
   "cell_type": "code",
   "execution_count": 58,
   "metadata": {},
   "outputs": [
    {
     "data": {
      "text/plain": [
       "[0, 1, 2, 3, 4, 5, 6, 7, 8, 9]"
      ]
     },
     "execution_count": 58,
     "metadata": {},
     "output_type": "execute_result"
    }
   ],
   "source": [
    "list(range(10))"
   ]
  },
  {
   "cell_type": "code",
   "execution_count": 59,
   "metadata": {},
   "outputs": [
    {
     "name": "stdout",
     "output_type": "stream",
     "text": [
      "[1, 3, 5, 7, 9, 11, 13, 15, 17]\n"
     ]
    }
   ],
   "source": [
    "# print(l := list(range(1, 19, 2))) ## walrus operator again\n",
    "l = list(range(1, 19, 2))\n",
    "print(l)"
   ]
  },
  {
   "cell_type": "code",
   "execution_count": 60,
   "metadata": {},
   "outputs": [
    {
     "data": {
      "text/plain": [
       "[5, 9, 13]"
      ]
     },
     "execution_count": 60,
     "metadata": {},
     "output_type": "execute_result"
    }
   ],
   "source": [
    "l[2:7:2]"
   ]
  },
  {
   "cell_type": "code",
   "execution_count": 61,
   "metadata": {},
   "outputs": [
    {
     "data": {
      "text/plain": [
       "[15, 13, 11]"
      ]
     },
     "execution_count": 61,
     "metadata": {},
     "output_type": "execute_result"
    }
   ],
   "source": [
    "l[7:4:-1]"
   ]
  },
  {
   "cell_type": "code",
   "execution_count": 62,
   "metadata": {},
   "outputs": [
    {
     "data": {
      "text/plain": [
       "[15, 11]"
      ]
     },
     "execution_count": 62,
     "metadata": {},
     "output_type": "execute_result"
    }
   ],
   "source": [
    "l[-2:-5:-2]"
   ]
  },
  {
   "cell_type": "code",
   "execution_count": 63,
   "metadata": {},
   "outputs": [
    {
     "data": {
      "text/plain": [
       "[17, 15, 13, 11, 9, 7, 5, 3, 1]"
      ]
     },
     "execution_count": 63,
     "metadata": {},
     "output_type": "execute_result"
    }
   ],
   "source": [
    "l[::-1]"
   ]
  },
  {
   "cell_type": "code",
   "execution_count": 64,
   "metadata": {},
   "outputs": [
    {
     "data": {
      "text/plain": [
       "3"
      ]
     },
     "execution_count": 64,
     "metadata": {},
     "output_type": "execute_result"
    }
   ],
   "source": [
    "l.index(7)"
   ]
  },
  {
   "cell_type": "code",
   "execution_count": 65,
   "metadata": {},
   "outputs": [],
   "source": [
    "# l.index(8) gives an error as 8 is not in the list"
   ]
  },
  {
   "cell_type": "code",
   "execution_count": 66,
   "metadata": {},
   "outputs": [],
   "source": [
    "l.append(19)"
   ]
  },
  {
   "cell_type": "code",
   "execution_count": 67,
   "metadata": {},
   "outputs": [],
   "source": [
    "l.insert(1, 2)"
   ]
  },
  {
   "cell_type": "code",
   "execution_count": 68,
   "metadata": {},
   "outputs": [],
   "source": [
    "l.extend((23, 29, 31)) # extend by a tuple"
   ]
  },
  {
   "cell_type": "code",
   "execution_count": 69,
   "metadata": {},
   "outputs": [],
   "source": [
    "l.extend([37, 41, 43, 47, 49]) # extend by a list"
   ]
  },
  {
   "cell_type": "code",
   "execution_count": 70,
   "metadata": {},
   "outputs": [],
   "source": [
    "# l.remove(4) # error if remove 4\n",
    "l.remove(9)"
   ]
  },
  {
   "cell_type": "code",
   "execution_count": 71,
   "metadata": {},
   "outputs": [
    {
     "data": {
      "text/plain": [
       "49"
      ]
     },
     "execution_count": 71,
     "metadata": {},
     "output_type": "execute_result"
    }
   ],
   "source": [
    "l.pop()"
   ]
  },
  {
   "cell_type": "code",
   "execution_count": 72,
   "metadata": {},
   "outputs": [
    {
     "data": {
      "text/plain": [
       "15"
      ]
     },
     "execution_count": 72,
     "metadata": {},
     "output_type": "execute_result"
    }
   ],
   "source": [
    "l.pop(7)"
   ]
  },
  {
   "cell_type": "code",
   "execution_count": 73,
   "metadata": {},
   "outputs": [
    {
     "data": {
      "text/plain": [
       "1"
      ]
     },
     "execution_count": 73,
     "metadata": {},
     "output_type": "execute_result"
    }
   ],
   "source": [
    "l.pop(0)"
   ]
  },
  {
   "cell_type": "code",
   "execution_count": 74,
   "metadata": {},
   "outputs": [],
   "source": [
    "l.sort(reverse = True)"
   ]
  },
  {
   "cell_type": "code",
   "execution_count": 75,
   "metadata": {},
   "outputs": [
    {
     "name": "stdout",
     "output_type": "stream",
     "text": [
      "[47, 43, 41, 37, 31, 29, 23, 19, 17, 13, 11, 7, 5, 3, 2]\n"
     ]
    }
   ],
   "source": [
    "print(l)"
   ]
  },
  {
   "cell_type": "code",
   "execution_count": 76,
   "metadata": {},
   "outputs": [
    {
     "name": "stdout",
     "output_type": "stream",
     "text": [
      "['mitb', 'smu', 'edu', 'sg']\n"
     ]
    }
   ],
   "source": [
    "s = 'mitb.smu.edu.sg'\n",
    "print(s.split('.'))"
   ]
  },
  {
   "cell_type": "code",
   "execution_count": 77,
   "metadata": {},
   "outputs": [],
   "source": [
    "s = 'machine learning'\n",
    "tokens = s.split()"
   ]
  },
  {
   "cell_type": "code",
   "execution_count": 78,
   "metadata": {},
   "outputs": [
    {
     "name": "stdout",
     "output_type": "stream",
     "text": [
      "machine\n",
      "learning\n"
     ]
    }
   ],
   "source": [
    "print('\\n'.join(tokens))"
   ]
  },
  {
   "cell_type": "code",
   "execution_count": 79,
   "metadata": {},
   "outputs": [
    {
     "name": "stdout",
     "output_type": "stream",
     "text": [
      "machine\r",
      "learning\n"
     ]
    }
   ],
   "source": [
    "print('\\r'.join(tokens))"
   ]
  },
  {
   "cell_type": "markdown",
   "metadata": {},
   "source": [
    "#### Dictionaries"
   ]
  },
  {
   "cell_type": "code",
   "execution_count": 80,
   "metadata": {},
   "outputs": [],
   "source": [
    "d = {}\n",
    "for i in range(97, 123):\n",
    "    d[chr(i)] = i - 96"
   ]
  },
  {
   "cell_type": "code",
   "execution_count": 81,
   "metadata": {},
   "outputs": [
    {
     "name": "stdout",
     "output_type": "stream",
     "text": [
      "19\n"
     ]
    }
   ],
   "source": [
    "print(d['s'])"
   ]
  },
  {
   "cell_type": "code",
   "execution_count": 82,
   "metadata": {},
   "outputs": [],
   "source": [
    "d['s'] *= 10"
   ]
  },
  {
   "cell_type": "code",
   "execution_count": 83,
   "metadata": {},
   "outputs": [],
   "source": [
    "d['s'] = 19"
   ]
  },
  {
   "cell_type": "code",
   "execution_count": 84,
   "metadata": {},
   "outputs": [
    {
     "data": {
      "text/plain": [
       "True"
      ]
     },
     "execution_count": 84,
     "metadata": {},
     "output_type": "execute_result"
    }
   ],
   "source": [
    "2 in l"
   ]
  },
  {
   "cell_type": "code",
   "execution_count": 85,
   "metadata": {},
   "outputs": [
    {
     "data": {
      "text/plain": [
       "True"
      ]
     },
     "execution_count": 85,
     "metadata": {},
     "output_type": "execute_result"
    }
   ],
   "source": [
    "'z' in d"
   ]
  },
  {
   "cell_type": "code",
   "execution_count": 86,
   "metadata": {},
   "outputs": [
    {
     "data": {
      "text/plain": [
       "False"
      ]
     },
     "execution_count": 86,
     "metadata": {},
     "output_type": "execute_result"
    }
   ],
   "source": [
    "2 in d"
   ]
  },
  {
   "cell_type": "code",
   "execution_count": 87,
   "metadata": {},
   "outputs": [
    {
     "data": {
      "text/plain": [
       "True"
      ]
     },
     "execution_count": 87,
     "metadata": {},
     "output_type": "execute_result"
    }
   ],
   "source": [
    "2 not in d"
   ]
  },
  {
   "cell_type": "code",
   "execution_count": 88,
   "metadata": {},
   "outputs": [
    {
     "data": {
      "text/plain": [
       "20"
      ]
     },
     "execution_count": 88,
     "metadata": {},
     "output_type": "execute_result"
    }
   ],
   "source": [
    "d.pop('t')"
   ]
  },
  {
   "cell_type": "code",
   "execution_count": 89,
   "metadata": {},
   "outputs": [],
   "source": [
    "del d['s']"
   ]
  },
  {
   "cell_type": "code",
   "execution_count": 90,
   "metadata": {},
   "outputs": [
    {
     "name": "stdout",
     "output_type": "stream",
     "text": [
      "['a', 'b', 'c', 'd', 'e', 'f', 'g', 'h', 'i', 'j', 'k', 'l', 'm', 'n', 'o', 'p', 'q', 'r', 'u', 'v', 'w', 'x', 'y', 'z']\n"
     ]
    }
   ],
   "source": [
    "print(list(d.keys()))"
   ]
  },
  {
   "cell_type": "code",
   "execution_count": 91,
   "metadata": {},
   "outputs": [
    {
     "name": "stdout",
     "output_type": "stream",
     "text": [
      "[1, 2, 3, 4, 5, 6, 7, 8, 9, 10, 11, 12, 13, 14, 15, 16, 17, 18, 21, 22, 23, 24, 25, 26]\n"
     ]
    }
   ],
   "source": [
    "print(list(d.values()))"
   ]
  },
  {
   "cell_type": "code",
   "execution_count": 92,
   "metadata": {},
   "outputs": [
    {
     "name": "stdout",
     "output_type": "stream",
     "text": [
      "[('a', 1), ('b', 2), ('c', 3), ('d', 4), ('e', 5), ('f', 6), ('g', 7), ('h', 8), ('i', 9), ('j', 10), ('k', 11), ('l', 12), ('m', 13), ('n', 14), ('o', 15), ('p', 16), ('q', 17), ('r', 18), ('u', 21), ('v', 22), ('w', 23), ('x', 24), ('y', 25), ('z', 26)]\n"
     ]
    }
   ],
   "source": [
    "print(list(d.items()))"
   ]
  },
  {
   "cell_type": "markdown",
   "metadata": {},
   "source": [
    "#### Sets"
   ]
  },
  {
   "cell_type": "code",
   "execution_count": 93,
   "metadata": {},
   "outputs": [],
   "source": [
    "s = {'deer', 'hawk', 'wolf', 'boar'}"
   ]
  },
  {
   "cell_type": "code",
   "execution_count": 94,
   "metadata": {},
   "outputs": [],
   "source": [
    "s.add('bear')"
   ]
  },
  {
   "cell_type": "code",
   "execution_count": 95,
   "metadata": {},
   "outputs": [],
   "source": [
    "s.add(('goat', 'pony', 'hare')) # do you know why you cannot change the tuple to a list?"
   ]
  },
  {
   "cell_type": "code",
   "execution_count": 96,
   "metadata": {},
   "outputs": [],
   "source": [
    "s.update(['lion', 'puma', 'tiger', 'leopard']) # cannot add a list"
   ]
  },
  {
   "cell_type": "code",
   "execution_count": 97,
   "metadata": {},
   "outputs": [
    {
     "name": "stdout",
     "output_type": "stream",
     "text": [
      "{'deer', 'tiger', 'bear', 'hawk', 'wolf', 'leopard', 'lion', ('goat', 'pony', 'hare'), 'boar', 'puma'}\n"
     ]
    }
   ],
   "source": [
    "print(s)"
   ]
  },
  {
   "cell_type": "code",
   "execution_count": 98,
   "metadata": {},
   "outputs": [
    {
     "data": {
      "text/plain": [
       "'deer'"
      ]
     },
     "execution_count": 98,
     "metadata": {},
     "output_type": "execute_result"
    }
   ],
   "source": [
    "s.pop() # pop some element in the set"
   ]
  },
  {
   "cell_type": "code",
   "execution_count": 99,
   "metadata": {},
   "outputs": [],
   "source": [
    "s.remove('leopard')"
   ]
  },
  {
   "cell_type": "code",
   "execution_count": 100,
   "metadata": {},
   "outputs": [
    {
     "name": "stdout",
     "output_type": "stream",
     "text": [
      "{'tiger', 'bear', 'hawk', 'wolf', 'lion', ('goat', 'pony', 'hare'), 'boar', 'puma'}\n"
     ]
    }
   ],
   "source": [
    "print(s)"
   ]
  },
  {
   "cell_type": "markdown",
   "metadata": {},
   "source": [
    "### Exercise 1.11: count the frequence of each unique value in a given list\n",
    "Hint: use .get(key, default_value)"
   ]
  },
  {
   "cell_type": "code",
   "execution_count": 101,
   "metadata": {},
   "outputs": [],
   "source": [
    "long_list = [11, 230, 127, 183, 142, 186, 256, 182, 184, 50, 266, 179, 22, 30, 59, 236, 155, 57, 262, 279, 107, 98, 271, 240, 276, 23, 170, 207, 123, 228, 231, 205, 30, 161, 125, 212, 224, 34, 272, 106, 164, 26, 263, 3, 234, 244, 3, 260, 135, 29, 116, 44, 206, 131, 218, 201, 140, 208, 130, 247, 256, 272, 208, 262, 227, 242, 112, 138, 192, 7, 268, 184, 168, 5, 246, 199, 6, 26, 300, 54, 260, 69, 64, 61, 15, 288, 190, 78, 165, 7, 178, 71, 62, 131, 26, 75, 2, 52, 164, 195, 75, 80, 212, 127, 201, 184, 78, 106, 90, 256, 33, 241, 208, 39, 32, 240, 160, 172, 108, 144, 116, 251, 106, 278, 120, 99, 22, 148, 6, 185, 136, 235, 208, 114, 22, 229, 88, 225, 112, 236, 250, 32, 152, 195, 0, 160, 252, 15, 173, 283, 72, 94, 76, 226, 4, 44, 28, 120, 175, 56, 262, 178, 249, 246, 19, 203, 196, 207, 33, 94, 216, 280, 102, 250, 74, 277, 159, 23, 80, 63, 124, 240, 166, 137, 14, 255, 252, 112, 41, 90, 187, 108, 2, 60, 147, 114, 266, 173, 183, 84, 10, 173, 35, 248, 124, 207, 163, 44, 2, 171, 142, 174, 219, 114, 30, 290, 239, 63, 42, 103, 61, 58, 181, 18, 111, 119, 99, 171, 210, 59, 142, 278, 213, 35, 286, 285, 227, 91, 232, 196, 11, 91, 192, 241, 1, 275, 76, 210, 160, 32, 272, 120, 176, 33, 65, 26, 2, 248, 262, 286, 199, 12, 107, 253, 150, 138, 157, 31, 250, 30, 95, 96, 105, 261, 276, 146, 195, 190, 217, 62, 138, 268, 134, 39, 164, 8, 46, 152, 93, 263, 232, 264, 272, 53, 283, 286, 218, 293, 238, 5, 122, 241, 76, 106, 85, 103, 221, 77, 74, 236, 1, 13, 144, 235, 27, 50, 7, 17, 157, 296, 111, 1, 176, 297, 286, 115, 187, 272, 66, 185, 145, 254, 20, 232, 49, 289, 285, 222, 199, 103, 65, 33, 3, 88, 157, 276, 29, 88, 226, 194, 219, 98, 58, 193, 2, 255, 126, 41, 112, 83, 104, 296, 219, 148, 274, 34, 2, 15, 267, 286, 252, 275, 126, 173, 225, 223, 121, 136, 257, 214, 7, 291, 84, 60, 93, 284, 112, 195, 162, 296, 277, 204, 297, 120, 62, 218, 247, 150, 274, 108, 78, 146, 180, 168, 231, 39, 79, 45, 139, 75, 0, 83, 158, 273, 258, 242, 36, 268, 287, 106, 284, 184, 64, 235, 14, 159, 57, 168, 4, 3, 185, 180, 132, 132, 270, 148, 39, 18, 178, 121, 250, 29, 96, 190, 234, 34, 225, 187, 57, 57, 260, 219, 126, 158, 72, 248, 47, 180, 219, 253, 10, 84, 86, 5, 210, 147, 122, 61, 143, 84, 164, 250, 233, 225, 73, 133, 123, 148, 124, 214, 5, 48, 172, 102, 133, 100, 57, 253, 13, 0, 31, 272, 2, 87, 292, 243, 53, 298, 35, 116, 282, 187, 287, 30, 108, 298, 63, 285, 289, 132, 204, 30, 230, 95, 117, 254, 128, 203, 55, 36, 147, 2, 285, 168, 214, 239, 93, 171, 288, 265, 202, 168, 161, 217, 189, 36, 101, 46, 100, 101, 50, 266, 263, 170, 19, 126, 35, 67, 122, 147, 109, 76, 147, 177, 183, 51, 124, 220, 263, 265, 3, 41, 188, 234, 187, 157, 287, 21, 99, 46, 214, 68, 8, 230, 284, 234, 258, 296, 192, 6, 281, 31, 238, 297, 34, 120, 20, 6, 230, 127, 242, 248, 147, 294, 165, 266, 268, 258, 82, 121, 221, 9, 80, 240, 67, 271, 35, 78, 253, 207, 161, 257, 38, 128, 281, 281, 170, 167, 40, 113, 12, 93, 126, 41, 258, 233, 71, 242, 209, 82, 97, 150, 90, 276, 264, 51, 222, 6, 204, 118, 263, 102, 177, 113, 106, 288, 58, 94, 299, 131, 95, 183, 184, 108, 190, 273, 279, 99, 227, 10, 274, 81, 272, 50, 65, 114, 52, 52, 10, 181, 36, 281, 6, 97, 214, 279, 143, 203, 244, 250, 151, 180, 185, 169, 66, 51, 21, 201, 275, 250, 58, 108, 1, 87, 127, 95, 81, 212, 250, 222, 171, 83, 145, 149, 185, 67, 275, 206, 242, 67, 229, 118, 124, 117, 179, 141, 65, 40, 111, 81, 152, 79, 104, 67, 119, 27, 107, 295, 43, 97, 193, 148, 255, 247, 284, 69, 84, 268, 234, 251, 169, 99, 233, 126, 103, 233, 24, 196, 70, 181, 150, 181, 110, 257, 31, 299, 195, 25, 289, 36, 75, 152, 37, 115, 116, 171, 218, 278, 198, 200, 204, 260, 211, 97, 220, 167, 261, 168, 281, 67, 161, 297, 202, 56, 53, 230, 27, 64, 171, 299, 179, 66, 276, 209, 204, 282, 71, 132, 64, 299, 158, 163, 111, 252, 14, 180, 202, 286, 250, 142, 48, 271, 148, 151, 282, 116, 232, 188, 5, 150, 242, 292, 48, 119, 158, 10, 89, 124, 211, 253, 182, 295, 81, 199, 126, 139, 59, 154, 212, 101, 89, 45, 289, 69, 120, 264, 217, 279, 163, 103, 153, 159, 183, 81, 282, 77, 77, 4, 229, 10, 292, 222, 235, 205, 283, 194, 166, 63, 56, 92, 57, 184, 48, 285, 146, 184, 233, 76, 164, 83, 74, 178, 263, 137, 272, 4, 102, 111, 83, 229, 7, 268, 26, 274, 100, 231, 80, 223, 226, 151, 219, 5, 144, 169, 68, 175, 257, 48, 243, 185, 145, 115, 239, 259, 36, 192, 256, 19, 252, 95, 284, 62, 192, 281, 299, 34, 290, 70, 166, 9, 102, 279, 225, 147, 175, 269, 16, 115, 181, 150, 200, 89, 1, 298, 132, 93, 24, 209, 231, 225, 67, 239, 47, 280, 101, 210, 164, 241, 115, 259, 261, 157, 224, 296, 223, 127, 22, 280, 28, 170, 15, 201, 102, 245, 266, 161, 20, 210, 251, 249, 53, 282, 76, 126, 243, 196, 220, 265, 110, 146, 242, 248, 17, 181, 23, 77, 106, 296, 290, 243, 93]"
   ]
  },
  {
   "cell_type": "code",
   "execution_count": 102,
   "metadata": {},
   "outputs": [],
   "source": [
    "# write your Python code here"
   ]
  },
  {
   "cell_type": "markdown",
   "metadata": {},
   "source": [
    "### Python Conditionals"
   ]
  },
  {
   "cell_type": "markdown",
   "metadata": {},
   "source": [
    "#### if and elif"
   ]
  },
  {
   "cell_type": "code",
   "execution_count": 103,
   "metadata": {},
   "outputs": [
    {
     "name": "stdout",
     "output_type": "stream",
     "text": [
      "this is an odd number\n",
      "this is an odd number\n",
      "this is an odd number\n",
      "this is an odd number\n",
      "this is an odd number\n",
      "this is an odd number\n",
      "this is an odd number\n",
      "this is an odd number\n",
      "this is an odd number\n",
      "this is an odd number\n",
      "this is an odd number\n",
      "this is an odd number\n",
      "this is an odd number\n",
      "this is an odd number\n",
      "this is an even number\n"
     ]
    }
   ],
   "source": [
    "for i in l:\n",
    "    if i % 2 == 0:\n",
    "        print('this is an even number')\n",
    "    else:\n",
    "        print('this is an odd number')"
   ]
  },
  {
   "cell_type": "code",
   "execution_count": 104,
   "metadata": {},
   "outputs": [
    {
     "name": "stdout",
     "output_type": "stream",
     "text": [
      "this is a prime number\n",
      "this is a prime number\n",
      "this is a prime number\n",
      "this is a prime number\n",
      "this is a prime number\n",
      "this is a prime number\n",
      "this is a prime number\n",
      "this is a prime number\n",
      "this is a prime number\n",
      "this is a prime number\n",
      "this is a prime number\n",
      "this is a prime number\n",
      "this is a prime number\n",
      "this is a multiple of 3\n",
      "this is an even number\n"
     ]
    }
   ],
   "source": [
    "for i in l:\n",
    "    if i % 2 == 0:\n",
    "        print('this is an even number')\n",
    "    elif i % 3 == 0:\n",
    "        print('this is a multiple of 3')\n",
    "    else:\n",
    "        print('this is a prime number')"
   ]
  },
  {
   "cell_type": "markdown",
   "metadata": {},
   "source": [
    "#### for loops"
   ]
  },
  {
   "cell_type": "code",
   "execution_count": 105,
   "metadata": {},
   "outputs": [
    {
     "name": "stdout",
     "output_type": "stream",
     "text": [
      "0\n",
      "1\n",
      "2\n",
      "3\n",
      "4\n",
      "5\n",
      "6\n",
      "7\n",
      "8\n",
      "9\n"
     ]
    }
   ],
   "source": [
    "for i in range(10):\n",
    "    print(i)"
   ]
  },
  {
   "cell_type": "code",
   "execution_count": 106,
   "metadata": {},
   "outputs": [
    {
     "name": "stdout",
     "output_type": "stream",
     "text": [
      "10\n",
      "11\n",
      "12\n",
      "13\n",
      "14\n",
      "15\n",
      "16\n",
      "17\n",
      "18\n",
      "19\n"
     ]
    }
   ],
   "source": [
    "for i in range(10, 20):\n",
    "    print(i)"
   ]
  },
  {
   "cell_type": "code",
   "execution_count": 107,
   "metadata": {},
   "outputs": [
    {
     "name": "stdout",
     "output_type": "stream",
     "text": [
      "1\n",
      "3\n",
      "5\n",
      "7\n"
     ]
    }
   ],
   "source": [
    "for i in range(1, 9, 2):\n",
    "    print(i)"
   ]
  },
  {
   "cell_type": "code",
   "execution_count": 108,
   "metadata": {},
   "outputs": [
    {
     "name": "stdout",
     "output_type": "stream",
     "text": [
      "m\n",
      "a\n",
      "c\n",
      "h\n",
      "i\n",
      "n\n",
      "e\n",
      " \n",
      "l\n",
      "e\n",
      "a\n",
      "r\n",
      "n\n",
      "i\n",
      "n\n",
      "g\n"
     ]
    }
   ],
   "source": [
    "s = 'machine learning'\n",
    "for ch in s:\n",
    "    print(ch)"
   ]
  },
  {
   "cell_type": "code",
   "execution_count": 109,
   "metadata": {},
   "outputs": [
    {
     "name": "stdout",
     "output_type": "stream",
     "text": [
      "1\n",
      "2\n",
      "3\n",
      "4\n"
     ]
    }
   ],
   "source": [
    "l = [1, 2, 3, 4]\n",
    "for v in l:\n",
    "    print(v)"
   ]
  },
  {
   "cell_type": "code",
   "execution_count": 110,
   "metadata": {},
   "outputs": [
    {
     "name": "stdout",
     "output_type": "stream",
     "text": [
      "1\n",
      "3\n"
     ]
    }
   ],
   "source": [
    "d = {1:2, 3:4}\n",
    "for k in d:\n",
    "    print(k)"
   ]
  },
  {
   "cell_type": "code",
   "execution_count": 111,
   "metadata": {},
   "outputs": [
    {
     "name": "stdout",
     "output_type": "stream",
     "text": [
      "2\n",
      "4\n"
     ]
    }
   ],
   "source": [
    "for v in d.values():\n",
    "    print(v)"
   ]
  },
  {
   "cell_type": "code",
   "execution_count": 112,
   "metadata": {},
   "outputs": [
    {
     "name": "stdout",
     "output_type": "stream",
     "text": [
      "(1, 2)\n",
      "(3, 4)\n"
     ]
    }
   ],
   "source": [
    "for p in d.items():\n",
    "    print(p)"
   ]
  },
  {
   "cell_type": "markdown",
   "metadata": {},
   "source": [
    "#### while loops"
   ]
  },
  {
   "cell_type": "code",
   "execution_count": 113,
   "metadata": {},
   "outputs": [
    {
     "name": "stdout",
     "output_type": "stream",
     "text": [
      "5050\n"
     ]
    }
   ],
   "source": [
    "summ, i = 0, 0\n",
    "while i <= 100:\n",
    "    summ += i\n",
    "    i += 1\n",
    "print(summ)"
   ]
  },
  {
   "cell_type": "code",
   "execution_count": 114,
   "metadata": {},
   "outputs": [
    {
     "name": "stdout",
     "output_type": "stream",
     "text": [
      "i\n",
      "like\n",
      "python\n"
     ]
    }
   ],
   "source": [
    "l = ['i', 'like', 'python']\n",
    "while l:\n",
    "    print(l.pop(0))"
   ]
  },
  {
   "cell_type": "code",
   "execution_count": 115,
   "metadata": {},
   "outputs": [
    {
     "data": {
      "text/plain": [
       "' # comment this line to run the code below\\nsent = input(\\'What can I help you?\\n\\')\\nwhile sent.lower() != \\'i give up!\\' and sent.lower() != \"i\\'m frustrated!\":\\n    sent = input(\\'Pardon?\\n\\')\\n#'"
      ]
     },
     "execution_count": 115,
     "metadata": {},
     "output_type": "execute_result"
    }
   ],
   "source": [
    "''' # comment this line to run the code below\n",
    "sent = input('What can I help you?\\n')\n",
    "while sent.lower() != 'i give up!' and sent.lower() != \"i'm frustrated!\":\n",
    "    sent = input('Pardon?\\n')\n",
    "#'''"
   ]
  },
  {
   "cell_type": "code",
   "execution_count": 116,
   "metadata": {},
   "outputs": [],
   "source": [
    "while None:\n",
    "    print('this is evaluated as False')\n",
    "while False:\n",
    "    print('this is evaluated as False')\n",
    "while 0:\n",
    "    print('this is evaluated as False')\n",
    "while '':\n",
    "    print('this is evaluated as False')\n",
    "while []:\n",
    "    print('this is evaluated as False')\n",
    "while {}:\n",
    "    print('this is evaluated as False')\n",
    "while float('NaN') == float('NaN'):\n",
    "    print('this is evaluated as False')"
   ]
  },
  {
   "cell_type": "code",
   "execution_count": 117,
   "metadata": {},
   "outputs": [
    {
     "name": "stdout",
     "output_type": "stream",
     "text": [
      "value of i is now 1\n",
      "value of i is now 3\n",
      "value of i is now 5\n"
     ]
    }
   ],
   "source": [
    "i = 0\n",
    "while i < 8:\n",
    "    i += 1\n",
    "    print('value of i is now', i)\n",
    "    if i == 5:\n",
    "        break\n",
    "    i += 1"
   ]
  },
  {
   "cell_type": "code",
   "execution_count": 118,
   "metadata": {},
   "outputs": [
    {
     "name": "stdout",
     "output_type": "stream",
     "text": [
      "value of i is now 1\n",
      "value of i is now 3\n",
      "value of i is now 5\n",
      "value of i is now 6\n",
      "value of i is now 8\n"
     ]
    }
   ],
   "source": [
    "i = 0\n",
    "while i < 8:\n",
    "    i += 1\n",
    "    print('value of i is now', i)\n",
    "    if i == 5:\n",
    "        continue\n",
    "    i += 1"
   ]
  },
  {
   "cell_type": "code",
   "execution_count": 119,
   "metadata": {},
   "outputs": [
    {
     "name": "stdout",
     "output_type": "stream",
     "text": [
      "no multiple of 37 found\n"
     ]
    }
   ],
   "source": [
    "j = 37\n",
    "for i in range(80, 110):\n",
    "    if i % j == 0:\n",
    "        break\n",
    "else:\n",
    "    print('no multiple of {:d} found'.format(j))"
   ]
  },
  {
   "cell_type": "code",
   "execution_count": 120,
   "metadata": {},
   "outputs": [
    {
     "name": "stdout",
     "output_type": "stream",
     "text": [
      "no multiple of 37 found\n"
     ]
    }
   ],
   "source": [
    "i, j = 80, 37\n",
    "while i <= 110:\n",
    "    if i % j == 0:\n",
    "        break\n",
    "    i += 1\n",
    "else:\n",
    "    print('no multiple of {:d} found'.format(j))"
   ]
  },
  {
   "cell_type": "markdown",
   "metadata": {},
   "source": [
    "### Exercise 1.12: find the first value appears 3 times in a list"
   ]
  },
  {
   "cell_type": "code",
   "execution_count": 121,
   "metadata": {},
   "outputs": [],
   "source": [
    "long_list = [11, 230, 127, 183, 142, 186, 256, 182, 184, 50, 266, 179, 22, 30, 59, 236, 155, 57, 262, 279, 107, 98, 271, 240, 276, 23, 170, 207, 123, 228, 231, 205, 30, 161, 125, 212, 224, 34, 272, 106, 164, 26, 263, 3, 234, 244, 3, 260, 135, 29, 116, 44, 206, 131, 218, 201, 140, 208, 130, 247, 256, 272, 208, 262, 227, 242, 112, 138, 192, 7, 268, 184, 168, 5, 246, 199, 6, 26, 300, 54, 260, 69, 64, 61, 15, 288, 190, 78, 165, 7, 178, 71, 62, 131, 26, 75, 2, 52, 164, 195, 75, 80, 212, 127, 201, 184, 78, 106, 90, 256, 33, 241, 208, 39, 32, 240, 160, 172, 108, 144, 116, 251, 106, 278, 120, 99, 22, 148, 6, 185, 136, 235, 208, 114, 22, 229, 88, 225, 112, 236, 250, 32, 152, 195, 0, 160, 252, 15, 173, 283, 72, 94, 76, 226, 4, 44, 28, 120, 175, 56, 262, 178, 249, 246, 19, 203, 196, 207, 33, 94, 216, 280, 102, 250, 74, 277, 159, 23, 80, 63, 124, 240, 166, 137, 14, 255, 252, 112, 41, 90, 187, 108, 2, 60, 147, 114, 266, 173, 183, 84, 10, 173, 35, 248, 124, 207, 163, 44, 2, 171, 142, 174, 219, 114, 30, 290, 239, 63, 42, 103, 61, 58, 181, 18, 111, 119, 99, 171, 210, 59, 142, 278, 213, 35, 286, 285, 227, 91, 232, 196, 11, 91, 192, 241, 1, 275, 76, 210, 160, 32, 272, 120, 176, 33, 65, 26, 2, 248, 262, 286, 199, 12, 107, 253, 150, 138, 157, 31, 250, 30, 95, 96, 105, 261, 276, 146, 195, 190, 217, 62, 138, 268, 134, 39, 164, 8, 46, 152, 93, 263, 232, 264, 272, 53, 283, 286, 218, 293, 238, 5, 122, 241, 76, 106, 85, 103, 221, 77, 74, 236, 1, 13, 144, 235, 27, 50, 7, 17, 157, 296, 111, 1, 176, 297, 286, 115, 187, 272, 66, 185, 145, 254, 20, 232, 49, 289, 285, 222, 199, 103, 65, 33, 3, 88, 157, 276, 29, 88, 226, 194, 219, 98, 58, 193, 2, 255, 126, 41, 112, 83, 104, 296, 219, 148, 274, 34, 2, 15, 267, 286, 252, 275, 126, 173, 225, 223, 121, 136, 257, 214, 7, 291, 84, 60, 93, 284, 112, 195, 162, 296, 277, 204, 297, 120, 62, 218, 247, 150, 274, 108, 78, 146, 180, 168, 231, 39, 79, 45, 139, 75, 0, 83, 158, 273, 258, 242, 36, 268, 287, 106, 284, 184, 64, 235, 14, 159, 57, 168, 4, 3, 185, 180, 132, 132, 270, 148, 39, 18, 178, 121, 250, 29, 96, 190, 234, 34, 225, 187, 57, 57, 260, 219, 126, 158, 72, 248, 47, 180, 219, 253, 10, 84, 86, 5, 210, 147, 122, 61, 143, 84, 164, 250, 233, 225, 73, 133, 123, 148, 124, 214, 5, 48, 172, 102, 133, 100, 57, 253, 13, 0, 31, 272, 2, 87, 292, 243, 53, 298, 35, 116, 282, 187, 287, 30, 108, 298, 63, 285, 289, 132, 204, 30, 230, 95, 117, 254, 128, 203, 55, 36, 147, 2, 285, 168, 214, 239, 93, 171, 288, 265, 202, 168, 161, 217, 189, 36, 101, 46, 100, 101, 50, 266, 263, 170, 19, 126, 35, 67, 122, 147, 109, 76, 147, 177, 183, 51, 124, 220, 263, 265, 3, 41, 188, 234, 187, 157, 287, 21, 99, 46, 214, 68, 8, 230, 284, 234, 258, 296, 192, 6, 281, 31, 238, 297, 34, 120, 20, 6, 230, 127, 242, 248, 147, 294, 165, 266, 268, 258, 82, 121, 221, 9, 80, 240, 67, 271, 35, 78, 253, 207, 161, 257, 38, 128, 281, 281, 170, 167, 40, 113, 12, 93, 126, 41, 258, 233, 71, 242, 209, 82, 97, 150, 90, 276, 264, 51, 222, 6, 204, 118, 263, 102, 177, 113, 106, 288, 58, 94, 299, 131, 95, 183, 184, 108, 190, 273, 279, 99, 227, 10, 274, 81, 272, 50, 65, 114, 52, 52, 10, 181, 36, 281, 6, 97, 214, 279, 143, 203, 244, 250, 151, 180, 185, 169, 66, 51, 21, 201, 275, 250, 58, 108, 1, 87, 127, 95, 81, 212, 250, 222, 171, 83, 145, 149, 185, 67, 275, 206, 242, 67, 229, 118, 124, 117, 179, 141, 65, 40, 111, 81, 152, 79, 104, 67, 119, 27, 107, 295, 43, 97, 193, 148, 255, 247, 284, 69, 84, 268, 234, 251, 169, 99, 233, 126, 103, 233, 24, 196, 70, 181, 150, 181, 110, 257, 31, 299, 195, 25, 289, 36, 75, 152, 37, 115, 116, 171, 218, 278, 198, 200, 204, 260, 211, 97, 220, 167, 261, 168, 281, 67, 161, 297, 202, 56, 53, 230, 27, 64, 171, 299, 179, 66, 276, 209, 204, 282, 71, 132, 64, 299, 158, 163, 111, 252, 14, 180, 202, 286, 250, 142, 48, 271, 148, 151, 282, 116, 232, 188, 5, 150, 242, 292, 48, 119, 158, 10, 89, 124, 211, 253, 182, 295, 81, 199, 126, 139, 59, 154, 212, 101, 89, 45, 289, 69, 120, 264, 217, 279, 163, 103, 153, 159, 183, 81, 282, 77, 77, 4, 229, 10, 292, 222, 235, 205, 283, 194, 166, 63, 56, 92, 57, 184, 48, 285, 146, 184, 233, 76, 164, 83, 74, 178, 263, 137, 272, 4, 102, 111, 83, 229, 7, 268, 26, 274, 100, 231, 80, 223, 226, 151, 219, 5, 144, 169, 68, 175, 257, 48, 243, 185, 145, 115, 239, 259, 36, 192, 256, 19, 252, 95, 284, 62, 192, 281, 299, 34, 290, 70, 166, 9, 102, 279, 225, 147, 175, 269, 16, 115, 181, 150, 200, 89, 1, 298, 132, 93, 24, 209, 231, 225, 67, 239, 47, 280, 101, 210, 164, 241, 115, 259, 261, 157, 224, 296, 223, 127, 22, 280, 28, 170, 15, 201, 102, 245, 266, 161, 20, 210, 251, 249, 53, 282, 76, 126, 243, 196, 220, 265, 110, 146, 242, 248, 17, 181, 23, 77, 106, 296, 290, 243, 93]"
   ]
  },
  {
   "cell_type": "code",
   "execution_count": 122,
   "metadata": {},
   "outputs": [],
   "source": [
    "# write your Python code here"
   ]
  },
  {
   "cell_type": "markdown",
   "metadata": {},
   "source": [
    "### Exercise 1.13: print the following pattern of 10 rows and 19 columns"
   ]
  },
  {
   "cell_type": "markdown",
   "metadata": {},
   "source": [
    "```\n",
    "*******************\n",
    "---------*---------\n",
    "********---********\n",
    "-------*****-------\n",
    "******-------******\n",
    "-----*********-----\n",
    "****-----------****\n",
    "---*************---\n",
    "**---------------**\n",
    "-*****************-\n",
    "```"
   ]
  },
  {
   "cell_type": "code",
   "execution_count": 123,
   "metadata": {},
   "outputs": [],
   "source": [
    "# write your Python code here"
   ]
  },
  {
   "cell_type": "markdown",
   "metadata": {},
   "source": [
    "### List & dictionary comprehension"
   ]
  },
  {
   "cell_type": "code",
   "execution_count": 124,
   "metadata": {
    "scrolled": true
   },
   "outputs": [
    {
     "name": "stdout",
     "output_type": "stream",
     "text": [
      "[9, 25, 49, 81, 121, 169, 225, 289, 361, 441, 529, 625, 729, 841, 961, 1089, 1225, 1369]\n"
     ]
    }
   ],
   "source": [
    "a = [i**2 for i in range(3, 39, 2)]\n",
    "print(a)"
   ]
  },
  {
   "cell_type": "code",
   "execution_count": 125,
   "metadata": {},
   "outputs": [
    {
     "name": "stdout",
     "output_type": "stream",
     "text": [
      "{9: 0, 25: 1, 49: 2, 81: 3, 121: 4, 169: 5, 225: 6, 289: 7, 361: 8, 441: 9, 529: 10, 625: 11, 729: 12, 841: 13, 961: 14, 1089: 15, 1225: 16, 1369: 17}\n"
     ]
    }
   ],
   "source": [
    "b = {a[i]:i for i in range(len(a))}\n",
    "print(b)"
   ]
  },
  {
   "cell_type": "markdown",
   "metadata": {},
   "source": [
    "### Exercise 4: Construct a geometric progression\n",
    "print first 20 terms, use list comprehension"
   ]
  },
  {
   "cell_type": "code",
   "execution_count": 126,
   "metadata": {},
   "outputs": [],
   "source": [
    "first_term, ratio = 512, 1.5"
   ]
  },
  {
   "cell_type": "code",
   "execution_count": 127,
   "metadata": {},
   "outputs": [],
   "source": [
    "# Write your Python code"
   ]
  },
  {
   "cell_type": "markdown",
   "metadata": {},
   "source": [
    "### Exercise 5: find the start time of Einstein’s presentation\n",
    "\n",
    "Suppose a presentation session at a conference starts at 8:20am, each speaker is given 20 minutes and they present in the ascending order of their surname, when does Einstein start to present? "
   ]
  },
  {
   "cell_type": "code",
   "execution_count": 128,
   "metadata": {},
   "outputs": [],
   "source": [
    "physicists = ['Erwin Schroedinger', 'Wolfgang Pauli', 'Max Born', 'Niels Bohr', 'Max Planck', 'Madame Curie', 'Hendrik Antoon Lorentz', 'Albert Einstein', 'Paul Langevin', 'Louis Victor de Broglie', 'Paul Dirac', 'Werner Heisenberg']"
   ]
  },
  {
   "cell_type": "code",
   "execution_count": 129,
   "metadata": {},
   "outputs": [],
   "source": [
    "# write your Python code here"
   ]
  },
  {
   "cell_type": "markdown",
   "metadata": {},
   "source": [
    "### Final exercise: list words that have appeared at least 3 times"
   ]
  },
  {
   "cell_type": "code",
   "execution_count": 130,
   "metadata": {},
   "outputs": [],
   "source": [
    "speech = ['the United States has conducted an operation that killed Osama bin Laden',\n",
    "         'Abu Bakr al-Baghdadi is dead',\n",
    "         'the United States launched a targeted operation against that compound',\n",
    "         'they did a lot of shooting and they did a lot of blasting even not going through the front door You know you would think you go through the door If you are a normal person you say Knock knock  May I come in',\n",
    "         'After a firefight they killed Osama bin Laden and took custody of his body',\n",
    "         'He died like a dog',\n",
    "         'Yet his death does not mark the end of our effort',\n",
    "         'a beautiful dog a talented dog',\n",
    "         'We give thanks for the men who carried out this operation',\n",
    "         'And I dont get any credit for this but thats okay I never do But here we are',\n",
    "         'May God bless you And may God bless the United States of America',\n",
    "         'And Im writing a book I think I wrote 12 books All did very well']"
   ]
  },
  {
   "cell_type": "code",
   "execution_count": 131,
   "metadata": {},
   "outputs": [],
   "source": [
    "# write your Python code here"
   ]
  }
 ],
 "metadata": {
  "kernelspec": {
   "display_name": "Python 3",
   "language": "python",
   "name": "python3"
  },
  "language_info": {
   "codemirror_mode": {
    "name": "ipython",
    "version": 3
   },
   "file_extension": ".py",
   "mimetype": "text/x-python",
   "name": "python",
   "nbconvert_exporter": "python",
   "pygments_lexer": "ipython3",
   "version": "3.8.8"
  }
 },
 "nbformat": 4,
 "nbformat_minor": 4
}
